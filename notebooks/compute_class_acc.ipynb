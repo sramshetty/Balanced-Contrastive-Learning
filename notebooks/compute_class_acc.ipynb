{
  "cells": [
    {
      "cell_type": "markdown",
      "metadata": {
        "id": "uceFk5JIGJWv"
      },
      "source": [
        "### Environment Setup"
      ]
    },
    {
      "cell_type": "markdown",
      "metadata": {
        "id": "k6tw3LkYGPxd"
      },
      "source": [
        "#### Colab Specifics"
      ]
    },
    {
      "cell_type": "code",
      "source": [
        "%cd /content/\n",
        "%pwd\n",
        "!git clone https://github.com/sramshetty/Balanced-Contrastive-Learning.git\n",
        "%cd Balanced-Contrastive-Learning/"
      ],
      "metadata": {
        "colab": {
          "base_uri": "https://localhost:8080/"
        },
        "id": "T_NL1jqqkcza",
        "outputId": "6307aacc-62db-498d-f243-fd93f7938c7e"
      },
      "execution_count": 3,
      "outputs": [
        {
          "output_type": "stream",
          "name": "stdout",
          "text": [
            "/content\n",
            "fatal: destination path 'Balanced-Contrastive-Learning' already exists and is not an empty directory.\n",
            "/content/Balanced-Contrastive-Learning\n"
          ]
        }
      ]
    },
    {
      "cell_type": "code",
      "execution_count": 4,
      "metadata": {
        "colab": {
          "base_uri": "https://localhost:8080/"
        },
        "id": "g5X7_3Gi4mcT",
        "outputId": "eb6a7cf3-f628-4d17-e62e-53b4fb15394d"
      },
      "outputs": [
        {
          "output_type": "stream",
          "name": "stdout",
          "text": [
            "Already up to date.\n"
          ]
        }
      ],
      "source": [
        "!git pull"
      ]
    },
    {
      "cell_type": "code",
      "execution_count": 5,
      "metadata": {
        "id": "Q05F9PJwHHPq"
      },
      "outputs": [],
      "source": [
        "import os\n",
        "os.environ['CUDA_LAUNCH_BLOCKING'] = \"1\""
      ]
    },
    {
      "cell_type": "markdown",
      "metadata": {
        "id": "RflmtK60GSN_"
      },
      "source": [
        "#### General Setup"
      ]
    },
    {
      "cell_type": "code",
      "execution_count": 24,
      "metadata": {
        "id": "Dx1eWYO_GNaN"
      },
      "outputs": [],
      "source": [
        "import torch\n",
        "import torchvision\n",
        "from torchvision.transforms import transforms\n",
        "from torch.utils.data import DataLoader\n",
        "import torch.nn as nn\n",
        "import numpy as np\n",
        "\n",
        "from tqdm import tqdm\n",
        "import seaborn as sn\n",
        "import pandas as pd\n",
        "from sklearn.metrics import confusion_matrix, accuracy_score, plot_confusion_matrix\n",
        "import matplotlib.pyplot as plt\n",
        "\n",
        "# from dataset.cifar import IMBALANCECIFAR10, IMBALANCECIFAR100"
      ]
    },
    {
      "cell_type": "code",
      "execution_count": 7,
      "metadata": {
        "id": "Y0o96CeuKAC1",
        "colab": {
          "base_uri": "https://localhost:8080/",
          "height": 36
        },
        "outputId": "02173570-c416-4c5a-d2a3-74dec3932521"
      },
      "outputs": [
        {
          "output_type": "execute_result",
          "data": {
            "text/plain": [
              "'cpu'"
            ],
            "application/vnd.google.colaboratory.intrinsic+json": {
              "type": "string"
            }
          },
          "metadata": {},
          "execution_count": 7
        }
      ],
      "source": [
        "%load_ext autoreload\n",
        "%autoreload 2\n",
        "\n",
        "device = \"cuda\" if torch.cuda.is_available() else \"cpu\"\n",
        "device"
      ]
    },
    {
      "cell_type": "code",
      "execution_count": null,
      "metadata": {
        "colab": {
          "base_uri": "https://localhost:8080/"
        },
        "id": "gUVIC9_QPY6z",
        "outputId": "bb517141-2cd1-4c3e-b8f2-7ba074985e8a"
      },
      "outputs": [
        {
          "output_type": "stream",
          "name": "stdout",
          "text": [
            "Looking in indexes: https://pypi.org/simple, https://us-python.pkg.dev/colab-wheels/public/simple/\n",
            "Requirement already satisfied: vit-pytorch in /usr/local/lib/python3.7/dist-packages (0.38.1)\n",
            "Requirement already satisfied: torchvision in /usr/local/lib/python3.7/dist-packages (from vit-pytorch) (0.13.1+cu113)\n",
            "Requirement already satisfied: torch>=1.10 in /usr/local/lib/python3.7/dist-packages (from vit-pytorch) (1.12.1+cu113)\n",
            "Requirement already satisfied: einops>=0.4.1 in /usr/local/lib/python3.7/dist-packages (from vit-pytorch) (0.6.0)\n",
            "Requirement already satisfied: typing-extensions in /usr/local/lib/python3.7/dist-packages (from torch>=1.10->vit-pytorch) (4.1.1)\n",
            "Requirement already satisfied: numpy in /usr/local/lib/python3.7/dist-packages (from torchvision->vit-pytorch) (1.21.6)\n",
            "Requirement already satisfied: pillow!=8.3.*,>=5.3.0 in /usr/local/lib/python3.7/dist-packages (from torchvision->vit-pytorch) (7.1.2)\n",
            "Requirement already satisfied: requests in /usr/local/lib/python3.7/dist-packages (from torchvision->vit-pytorch) (2.23.0)\n",
            "Requirement already satisfied: certifi>=2017.4.17 in /usr/local/lib/python3.7/dist-packages (from requests->torchvision->vit-pytorch) (2022.9.24)\n",
            "Requirement already satisfied: chardet<4,>=3.0.2 in /usr/local/lib/python3.7/dist-packages (from requests->torchvision->vit-pytorch) (3.0.4)\n",
            "Requirement already satisfied: urllib3!=1.25.0,!=1.25.1,<1.26,>=1.21.1 in /usr/local/lib/python3.7/dist-packages (from requests->torchvision->vit-pytorch) (1.24.3)\n",
            "Requirement already satisfied: idna<3,>=2.5 in /usr/local/lib/python3.7/dist-packages (from requests->torchvision->vit-pytorch) (2.10)\n"
          ]
        }
      ],
      "source": [
        "!pip install vit-pytorch"
      ]
    },
    {
      "cell_type": "markdown",
      "metadata": {
        "id": "-DlTlC8hBBmw"
      },
      "source": [
        "### Load Data"
      ]
    },
    {
      "cell_type": "markdown",
      "metadata": {
        "id": "KP-ADCZzBKnM"
      },
      "source": [
        "CIFAR-10-LT"
      ]
    },
    {
      "cell_type": "code",
      "execution_count": 8,
      "metadata": {
        "id": "rWigmKOHBYen"
      },
      "outputs": [],
      "source": [
        "transform = transforms.Compose(\n",
        "        [transforms.ToTensor(),\n",
        "         transforms.Normalize((0.5, 0.5, 0.5), (0.5, 0.5, 0.5))])"
      ]
    },
    {
      "cell_type": "code",
      "execution_count": 13,
      "metadata": {
        "colab": {
          "base_uri": "https://localhost:8080/",
          "height": 102,
          "referenced_widgets": [
            "7cf68cb52151448d9df198ed0c758569",
            "130f1462725b47ce8bb1fdacd08a741f",
            "2fad8b38fc494894a91e549429b936a8",
            "4f2fdc2a491a40a690289bae6de1e970",
            "b69b92b4b806474ebbe6082d73a1296a",
            "3f208360ea83488ba2e0c0e2d29e55c6",
            "5a166d5f3d4242fcb2a62b08c66fd3af",
            "e2699a7b92ef4ecc8c44836c324cd1dc",
            "1b56e7658ef1440396d740926f5a3e64",
            "9a686a4299e945869bc7a517395f7b0a",
            "21e547e653c143efa48e1f8ce7e91759"
          ]
        },
        "id": "DT74i9GE6gyi",
        "outputId": "9e7c5cef-d4b7-4d54-c5b3-1b19dfc91d6d"
      },
      "outputs": [
        {
          "output_type": "stream",
          "name": "stdout",
          "text": [
            "Downloading https://www.cs.toronto.edu/~kriz/cifar-10-python.tar.gz to /DATACENTER/3/zjg/cifar/cifar-10-python.tar.gz\n"
          ]
        },
        {
          "output_type": "display_data",
          "data": {
            "text/plain": [
              "  0%|          | 0/170498071 [00:00<?, ?it/s]"
            ],
            "application/vnd.jupyter.widget-view+json": {
              "version_major": 2,
              "version_minor": 0,
              "model_id": "7cf68cb52151448d9df198ed0c758569"
            }
          },
          "metadata": {}
        },
        {
          "output_type": "stream",
          "name": "stdout",
          "text": [
            "Extracting /DATACENTER/3/zjg/cifar/cifar-10-python.tar.gz to /DATACENTER/3/zjg/cifar\n",
            "Files already downloaded and verified\n"
          ]
        }
      ],
      "source": [
        "cifar10_trainDataset = IMBALANCECIFAR10(root='/DATACENTER/3/zjg/cifar', train=True,\n",
        "                                 download=True, transform=transform)\n",
        "cifar10_testDataset = IMBALANCECIFAR10(root='/DATACENTER/3/zjg/cifar', train=False,\n",
        "                                 download=True, transform=transform)"
      ]
    },
    {
      "cell_type": "code",
      "execution_count": null,
      "metadata": {
        "colab": {
          "base_uri": "https://localhost:8080/"
        },
        "id": "R73G5IHR9c3d",
        "outputId": "62231b42-1cb2-49a8-e9ed-e4ca1487bbf1"
      },
      "outputs": [
        {
          "output_type": "stream",
          "name": "stdout",
          "text": [
            "12406\n",
            "2478\n",
            "[5000, 2997, 1796, 1077, 645, 387, 232, 139, 83, 50]\n"
          ]
        }
      ],
      "source": [
        "# Data size\n",
        "print(len(cifar10_trainDataset.data))\n",
        "print(len(cifar10_testDataset.data))\n",
        "print(cifar10_trainDataset.get_cls_num_list())"
      ]
    },
    {
      "cell_type": "code",
      "execution_count": null,
      "metadata": {
        "id": "Vh8QsYirBQeR"
      },
      "outputs": [],
      "source": [
        "cifar10_train_loader = DataLoader(cifar10_trainDataset, batch_size=64, shuffle=True, pin_memory=True)\n",
        "cifar10_test_loader = DataLoader(cifar10_testDataset, batch_size=64, shuffle=False, pin_memory=True)"
      ]
    },
    {
      "cell_type": "markdown",
      "metadata": {
        "id": "Ow4GlLRxBNK9"
      },
      "source": [
        "CIFAR-100-LT"
      ]
    },
    {
      "cell_type": "code",
      "execution_count": 9,
      "metadata": {
        "colab": {
          "base_uri": "https://localhost:8080/"
        },
        "id": "-Qj4u9EDBMn5",
        "outputId": "fc868223-021a-4bab-e344-c6a6206b90b3"
      },
      "outputs": [
        {
          "output_type": "stream",
          "name": "stdout",
          "text": [
            "Files already downloaded and verified\n",
            "Files already downloaded and verified\n"
          ]
        }
      ],
      "source": [
        "cifar100_trainDataset = IMBALANCECIFAR100(root='/DATACENTER/3/zjg/cifar', train=True,\n",
        "                                 download=True, transform=transform)\n",
        "cifar100_testDataset = IMBALANCECIFAR100(root='/DATACENTER/3/zjg/cifar', train=False,\n",
        "                                 download=True, transform=transform)"
      ]
    },
    {
      "cell_type": "code",
      "execution_count": null,
      "metadata": {
        "colab": {
          "base_uri": "https://localhost:8080/"
        },
        "id": "tmBRU8A_Bt6C",
        "outputId": "c21e71ab-a36d-4817-d9c8-dc0c9d9fa3fe"
      },
      "outputs": [
        {
          "output_type": "stream",
          "name": "stdout",
          "text": [
            "10847\n",
            "2131\n",
            "[500, 477, 455, 434, 415, 396, 378, 361, 344, 328, 314, 299, 286, 273, 260, 248, 237, 226, 216, 206, 197, 188, 179, 171, 163, 156, 149, 142, 135, 129, 123, 118, 112, 107, 102, 98, 93, 89, 85, 81, 77, 74, 70, 67, 64, 61, 58, 56, 53, 51, 48, 46, 44, 42, 40, 38, 36, 35, 33, 32, 30, 29, 27, 26, 25, 24, 23, 22, 21, 20, 19, 18, 17, 16, 15, 15, 14, 13, 13, 12, 12, 11, 11, 10, 10, 9, 9, 8, 8, 7, 7, 7, 6, 6, 6, 6, 5, 5, 5, 5]\n"
          ]
        }
      ],
      "source": [
        "# Data size\n",
        "print(len(cifar100_trainDataset.data))\n",
        "print(len(cifar100_testDataset.data))\n",
        "print(cifar100_trainDataset.get_cls_num_list())"
      ]
    },
    {
      "cell_type": "code",
      "execution_count": null,
      "metadata": {
        "id": "TVnUZBLlGvFh"
      },
      "outputs": [],
      "source": [
        "cifar100_train_loader = DataLoader(cifar100_trainDataset, batch_size=64, shuffle=True, pin_memory=True)\n",
        "cifar100_test_loader = DataLoader(cifar100_testDataset, batch_size=64, shuffle=False, pin_memory=True)"
      ]
    },
    {
      "cell_type": "markdown",
      "metadata": {
        "id": "_0DGycFXBF0U"
      },
      "source": [
        "## Supervised Results"
      ]
    },
    {
      "cell_type": "code",
      "execution_count": null,
      "metadata": {
        "id": "cvyxHiY_NqCW"
      },
      "outputs": [],
      "source": [
        "def basic_train(model, train_loader, optimizer, criterion, n_epochs=100):\n",
        "    model.to(device)\n",
        "    model.train()\n",
        "\n",
        "    accs = []\n",
        "    losses = []\n",
        "\n",
        "    for epoch in range(n_epochs):\n",
        "        epoch_loss = 0\n",
        "        epoch_correct = 0\n",
        "        num_preds = 0\n",
        "\n",
        "        print(f\"Epoch {epoch}\")\n",
        "        for data, targets in tqdm(train_loader):\n",
        "            optimizer.zero_grad()\n",
        "\n",
        "            data = data.to(device)\n",
        "            targets = targets.to(device)\n",
        "            batch_size = targets.size()[0]\n",
        "\n",
        "            logits = model(data)\n",
        "\n",
        "            loss = criterion(logits, targets)\n",
        "            epoch_loss += loss.item()\n",
        "            loss.backward()\n",
        "\n",
        "            epoch_correct += torch.sum(torch.argmax(logits, dim=1) == targets).item()\n",
        "            num_preds += batch_size\n",
        "\n",
        "            optimizer.step()\n",
        "        \n",
        "        epoch_acc = epoch_correct / num_preds\n",
        "        accs.append(epoch_acc)\n",
        "        losses.append(epoch_loss)\n",
        "\n",
        "        print(f\"Loss = {epoch_loss}\")\n",
        "        print(f\"Accuracy = {epoch_acc}\")\n",
        "\n",
        "    model.cpu()\n",
        "    return accs, losses\n",
        "\n",
        "def basic_test(model, test_loader, criterion):\n",
        "    model.to(device)\n",
        "    model.eval()\n",
        "\n",
        "    preds = []\n",
        "    labels = []\n",
        "\n",
        "    with torch.no_grad():\n",
        "        epoch_loss = 0\n",
        "        for data, targets in tqdm(test_loader):\n",
        "            data = data.to(device)\n",
        "            targets =targets.to(device)\n",
        "\n",
        "            logits = model(data)\n",
        "\n",
        "            loss = criterion(logits, targets)\n",
        "            epoch_loss += loss.item()\n",
        "\n",
        "            preds += torch.argmax(logits, dim=1).view(-1).cpu().detach().tolist()\n",
        "            labels += targets.cpu().detach().tolist()\n",
        "\n",
        "        print(\"Test Loss = \", epoch_loss)\n",
        "\n",
        "    model.cpu()\n",
        "    return preds, labels"
      ]
    },
    {
      "cell_type": "code",
      "execution_count": null,
      "metadata": {
        "id": "U66a_12UUN_r"
      },
      "outputs": [],
      "source": [
        "criterion = nn.CrossEntropyLoss()"
      ]
    },
    {
      "cell_type": "markdown",
      "metadata": {
        "id": "hh8pea17k6_w"
      },
      "source": [
        "### CIFAR-10-LT\n",
        "\n"
      ]
    },
    {
      "cell_type": "markdown",
      "metadata": {
        "id": "1vpYoubZNGXY"
      },
      "source": [
        "#### ResNet Models"
      ]
    },
    {
      "cell_type": "code",
      "execution_count": null,
      "metadata": {
        "id": "cb59ORg2NEjK"
      },
      "outputs": [],
      "source": [
        "from torchvision.models import resnet34, ResNet34_Weights"
      ]
    },
    {
      "cell_type": "markdown",
      "metadata": {
        "id": "wMUY0gOnNjXp"
      },
      "source": [
        "ResNet-34 Trained from Scratch"
      ]
    },
    {
      "cell_type": "code",
      "execution_count": null,
      "metadata": {
        "colab": {
          "base_uri": "https://localhost:8080/"
        },
        "id": "LRcmyFWqNhHl",
        "outputId": "f625f3b4-14c8-44b0-c7b9-a310168d9e46"
      },
      "outputs": [
        {
          "output_type": "stream",
          "name": "stdout",
          "text": [
            "Epoch 0\n"
          ]
        },
        {
          "output_type": "stream",
          "name": "stderr",
          "text": [
            "100%|██████████| 194/194 [00:23<00:00,  8.30it/s]\n"
          ]
        },
        {
          "output_type": "stream",
          "name": "stdout",
          "text": [
            "Loss = 382.2285565137863\n",
            "Accuracy = 0.4365629534096405\n",
            "Epoch 1\n"
          ]
        },
        {
          "output_type": "stream",
          "name": "stderr",
          "text": [
            "100%|██████████| 194/194 [00:16<00:00, 11.82it/s]\n"
          ]
        },
        {
          "output_type": "stream",
          "name": "stdout",
          "text": [
            "Loss = 259.66091310977936\n",
            "Accuracy = 0.5311945832661615\n",
            "Epoch 2\n"
          ]
        },
        {
          "output_type": "stream",
          "name": "stderr",
          "text": [
            "100%|██████████| 194/194 [00:15<00:00, 12.52it/s]\n"
          ]
        },
        {
          "output_type": "stream",
          "name": "stdout",
          "text": [
            "Loss = 216.23099905252457\n",
            "Accuracy = 0.6178462034499436\n",
            "Epoch 3\n"
          ]
        },
        {
          "output_type": "stream",
          "name": "stderr",
          "text": [
            "100%|██████████| 194/194 [00:16<00:00, 12.01it/s]\n"
          ]
        },
        {
          "output_type": "stream",
          "name": "stdout",
          "text": [
            "Loss = 198.086345911026\n",
            "Accuracy = 0.6520232145735935\n",
            "Epoch 4\n"
          ]
        },
        {
          "output_type": "stream",
          "name": "stderr",
          "text": [
            "100%|██████████| 194/194 [00:16<00:00, 11.62it/s]\n"
          ]
        },
        {
          "output_type": "stream",
          "name": "stdout",
          "text": [
            "Loss = 182.32195591926575\n",
            "Accuracy = 0.6849105271642754\n",
            "Epoch 5\n"
          ]
        },
        {
          "output_type": "stream",
          "name": "stderr",
          "text": [
            "100%|██████████| 194/194 [00:16<00:00, 11.66it/s]\n"
          ]
        },
        {
          "output_type": "stream",
          "name": "stdout",
          "text": [
            "Loss = 175.17911046743393\n",
            "Accuracy = 0.6978075124939546\n",
            "Epoch 6\n"
          ]
        },
        {
          "output_type": "stream",
          "name": "stderr",
          "text": [
            "100%|██████████| 194/194 [00:15<00:00, 12.30it/s]\n"
          ]
        },
        {
          "output_type": "stream",
          "name": "stdout",
          "text": [
            "Loss = 164.75151526927948\n",
            "Accuracy = 0.714331774947606\n",
            "Epoch 7\n"
          ]
        },
        {
          "output_type": "stream",
          "name": "stderr",
          "text": [
            "100%|██████████| 194/194 [00:15<00:00, 12.54it/s]\n"
          ]
        },
        {
          "output_type": "stream",
          "name": "stdout",
          "text": [
            "Loss = 156.8748990893364\n",
            "Accuracy = 0.7281154280187007\n",
            "Epoch 8\n"
          ]
        },
        {
          "output_type": "stream",
          "name": "stderr",
          "text": [
            "100%|██████████| 194/194 [00:16<00:00, 11.92it/s]\n"
          ]
        },
        {
          "output_type": "stream",
          "name": "stdout",
          "text": [
            "Loss = 156.2521566748619\n",
            "Accuracy = 0.7274705787522167\n",
            "Epoch 9\n"
          ]
        },
        {
          "output_type": "stream",
          "name": "stderr",
          "text": [
            "100%|██████████| 194/194 [00:15<00:00, 12.26it/s]\n"
          ]
        },
        {
          "output_type": "stream",
          "name": "stdout",
          "text": [
            "Loss = 146.02886629104614\n",
            "Accuracy = 0.7472996936965984\n",
            "Epoch 10\n"
          ]
        },
        {
          "output_type": "stream",
          "name": "stderr",
          "text": [
            "100%|██████████| 194/194 [00:15<00:00, 12.36it/s]\n"
          ]
        },
        {
          "output_type": "stream",
          "name": "stdout",
          "text": [
            "Loss = 133.5399297773838\n",
            "Accuracy = 0.7678542640657746\n",
            "Epoch 11\n"
          ]
        },
        {
          "output_type": "stream",
          "name": "stderr",
          "text": [
            "100%|██████████| 194/194 [00:15<00:00, 12.31it/s]\n"
          ]
        },
        {
          "output_type": "stream",
          "name": "stdout",
          "text": [
            "Loss = 126.73347270488739\n",
            "Accuracy = 0.7810736740286958\n",
            "Epoch 12\n"
          ]
        },
        {
          "output_type": "stream",
          "name": "stderr",
          "text": [
            "100%|██████████| 194/194 [00:16<00:00, 11.98it/s]\n"
          ]
        },
        {
          "output_type": "stream",
          "name": "stdout",
          "text": [
            "Loss = 120.52386635541916\n",
            "Accuracy = 0.7896985329679187\n",
            "Epoch 13\n"
          ]
        },
        {
          "output_type": "stream",
          "name": "stderr",
          "text": [
            "100%|██████████| 194/194 [00:15<00:00, 12.35it/s]\n"
          ]
        },
        {
          "output_type": "stream",
          "name": "stdout",
          "text": [
            "Loss = 109.7722595334053\n",
            "Accuracy = 0.80944704175399\n",
            "Epoch 14\n"
          ]
        },
        {
          "output_type": "stream",
          "name": "stderr",
          "text": [
            "100%|██████████| 194/194 [00:15<00:00, 12.58it/s]\n"
          ]
        },
        {
          "output_type": "stream",
          "name": "stdout",
          "text": [
            "Loss = 107.64649617671967\n",
            "Accuracy = 0.8160567467354506\n",
            "Epoch 15\n"
          ]
        },
        {
          "output_type": "stream",
          "name": "stderr",
          "text": [
            "100%|██████████| 194/194 [00:15<00:00, 12.38it/s]\n"
          ]
        },
        {
          "output_type": "stream",
          "name": "stdout",
          "text": [
            "Loss = 95.40137612819672\n",
            "Accuracy = 0.8317749476059971\n",
            "Epoch 16\n"
          ]
        },
        {
          "output_type": "stream",
          "name": "stderr",
          "text": [
            "100%|██████████| 194/194 [00:16<00:00, 11.97it/s]\n"
          ]
        },
        {
          "output_type": "stream",
          "name": "stdout",
          "text": [
            "Loss = 87.2627542167902\n",
            "Accuracy = 0.8431404159277769\n",
            "Epoch 17\n"
          ]
        },
        {
          "output_type": "stream",
          "name": "stderr",
          "text": [
            "100%|██████████| 194/194 [00:15<00:00, 12.44it/s]\n"
          ]
        },
        {
          "output_type": "stream",
          "name": "stdout",
          "text": [
            "Loss = 78.08941592276096\n",
            "Accuracy = 0.8595034660648073\n",
            "Epoch 18\n"
          ]
        },
        {
          "output_type": "stream",
          "name": "stderr",
          "text": [
            "100%|██████████| 194/194 [00:16<00:00, 12.08it/s]\n"
          ]
        },
        {
          "output_type": "stream",
          "name": "stdout",
          "text": [
            "Loss = 72.87595757842064\n",
            "Accuracy = 0.8711107528615186\n",
            "Epoch 19\n"
          ]
        },
        {
          "output_type": "stream",
          "name": "stderr",
          "text": [
            "100%|██████████| 194/194 [00:16<00:00, 12.02it/s]\n"
          ]
        },
        {
          "output_type": "stream",
          "name": "stdout",
          "text": [
            "Loss = 61.30721037834883\n",
            "Accuracy = 0.8919071417056263\n",
            "Epoch 20\n"
          ]
        },
        {
          "output_type": "stream",
          "name": "stderr",
          "text": [
            "100%|██████████| 194/194 [00:15<00:00, 12.31it/s]\n"
          ]
        },
        {
          "output_type": "stream",
          "name": "stdout",
          "text": [
            "Loss = 56.26574546843767\n",
            "Accuracy = 0.9031113977107851\n",
            "Epoch 21\n"
          ]
        },
        {
          "output_type": "stream",
          "name": "stderr",
          "text": [
            "100%|██████████| 194/194 [00:15<00:00, 12.37it/s]\n"
          ]
        },
        {
          "output_type": "stream",
          "name": "stdout",
          "text": [
            "Loss = 49.832262106239796\n",
            "Accuracy = 0.9147186845074964\n",
            "Epoch 22\n"
          ]
        },
        {
          "output_type": "stream",
          "name": "stderr",
          "text": [
            "100%|██████████| 194/194 [00:15<00:00, 12.46it/s]\n"
          ]
        },
        {
          "output_type": "stream",
          "name": "stdout",
          "text": [
            "Loss = 42.35718277096748\n",
            "Accuracy = 0.9256005158794132\n",
            "Epoch 23\n"
          ]
        },
        {
          "output_type": "stream",
          "name": "stderr",
          "text": [
            "100%|██████████| 194/194 [00:16<00:00, 11.85it/s]\n"
          ]
        },
        {
          "output_type": "stream",
          "name": "stdout",
          "text": [
            "Loss = 40.45154129713774\n",
            "Accuracy = 0.9290665806867645\n",
            "Epoch 24\n"
          ]
        },
        {
          "output_type": "stream",
          "name": "stderr",
          "text": [
            "100%|██████████| 194/194 [00:15<00:00, 12.63it/s]\n"
          ]
        },
        {
          "output_type": "stream",
          "name": "stdout",
          "text": [
            "Loss = 35.32641898095608\n",
            "Accuracy = 0.9347090117684991\n",
            "Epoch 25\n"
          ]
        },
        {
          "output_type": "stream",
          "name": "stderr",
          "text": [
            "100%|██████████| 194/194 [00:15<00:00, 12.52it/s]\n"
          ]
        },
        {
          "output_type": "stream",
          "name": "stdout",
          "text": [
            "Loss = 34.01425019837916\n",
            "Accuracy = 0.9402708366919232\n",
            "Epoch 26\n"
          ]
        },
        {
          "output_type": "stream",
          "name": "stderr",
          "text": [
            "100%|██████████| 194/194 [00:15<00:00, 12.32it/s]\n"
          ]
        },
        {
          "output_type": "stream",
          "name": "stdout",
          "text": [
            "Loss = 29.47924720775336\n",
            "Accuracy = 0.9500241818474932\n",
            "Epoch 27\n"
          ]
        },
        {
          "output_type": "stream",
          "name": "stderr",
          "text": [
            "100%|██████████| 194/194 [00:16<00:00, 11.94it/s]\n"
          ]
        },
        {
          "output_type": "stream",
          "name": "stdout",
          "text": [
            "Loss = 28.15159012749791\n",
            "Accuracy = 0.9497823633725616\n",
            "Epoch 28\n"
          ]
        },
        {
          "output_type": "stream",
          "name": "stderr",
          "text": [
            "100%|██████████| 194/194 [00:15<00:00, 12.45it/s]\n"
          ]
        },
        {
          "output_type": "stream",
          "name": "stdout",
          "text": [
            "Loss = 26.275651393458247\n",
            "Accuracy = 0.9558278252458488\n",
            "Epoch 29\n"
          ]
        },
        {
          "output_type": "stream",
          "name": "stderr",
          "text": [
            "100%|██████████| 194/194 [00:15<00:00, 12.23it/s]\n"
          ]
        },
        {
          "output_type": "stream",
          "name": "stdout",
          "text": [
            "Loss = 26.76768250297755\n",
            "Accuracy = 0.9548605513461228\n",
            "Epoch 30\n"
          ]
        },
        {
          "output_type": "stream",
          "name": "stderr",
          "text": [
            "100%|██████████| 194/194 [00:15<00:00, 12.45it/s]\n"
          ]
        },
        {
          "output_type": "stream",
          "name": "stdout",
          "text": [
            "Loss = 24.555289255455136\n",
            "Accuracy = 0.9569563114621957\n",
            "Epoch 31\n"
          ]
        },
        {
          "output_type": "stream",
          "name": "stderr",
          "text": [
            "100%|██████████| 194/194 [00:16<00:00, 11.90it/s]\n"
          ]
        },
        {
          "output_type": "stream",
          "name": "stdout",
          "text": [
            "Loss = 16.62390642380342\n",
            "Accuracy = 0.9725939061744318\n",
            "Epoch 32\n"
          ]
        },
        {
          "output_type": "stream",
          "name": "stderr",
          "text": [
            "100%|██████████| 194/194 [00:15<00:00, 12.31it/s]\n"
          ]
        },
        {
          "output_type": "stream",
          "name": "stdout",
          "text": [
            "Loss = 19.047134451102465\n",
            "Accuracy = 0.968241173625665\n",
            "Epoch 33\n"
          ]
        },
        {
          "output_type": "stream",
          "name": "stderr",
          "text": [
            "100%|██████████| 194/194 [00:16<00:00, 12.03it/s]\n"
          ]
        },
        {
          "output_type": "stream",
          "name": "stdout",
          "text": [
            "Loss = 17.11046067578718\n",
            "Accuracy = 0.9699339029501854\n",
            "Epoch 34\n"
          ]
        },
        {
          "output_type": "stream",
          "name": "stderr",
          "text": [
            "100%|██████████| 194/194 [00:15<00:00, 12.40it/s]\n"
          ]
        },
        {
          "output_type": "stream",
          "name": "stdout",
          "text": [
            "Loss = 21.848913388326764\n",
            "Accuracy = 0.9630017733354829\n",
            "Epoch 35\n"
          ]
        },
        {
          "output_type": "stream",
          "name": "stderr",
          "text": [
            "100%|██████████| 194/194 [00:16<00:00, 11.96it/s]\n"
          ]
        },
        {
          "output_type": "stream",
          "name": "stdout",
          "text": [
            "Loss = 15.452495687175542\n",
            "Accuracy = 0.9724326938578107\n",
            "Epoch 36\n"
          ]
        },
        {
          "output_type": "stream",
          "name": "stderr",
          "text": [
            "100%|██████████| 194/194 [00:15<00:00, 12.34it/s]\n"
          ]
        },
        {
          "output_type": "stream",
          "name": "stdout",
          "text": [
            "Loss = 15.953950406517833\n",
            "Accuracy = 0.9719490569079478\n",
            "Epoch 37\n"
          ]
        },
        {
          "output_type": "stream",
          "name": "stderr",
          "text": [
            "100%|██████████| 194/194 [00:15<00:00, 12.47it/s]\n"
          ]
        },
        {
          "output_type": "stream",
          "name": "stdout",
          "text": [
            "Loss = 13.736520430189557\n",
            "Accuracy = 0.9763017894567145\n",
            "Epoch 38\n"
          ]
        },
        {
          "output_type": "stream",
          "name": "stderr",
          "text": [
            "100%|██████████| 194/194 [00:15<00:00, 12.35it/s]\n"
          ]
        },
        {
          "output_type": "stream",
          "name": "stdout",
          "text": [
            "Loss = 142.94086777279153\n",
            "Accuracy = 0.8655489279380945\n",
            "Epoch 39\n"
          ]
        },
        {
          "output_type": "stream",
          "name": "stderr",
          "text": [
            "100%|██████████| 194/194 [00:16<00:00, 11.96it/s]\n"
          ]
        },
        {
          "output_type": "stream",
          "name": "stdout",
          "text": [
            "Loss = 196.96163514256477\n",
            "Accuracy = 0.6655650491697566\n",
            "Epoch 40\n"
          ]
        },
        {
          "output_type": "stream",
          "name": "stderr",
          "text": [
            "100%|██████████| 194/194 [00:15<00:00, 12.34it/s]\n"
          ]
        },
        {
          "output_type": "stream",
          "name": "stdout",
          "text": [
            "Loss = 132.49536848068237\n",
            "Accuracy = 0.769708205706916\n",
            "Epoch 41\n"
          ]
        },
        {
          "output_type": "stream",
          "name": "stderr",
          "text": [
            "100%|██████████| 194/194 [00:15<00:00, 12.48it/s]\n"
          ]
        },
        {
          "output_type": "stream",
          "name": "stdout",
          "text": [
            "Loss = 84.39987699687481\n",
            "Accuracy = 0.8548283088827986\n",
            "Epoch 42\n"
          ]
        },
        {
          "output_type": "stream",
          "name": "stderr",
          "text": [
            "100%|██████████| 194/194 [00:16<00:00, 11.94it/s]\n"
          ]
        },
        {
          "output_type": "stream",
          "name": "stdout",
          "text": [
            "Loss = 49.55623613297939\n",
            "Accuracy = 0.9176205062066742\n",
            "Epoch 43\n"
          ]
        },
        {
          "output_type": "stream",
          "name": "stderr",
          "text": [
            "100%|██████████| 194/194 [00:15<00:00, 12.40it/s]\n"
          ]
        },
        {
          "output_type": "stream",
          "name": "stdout",
          "text": [
            "Loss = 26.64291412755847\n",
            "Accuracy = 0.9550217636627438\n",
            "Epoch 44\n"
          ]
        },
        {
          "output_type": "stream",
          "name": "stderr",
          "text": [
            "100%|██████████| 194/194 [00:15<00:00, 12.36it/s]\n"
          ]
        },
        {
          "output_type": "stream",
          "name": "stdout",
          "text": [
            "Loss = 16.676021025516093\n",
            "Accuracy = 0.9728357246493632\n",
            "Epoch 45\n"
          ]
        },
        {
          "output_type": "stream",
          "name": "stderr",
          "text": [
            "100%|██████████| 194/194 [00:15<00:00, 12.50it/s]\n"
          ]
        },
        {
          "output_type": "stream",
          "name": "stdout",
          "text": [
            "Loss = 15.4506222223863\n",
            "Accuracy = 0.9735611800741577\n",
            "Epoch 46\n"
          ]
        },
        {
          "output_type": "stream",
          "name": "stderr",
          "text": [
            "100%|██████████| 194/194 [00:16<00:00, 11.94it/s]\n"
          ]
        },
        {
          "output_type": "stream",
          "name": "stdout",
          "text": [
            "Loss = 14.015536257997155\n",
            "Accuracy = 0.9745284539738837\n",
            "Epoch 47\n"
          ]
        },
        {
          "output_type": "stream",
          "name": "stderr",
          "text": [
            "100%|██████████| 194/194 [00:15<00:00, 12.47it/s]\n"
          ]
        },
        {
          "output_type": "stream",
          "name": "stdout",
          "text": [
            "Loss = 13.428263640031219\n",
            "Accuracy = 0.9770272448815089\n",
            "Epoch 48\n"
          ]
        },
        {
          "output_type": "stream",
          "name": "stderr",
          "text": [
            "100%|██████████| 194/194 [00:16<00:00, 11.95it/s]\n"
          ]
        },
        {
          "output_type": "stream",
          "name": "stdout",
          "text": [
            "Loss = 12.097801584284753\n",
            "Accuracy = 0.9804933096888603\n",
            "Epoch 49\n"
          ]
        },
        {
          "output_type": "stream",
          "name": "stderr",
          "text": [
            "100%|██████████| 194/194 [00:15<00:00, 12.45it/s]\n"
          ]
        },
        {
          "output_type": "stream",
          "name": "stdout",
          "text": [
            "Loss = 13.97378818760626\n",
            "Accuracy = 0.9769466387231984\n",
            "--------------------\n",
            "Best Accuracy = 0.9804933096888603\n"
          ]
        }
      ],
      "source": [
        "res34_model = resnet34(weights=None, num_classes=10)\n",
        "res34_opt = torch.optim.Adam(res34_model.parameters(), lr=0.03)\n",
        "\n",
        "res34_accs, res34_losses = basic_train(res34_model, cifar10_train_loader, res34_opt, criterion, n_epochs=50)\n",
        "print(\"-\"*20)\n",
        "print(\"Best Accuracy =\", max(res34_accs))"
      ]
    },
    {
      "cell_type": "code",
      "execution_count": null,
      "metadata": {
        "colab": {
          "base_uri": "https://localhost:8080/"
        },
        "id": "2wATV6tr5Xui",
        "outputId": "2a7ad423-2171-4a8f-9d9b-95da6f944759"
      },
      "outputs": [
        {
          "output_type": "stream",
          "name": "stderr",
          "text": [
            "100%|██████████| 39/39 [00:01<00:00, 36.42it/s]\n"
          ]
        },
        {
          "output_type": "stream",
          "name": "stdout",
          "text": [
            "Test Loss =  60.99597548972815\n"
          ]
        }
      ],
      "source": [
        "res34_preds, res34_targets = basic_test(res34_model, cifar10_test_loader, criterion)"
      ]
    },
    {
      "cell_type": "markdown",
      "metadata": {
        "id": "jZxjBBE3gXmc"
      },
      "source": [
        "Finetuning with ImageNet Pretrained ResNet-34"
      ]
    },
    {
      "cell_type": "code",
      "execution_count": null,
      "metadata": {
        "id": "bipC_wuogd-3",
        "colab": {
          "base_uri": "https://localhost:8080/",
          "height": 1000,
          "referenced_widgets": [
            "085a0d8ca70b4a60a27c941274d4b47c",
            "533a015d7ef54d219f7d1e85e5a3cb08",
            "2ce631187b9d41b29a8e418f9f5a2d48",
            "8cae7a88ee8442c9a8212c10635730f2",
            "91c6e0d310d04118a078b84aa3c022c3",
            "94cfe5fd819c4b29a209a698b8e33ecc",
            "ef96e171c6544c5082462fc0dba56476",
            "462ff03bd1b84ac897fbf61d48d0c94f",
            "bf7de71be4564877b58444249fcb6c46",
            "91cefee4c2a8469db8f30ff437248c00",
            "e1fea02003d846ba84cba0174f0599f5"
          ]
        },
        "outputId": "07a283d3-93bd-484b-e8fa-1e8a16ff1988"
      },
      "outputs": [
        {
          "output_type": "stream",
          "name": "stderr",
          "text": [
            "Downloading: \"https://download.pytorch.org/models/resnet34-b627a593.pth\" to /root/.cache/torch/hub/checkpoints/resnet34-b627a593.pth\n"
          ]
        },
        {
          "output_type": "display_data",
          "data": {
            "text/plain": [
              "  0%|          | 0.00/83.3M [00:00<?, ?B/s]"
            ],
            "application/vnd.jupyter.widget-view+json": {
              "version_major": 2,
              "version_minor": 0,
              "model_id": "085a0d8ca70b4a60a27c941274d4b47c"
            }
          },
          "metadata": {}
        },
        {
          "output_type": "stream",
          "name": "stdout",
          "text": [
            "Epoch 0\n"
          ]
        },
        {
          "output_type": "stream",
          "name": "stderr",
          "text": [
            "100%|██████████| 194/194 [00:16<00:00, 11.83it/s]\n"
          ]
        },
        {
          "output_type": "stream",
          "name": "stdout",
          "text": [
            "Loss = 176.32690930366516\n",
            "Accuracy = 0.714331774947606\n",
            "Epoch 1\n"
          ]
        },
        {
          "output_type": "stream",
          "name": "stderr",
          "text": [
            "100%|██████████| 194/194 [00:15<00:00, 12.42it/s]\n"
          ]
        },
        {
          "output_type": "stream",
          "name": "stdout",
          "text": [
            "Loss = 89.14363491535187\n",
            "Accuracy = 0.8525713364501047\n",
            "Epoch 2\n"
          ]
        },
        {
          "output_type": "stream",
          "name": "stderr",
          "text": [
            "100%|██████████| 194/194 [00:15<00:00, 12.43it/s]\n"
          ]
        },
        {
          "output_type": "stream",
          "name": "stdout",
          "text": [
            "Loss = 54.80603176355362\n",
            "Accuracy = 0.9054489763017894\n",
            "Epoch 3\n"
          ]
        },
        {
          "output_type": "stream",
          "name": "stderr",
          "text": [
            "100%|██████████| 194/194 [00:15<00:00, 12.51it/s]\n"
          ]
        },
        {
          "output_type": "stream",
          "name": "stdout",
          "text": [
            "Loss = 35.09729505330324\n",
            "Accuracy = 0.9402708366919232\n",
            "Epoch 4\n"
          ]
        },
        {
          "output_type": "stream",
          "name": "stderr",
          "text": [
            "100%|██████████| 194/194 [00:16<00:00, 11.83it/s]\n"
          ]
        },
        {
          "output_type": "stream",
          "name": "stdout",
          "text": [
            "Loss = 24.354643501341343\n",
            "Accuracy = 0.9575205545703692\n",
            "Epoch 5\n"
          ]
        },
        {
          "output_type": "stream",
          "name": "stderr",
          "text": [
            "100%|██████████| 194/194 [00:15<00:00, 12.41it/s]\n"
          ]
        },
        {
          "output_type": "stream",
          "name": "stdout",
          "text": [
            "Loss = 15.558846885338426\n",
            "Accuracy = 0.9739642108657102\n",
            "Epoch 6\n"
          ]
        },
        {
          "output_type": "stream",
          "name": "stderr",
          "text": [
            "100%|██████████| 194/194 [00:15<00:00, 12.44it/s]\n"
          ]
        },
        {
          "output_type": "stream",
          "name": "stdout",
          "text": [
            "Loss = 13.627910221926868\n",
            "Accuracy = 0.976704820248267\n",
            "Epoch 7\n"
          ]
        },
        {
          "output_type": "stream",
          "name": "stderr",
          "text": [
            "100%|██████████| 194/194 [00:15<00:00, 12.31it/s]\n"
          ]
        },
        {
          "output_type": "stream",
          "name": "stdout",
          "text": [
            "Loss = 14.420220377855003\n",
            "Accuracy = 0.976221183298404\n",
            "Epoch 8\n"
          ]
        },
        {
          "output_type": "stream",
          "name": "stderr",
          "text": [
            "100%|██████████| 194/194 [00:16<00:00, 12.02it/s]\n"
          ]
        },
        {
          "output_type": "stream",
          "name": "stdout",
          "text": [
            "Loss = 10.646956752054393\n",
            "Accuracy = 0.9821860390133806\n",
            "Epoch 9\n"
          ]
        },
        {
          "output_type": "stream",
          "name": "stderr",
          "text": [
            "100%|██████████| 194/194 [00:15<00:00, 12.35it/s]\n"
          ]
        },
        {
          "output_type": "stream",
          "name": "stdout",
          "text": [
            "Loss = 8.33593490126077\n",
            "Accuracy = 0.9864581654038369\n",
            "Epoch 10\n"
          ]
        },
        {
          "output_type": "stream",
          "name": "stderr",
          "text": [
            "100%|██████████| 194/194 [00:15<00:00, 12.43it/s]\n"
          ]
        },
        {
          "output_type": "stream",
          "name": "stdout",
          "text": [
            "Loss = 9.69684409047477\n",
            "Accuracy = 0.9842817991294535\n",
            "Epoch 11\n"
          ]
        },
        {
          "output_type": "stream",
          "name": "stderr",
          "text": [
            "100%|██████████| 194/194 [00:15<00:00, 12.35it/s]\n"
          ]
        },
        {
          "output_type": "stream",
          "name": "stdout",
          "text": [
            "Loss = 8.809742166660726\n",
            "Accuracy = 0.985490891504111\n",
            "Epoch 12\n"
          ]
        },
        {
          "output_type": "stream",
          "name": "stderr",
          "text": [
            "100%|██████████| 194/194 [00:16<00:00, 11.87it/s]\n"
          ]
        },
        {
          "output_type": "stream",
          "name": "stdout",
          "text": [
            "Loss = 6.024465736234561\n",
            "Accuracy = 0.9906496856359825\n",
            "Epoch 13\n"
          ]
        },
        {
          "output_type": "stream",
          "name": "stderr",
          "text": [
            "100%|██████████| 194/194 [00:16<00:00, 11.99it/s]\n"
          ]
        },
        {
          "output_type": "stream",
          "name": "stdout",
          "text": [
            "Loss = 6.029941680375487\n",
            "Accuracy = 0.9902466548444301\n",
            "Epoch 14\n"
          ]
        },
        {
          "output_type": "stream",
          "name": "stderr",
          "text": [
            "100%|██████████| 194/194 [00:15<00:00, 12.49it/s]\n"
          ]
        },
        {
          "output_type": "stream",
          "name": "stdout",
          "text": [
            "Loss = 5.434888501651585\n",
            "Accuracy = 0.9910527164275351\n",
            "Epoch 15\n"
          ]
        },
        {
          "output_type": "stream",
          "name": "stderr",
          "text": [
            "100%|██████████| 194/194 [00:16<00:00, 11.95it/s]\n"
          ]
        },
        {
          "output_type": "stream",
          "name": "stdout",
          "text": [
            "Loss = 5.483799321635161\n",
            "Accuracy = 0.9916169595357085\n",
            "Epoch 16\n"
          ]
        },
        {
          "output_type": "stream",
          "name": "stderr",
          "text": [
            "100%|██████████| 194/194 [00:15<00:00, 12.43it/s]\n"
          ]
        },
        {
          "output_type": "stream",
          "name": "stdout",
          "text": [
            "Loss = 7.056734307203442\n",
            "Accuracy = 0.9877478639368048\n",
            "Epoch 17\n"
          ]
        },
        {
          "output_type": "stream",
          "name": "stderr",
          "text": [
            "100%|██████████| 194/194 [00:15<00:00, 12.44it/s]\n"
          ]
        },
        {
          "output_type": "stream",
          "name": "stdout",
          "text": [
            "Loss = 4.2056199727230705\n",
            "Accuracy = 0.9929066580686764\n",
            "Epoch 18\n"
          ]
        },
        {
          "output_type": "stream",
          "name": "stderr",
          "text": [
            "100%|██████████| 194/194 [00:15<00:00, 12.41it/s]\n"
          ]
        },
        {
          "output_type": "stream",
          "name": "stdout",
          "text": [
            "Loss = 5.221038674993906\n",
            "Accuracy = 0.9910527164275351\n",
            "Epoch 19\n"
          ]
        },
        {
          "output_type": "stream",
          "name": "stderr",
          "text": [
            "100%|██████████| 194/194 [00:16<00:00, 11.93it/s]\n"
          ]
        },
        {
          "output_type": "stream",
          "name": "stdout",
          "text": [
            "Loss = 5.1631825470831245\n",
            "Accuracy = 0.9908108979526036\n",
            "Epoch 20\n"
          ]
        },
        {
          "output_type": "stream",
          "name": "stderr",
          "text": [
            "100%|██████████| 194/194 [00:15<00:00, 12.47it/s]\n"
          ]
        },
        {
          "output_type": "stream",
          "name": "stdout",
          "text": [
            "Loss = 4.231686203187564\n",
            "Accuracy = 0.9936321134934709\n",
            "Epoch 21\n"
          ]
        },
        {
          "output_type": "stream",
          "name": "stderr",
          "text": [
            "100%|██████████| 194/194 [00:15<00:00, 12.42it/s]\n"
          ]
        },
        {
          "output_type": "stream",
          "name": "stdout",
          "text": [
            "Loss = 3.4674365799874067\n",
            "Accuracy = 0.9937127196517814\n",
            "Epoch 22\n"
          ]
        },
        {
          "output_type": "stream",
          "name": "stderr",
          "text": [
            "100%|██████████| 194/194 [00:15<00:00, 12.43it/s]\n"
          ]
        },
        {
          "output_type": "stream",
          "name": "stdout",
          "text": [
            "Loss = 5.161968425556552\n",
            "Accuracy = 0.9912945349024666\n",
            "Epoch 23\n"
          ]
        },
        {
          "output_type": "stream",
          "name": "stderr",
          "text": [
            "100%|██████████| 194/194 [00:16<00:00, 11.98it/s]\n"
          ]
        },
        {
          "output_type": "stream",
          "name": "stdout",
          "text": [
            "Loss = 6.068691780616064\n",
            "Accuracy = 0.9904078671610511\n",
            "Epoch 24\n"
          ]
        },
        {
          "output_type": "stream",
          "name": "stderr",
          "text": [
            "100%|██████████| 194/194 [00:15<00:00, 12.48it/s]\n"
          ]
        },
        {
          "output_type": "stream",
          "name": "stdout",
          "text": [
            "Loss = 4.687741273955908\n",
            "Accuracy = 0.9925842334354344\n",
            "Epoch 25\n"
          ]
        },
        {
          "output_type": "stream",
          "name": "stderr",
          "text": [
            "100%|██████████| 194/194 [00:15<00:00, 12.49it/s]\n"
          ]
        },
        {
          "output_type": "stream",
          "name": "stdout",
          "text": [
            "Loss = 4.4334375084144995\n",
            "Accuracy = 0.9929066580686764\n",
            "Epoch 26\n"
          ]
        },
        {
          "output_type": "stream",
          "name": "stderr",
          "text": [
            "100%|██████████| 194/194 [00:15<00:00, 12.39it/s]\n"
          ]
        },
        {
          "output_type": "stream",
          "name": "stdout",
          "text": [
            "Loss = 3.8411735017143656\n",
            "Accuracy = 0.9937933258100919\n",
            "Epoch 27\n"
          ]
        },
        {
          "output_type": "stream",
          "name": "stderr",
          "text": [
            "100%|██████████| 194/194 [00:16<00:00, 11.89it/s]\n"
          ]
        },
        {
          "output_type": "stream",
          "name": "stdout",
          "text": [
            "Loss = 2.28910907144018\n",
            "Accuracy = 0.9965339351926488\n",
            "Epoch 28\n"
          ]
        },
        {
          "output_type": "stream",
          "name": "stderr",
          "text": [
            "100%|██████████| 194/194 [00:16<00:00, 11.91it/s]\n"
          ]
        },
        {
          "output_type": "stream",
          "name": "stdout",
          "text": [
            "Loss = 3.3118696724413894\n",
            "Accuracy = 0.9945993873931969\n",
            "Epoch 29\n"
          ]
        },
        {
          "output_type": "stream",
          "name": "stderr",
          "text": [
            "100%|██████████| 194/194 [00:15<00:00, 12.27it/s]\n"
          ]
        },
        {
          "output_type": "stream",
          "name": "stdout",
          "text": [
            "Loss = 3.3207431312912377\n",
            "Accuracy = 0.9937933258100919\n",
            "Epoch 30\n"
          ]
        },
        {
          "output_type": "stream",
          "name": "stderr",
          "text": [
            "100%|██████████| 194/194 [00:15<00:00, 12.39it/s]\n"
          ]
        },
        {
          "output_type": "stream",
          "name": "stdout",
          "text": [
            "Loss = 4.20315886058961\n",
            "Accuracy = 0.9930678703852974\n",
            "Epoch 31\n"
          ]
        },
        {
          "output_type": "stream",
          "name": "stderr",
          "text": [
            "100%|██████████| 194/194 [00:16<00:00, 11.96it/s]\n"
          ]
        },
        {
          "output_type": "stream",
          "name": "stdout",
          "text": [
            "Loss = 3.764610254438594\n",
            "Accuracy = 0.992826051910366\n",
            "Epoch 32\n"
          ]
        },
        {
          "output_type": "stream",
          "name": "stderr",
          "text": [
            "100%|██████████| 194/194 [00:15<00:00, 12.27it/s]\n"
          ]
        },
        {
          "output_type": "stream",
          "name": "stdout",
          "text": [
            "Loss = 2.4555228213430382\n",
            "Accuracy = 0.9958890859261648\n",
            "Epoch 33\n"
          ]
        },
        {
          "output_type": "stream",
          "name": "stderr",
          "text": [
            "100%|██████████| 194/194 [00:15<00:00, 12.40it/s]\n"
          ]
        },
        {
          "output_type": "stream",
          "name": "stdout",
          "text": [
            "Loss = 3.665420541059575\n",
            "Accuracy = 0.9945187812348864\n",
            "Epoch 34\n"
          ]
        },
        {
          "output_type": "stream",
          "name": "stderr",
          "text": [
            "100%|██████████| 194/194 [00:15<00:00, 12.26it/s]\n"
          ]
        },
        {
          "output_type": "stream",
          "name": "stdout",
          "text": [
            "Loss = 2.9039170306932647\n",
            "Accuracy = 0.9956472674512332\n",
            "Epoch 35\n"
          ]
        },
        {
          "output_type": "stream",
          "name": "stderr",
          "text": [
            "100%|██████████| 194/194 [00:16<00:00, 11.85it/s]\n"
          ]
        },
        {
          "output_type": "stream",
          "name": "stdout",
          "text": [
            "Loss = 2.6163392694215872\n",
            "Accuracy = 0.9954054489763018\n",
            "Epoch 36\n"
          ]
        },
        {
          "output_type": "stream",
          "name": "stderr",
          "text": [
            "100%|██████████| 194/194 [00:15<00:00, 12.32it/s]\n"
          ]
        },
        {
          "output_type": "stream",
          "name": "stdout",
          "text": [
            "Loss = 2.2309120796853676\n",
            "Accuracy = 0.9961309044010962\n",
            "Epoch 37\n"
          ]
        },
        {
          "output_type": "stream",
          "name": "stderr",
          "text": [
            "100%|██████████| 194/194 [00:15<00:00, 12.29it/s]\n"
          ]
        },
        {
          "output_type": "stream",
          "name": "stdout",
          "text": [
            "Loss = 3.687445217423374\n",
            "Accuracy = 0.9947605997098178\n",
            "Epoch 38\n"
          ]
        },
        {
          "output_type": "stream",
          "name": "stderr",
          "text": [
            "100%|██████████| 194/194 [00:15<00:00, 12.20it/s]\n"
          ]
        },
        {
          "output_type": "stream",
          "name": "stdout",
          "text": [
            "Loss = 3.7577057440939825\n",
            "Accuracy = 0.9940351442850234\n",
            "Epoch 39\n"
          ]
        },
        {
          "output_type": "stream",
          "name": "stderr",
          "text": [
            "100%|██████████| 194/194 [00:16<00:00, 11.89it/s]\n"
          ]
        },
        {
          "output_type": "stream",
          "name": "stdout",
          "text": [
            "Loss = 3.03438724388252\n",
            "Accuracy = 0.9957278736095437\n",
            "Epoch 40\n"
          ]
        },
        {
          "output_type": "stream",
          "name": "stderr",
          "text": [
            "100%|██████████| 194/194 [00:15<00:00, 12.29it/s]\n"
          ]
        },
        {
          "output_type": "stream",
          "name": "stdout",
          "text": [
            "Loss = 2.719022170131211\n",
            "Accuracy = 0.9954860551346123\n",
            "Epoch 41\n"
          ]
        },
        {
          "output_type": "stream",
          "name": "stderr",
          "text": [
            "100%|██████████| 194/194 [00:15<00:00, 12.32it/s]\n"
          ]
        },
        {
          "output_type": "stream",
          "name": "stdout",
          "text": [
            "Loss = 3.036578002778697\n",
            "Accuracy = 0.9954054489763018\n",
            "Epoch 42\n"
          ]
        },
        {
          "output_type": "stream",
          "name": "stderr",
          "text": [
            "100%|██████████| 194/194 [00:15<00:00, 12.33it/s]\n"
          ]
        },
        {
          "output_type": "stream",
          "name": "stdout",
          "text": [
            "Loss = 3.8244043198646978\n",
            "Accuracy = 0.9941963566016444\n",
            "Epoch 43\n"
          ]
        },
        {
          "output_type": "stream",
          "name": "stderr",
          "text": [
            "100%|██████████| 194/194 [00:16<00:00, 11.58it/s]\n"
          ]
        },
        {
          "output_type": "stream",
          "name": "stdout",
          "text": [
            "Loss = 2.5816818046587287\n",
            "Accuracy = 0.9962921167177172\n",
            "Epoch 44\n"
          ]
        },
        {
          "output_type": "stream",
          "name": "stderr",
          "text": [
            "100%|██████████| 194/194 [00:15<00:00, 12.25it/s]\n"
          ]
        },
        {
          "output_type": "stream",
          "name": "stdout",
          "text": [
            "Loss = 1.3205367874834337\n",
            "Accuracy = 0.9975012090923746\n",
            "Epoch 45\n"
          ]
        },
        {
          "output_type": "stream",
          "name": "stderr",
          "text": [
            "100%|██████████| 194/194 [00:15<00:00, 12.42it/s]\n"
          ]
        },
        {
          "output_type": "stream",
          "name": "stdout",
          "text": [
            "Loss = 2.9331549716662266\n",
            "Accuracy = 0.9958890859261648\n",
            "Epoch 46\n"
          ]
        },
        {
          "output_type": "stream",
          "name": "stderr",
          "text": [
            "100%|██████████| 194/194 [00:15<00:00, 12.35it/s]\n"
          ]
        },
        {
          "output_type": "stream",
          "name": "stdout",
          "text": [
            "Loss = 3.020314525536378\n",
            "Accuracy = 0.9953248428179913\n",
            "Epoch 47\n"
          ]
        },
        {
          "output_type": "stream",
          "name": "stderr",
          "text": [
            "100%|██████████| 194/194 [00:16<00:00, 11.89it/s]\n"
          ]
        },
        {
          "output_type": "stream",
          "name": "stdout",
          "text": [
            "Loss = 1.062191857934522\n",
            "Accuracy = 0.9983072706754796\n",
            "Epoch 48\n"
          ]
        },
        {
          "output_type": "stream",
          "name": "stderr",
          "text": [
            "100%|██████████| 194/194 [00:15<00:00, 12.24it/s]\n"
          ]
        },
        {
          "output_type": "stream",
          "name": "stdout",
          "text": [
            "Loss = 2.182237379165599\n",
            "Accuracy = 0.9965339351926488\n",
            "Epoch 49\n"
          ]
        },
        {
          "output_type": "stream",
          "name": "stderr",
          "text": [
            "100%|██████████| 194/194 [00:15<00:00, 12.50it/s]\n"
          ]
        },
        {
          "output_type": "stream",
          "name": "stdout",
          "text": [
            "Loss = 1.4157618670797092\n",
            "Accuracy = 0.9975012090923746\n",
            "--------------------\n",
            "Best Accuracy = 0.9983072706754796\n"
          ]
        }
      ],
      "source": [
        "pre_res34_model = resnet34(weights=ResNet34_Weights.DEFAULT)\n",
        "pre_res34_model.fc = nn.Linear(512, 10)\n",
        "  \n",
        "pre_res34_opt = torch.optim.Adam(pre_res34_model.parameters(), lr=1e-4)\n",
        "\n",
        "pre_res34_accs, pre_res34_losses = basic_train(pre_res34_model, cifar10_train_loader, pre_res34_opt, criterion, n_epochs=50)\n",
        "print(\"-\"*20)\n",
        "print(\"Best Accuracy =\", max(pre_res34_accs))"
      ]
    },
    {
      "cell_type": "code",
      "execution_count": null,
      "metadata": {
        "id": "InH6_At26E8e",
        "colab": {
          "base_uri": "https://localhost:8080/"
        },
        "outputId": "c22b74af-204e-485d-b9dd-1932c2dc85ca"
      },
      "outputs": [
        {
          "output_type": "stream",
          "name": "stderr",
          "text": [
            "100%|██████████| 39/39 [00:01<00:00, 33.30it/s]"
          ]
        },
        {
          "output_type": "stream",
          "name": "stdout",
          "text": [
            "Test Loss =  33.95926437177695\n"
          ]
        },
        {
          "output_type": "stream",
          "name": "stderr",
          "text": [
            "\n"
          ]
        }
      ],
      "source": [
        "pre_res34_preds, pre_res34_targets = basic_test(pre_res34_model, cifar10_test_loader, criterion)"
      ]
    },
    {
      "cell_type": "markdown",
      "metadata": {
        "id": "ZlFCoWfrjof7"
      },
      "source": [
        "#### Vision Transformer"
      ]
    },
    {
      "cell_type": "markdown",
      "metadata": {
        "id": "yqa3Gr20jw7u"
      },
      "source": [
        "From Scratch"
      ]
    },
    {
      "cell_type": "code",
      "execution_count": null,
      "metadata": {
        "id": "zJ39uXa_jnEp",
        "colab": {
          "base_uri": "https://localhost:8080/"
        },
        "outputId": "c0a8a017-56e6-453f-a2c1-e12bfff63f56"
      },
      "outputs": [
        {
          "output_type": "stream",
          "name": "stdout",
          "text": [
            "Epoch 0\n"
          ]
        },
        {
          "output_type": "stream",
          "name": "stderr",
          "text": [
            "100%|██████████| 194/194 [00:10<00:00, 18.59it/s]\n"
          ]
        },
        {
          "output_type": "stream",
          "name": "stdout",
          "text": [
            "Loss = 479.3675340414047\n",
            "Accuracy = 0.36313074318877964\n",
            "Epoch 1\n"
          ]
        },
        {
          "output_type": "stream",
          "name": "stderr",
          "text": [
            "100%|██████████| 194/194 [00:10<00:00, 17.79it/s]\n"
          ]
        },
        {
          "output_type": "stream",
          "name": "stdout",
          "text": [
            "Loss = 319.90596437454224\n",
            "Accuracy = 0.396582298887635\n",
            "Epoch 2\n"
          ]
        },
        {
          "output_type": "stream",
          "name": "stderr",
          "text": [
            "100%|██████████| 194/194 [00:10<00:00, 18.68it/s]\n"
          ]
        },
        {
          "output_type": "stream",
          "name": "stdout",
          "text": [
            "Loss = 310.8220783472061\n",
            "Accuracy = 0.40407867161051103\n",
            "Epoch 3\n"
          ]
        },
        {
          "output_type": "stream",
          "name": "stderr",
          "text": [
            "100%|██████████| 194/194 [00:10<00:00, 18.58it/s]\n"
          ]
        },
        {
          "output_type": "stream",
          "name": "stdout",
          "text": [
            "Loss = 315.0016665458679\n",
            "Accuracy = 0.4016604868611962\n",
            "Epoch 4\n"
          ]
        },
        {
          "output_type": "stream",
          "name": "stderr",
          "text": [
            "100%|██████████| 194/194 [00:10<00:00, 18.65it/s]\n"
          ]
        },
        {
          "output_type": "stream",
          "name": "stdout",
          "text": [
            "Loss = 312.23701298236847\n",
            "Accuracy = 0.40085442527809123\n",
            "Epoch 5\n"
          ]
        },
        {
          "output_type": "stream",
          "name": "stderr",
          "text": [
            "100%|██████████| 194/194 [00:10<00:00, 18.58it/s]\n"
          ]
        },
        {
          "output_type": "stream",
          "name": "stdout",
          "text": [
            "Loss = 312.0917731523514\n",
            "Accuracy = 0.40198291149443816\n",
            "Epoch 6\n"
          ]
        },
        {
          "output_type": "stream",
          "name": "stderr",
          "text": [
            "100%|██████████| 194/194 [00:10<00:00, 18.69it/s]\n"
          ]
        },
        {
          "output_type": "stream",
          "name": "stdout",
          "text": [
            "Loss = 314.3343756198883\n",
            "Accuracy = 0.40069321296147026\n",
            "Epoch 7\n"
          ]
        },
        {
          "output_type": "stream",
          "name": "stderr",
          "text": [
            "100%|██████████| 194/194 [00:10<00:00, 17.80it/s]\n"
          ]
        },
        {
          "output_type": "stream",
          "name": "stdout",
          "text": [
            "Loss = 302.35183250904083\n",
            "Accuracy = 0.412864742866355\n",
            "Epoch 8\n"
          ]
        },
        {
          "output_type": "stream",
          "name": "stderr",
          "text": [
            "100%|██████████| 194/194 [00:10<00:00, 18.42it/s]\n"
          ]
        },
        {
          "output_type": "stream",
          "name": "stdout",
          "text": [
            "Loss = 306.0371421575546\n",
            "Accuracy = 0.41084958890859263\n",
            "Epoch 9\n"
          ]
        },
        {
          "output_type": "stream",
          "name": "stderr",
          "text": [
            "100%|██████████| 194/194 [00:10<00:00, 18.75it/s]\n"
          ]
        },
        {
          "output_type": "stream",
          "name": "stdout",
          "text": [
            "Loss = 306.0209707021713\n",
            "Accuracy = 0.4123004997581815\n",
            "Epoch 10\n"
          ]
        },
        {
          "output_type": "stream",
          "name": "stderr",
          "text": [
            "100%|██████████| 194/194 [00:10<00:00, 18.55it/s]\n"
          ]
        },
        {
          "output_type": "stream",
          "name": "stdout",
          "text": [
            "Loss = 301.86792290210724\n",
            "Accuracy = 0.4227793003385459\n",
            "Epoch 11\n"
          ]
        },
        {
          "output_type": "stream",
          "name": "stderr",
          "text": [
            "100%|██████████| 194/194 [00:10<00:00, 18.42it/s]\n"
          ]
        },
        {
          "output_type": "stream",
          "name": "stdout",
          "text": [
            "Loss = 307.2228456735611\n",
            "Accuracy = 0.40383685313557954\n",
            "Epoch 12\n"
          ]
        },
        {
          "output_type": "stream",
          "name": "stderr",
          "text": [
            "100%|██████████| 194/194 [00:10<00:00, 18.53it/s]\n"
          ]
        },
        {
          "output_type": "stream",
          "name": "stdout",
          "text": [
            "Loss = 307.9549343585968\n",
            "Accuracy = 0.4106883765919716\n",
            "Epoch 13\n"
          ]
        },
        {
          "output_type": "stream",
          "name": "stderr",
          "text": [
            "100%|██████████| 194/194 [00:11<00:00, 16.53it/s]\n"
          ]
        },
        {
          "output_type": "stream",
          "name": "stdout",
          "text": [
            "Loss = 302.95426189899445\n",
            "Accuracy = 0.41375141060777043\n",
            "Epoch 14\n"
          ]
        },
        {
          "output_type": "stream",
          "name": "stderr",
          "text": [
            "100%|██████████| 194/194 [00:10<00:00, 18.52it/s]\n"
          ]
        },
        {
          "output_type": "stream",
          "name": "stdout",
          "text": [
            "Loss = 305.1052566766739\n",
            "Accuracy = 0.41479929066580684\n",
            "Epoch 15\n"
          ]
        },
        {
          "output_type": "stream",
          "name": "stderr",
          "text": [
            "100%|██████████| 194/194 [00:10<00:00, 18.56it/s]\n"
          ]
        },
        {
          "output_type": "stream",
          "name": "stdout",
          "text": [
            "Loss = 305.8517323732376\n",
            "Accuracy = 0.40552958246009996\n",
            "Epoch 16\n"
          ]
        },
        {
          "output_type": "stream",
          "name": "stderr",
          "text": [
            "100%|██████████| 194/194 [00:10<00:00, 18.66it/s]\n"
          ]
        },
        {
          "output_type": "stream",
          "name": "stdout",
          "text": [
            "Loss = 300.7097406387329\n",
            "Accuracy = 0.4251168789295502\n",
            "Epoch 17\n"
          ]
        },
        {
          "output_type": "stream",
          "name": "stderr",
          "text": [
            "100%|██████████| 194/194 [00:10<00:00, 18.40it/s]\n"
          ]
        },
        {
          "output_type": "stream",
          "name": "stdout",
          "text": [
            "Loss = 307.56692695617676\n",
            "Accuracy = 0.41012413348379817\n",
            "Epoch 18\n"
          ]
        },
        {
          "output_type": "stream",
          "name": "stderr",
          "text": [
            "100%|██████████| 194/194 [00:10<00:00, 18.56it/s]\n"
          ]
        },
        {
          "output_type": "stream",
          "name": "stdout",
          "text": [
            "Loss = 321.1829069852829\n",
            "Accuracy = 0.3921489601805578\n",
            "Epoch 19\n"
          ]
        },
        {
          "output_type": "stream",
          "name": "stderr",
          "text": [
            "100%|██████████| 194/194 [00:10<00:00, 17.75it/s]\n"
          ]
        },
        {
          "output_type": "stream",
          "name": "stdout",
          "text": [
            "Loss = 309.25490367412567\n",
            "Accuracy = 0.4069804933096889\n",
            "Epoch 20\n"
          ]
        },
        {
          "output_type": "stream",
          "name": "stderr",
          "text": [
            "100%|██████████| 194/194 [00:10<00:00, 18.39it/s]\n"
          ]
        },
        {
          "output_type": "stream",
          "name": "stdout",
          "text": [
            "Loss = 307.65005898475647\n",
            "Accuracy = 0.4061744317265839\n",
            "Epoch 21\n"
          ]
        },
        {
          "output_type": "stream",
          "name": "stderr",
          "text": [
            "100%|██████████| 194/194 [00:10<00:00, 18.59it/s]\n"
          ]
        },
        {
          "output_type": "stream",
          "name": "stdout",
          "text": [
            "Loss = 303.3027309179306\n",
            "Accuracy = 0.4152829276156698\n",
            "Epoch 22\n"
          ]
        },
        {
          "output_type": "stream",
          "name": "stderr",
          "text": [
            "100%|██████████| 194/194 [00:10<00:00, 18.52it/s]\n"
          ]
        },
        {
          "output_type": "stream",
          "name": "stdout",
          "text": [
            "Loss = 298.421914100647\n",
            "Accuracy = 0.41568595840722233\n",
            "Epoch 23\n"
          ]
        },
        {
          "output_type": "stream",
          "name": "stderr",
          "text": [
            "100%|██████████| 194/194 [00:10<00:00, 18.56it/s]\n"
          ]
        },
        {
          "output_type": "stream",
          "name": "stdout",
          "text": [
            "Loss = 302.88140070438385\n",
            "Accuracy = 0.41173625665000807\n",
            "Epoch 24\n"
          ]
        },
        {
          "output_type": "stream",
          "name": "stderr",
          "text": [
            "100%|██████████| 194/194 [00:10<00:00, 18.57it/s]\n"
          ]
        },
        {
          "output_type": "stream",
          "name": "stdout",
          "text": [
            "Loss = 302.7541483640671\n",
            "Accuracy = 0.4141544413993229\n",
            "Epoch 25\n"
          ]
        },
        {
          "output_type": "stream",
          "name": "stderr",
          "text": [
            "100%|██████████| 194/194 [00:10<00:00, 17.77it/s]\n"
          ]
        },
        {
          "output_type": "stream",
          "name": "stdout",
          "text": [
            "Loss = 301.65443778038025\n",
            "Accuracy = 0.41818474931484767\n",
            "Epoch 26\n"
          ]
        },
        {
          "output_type": "stream",
          "name": "stderr",
          "text": [
            "100%|██████████| 194/194 [00:10<00:00, 18.47it/s]\n"
          ]
        },
        {
          "output_type": "stream",
          "name": "stdout",
          "text": [
            "Loss = 304.74601793289185\n",
            "Accuracy = 0.41665323230694823\n",
            "Epoch 27\n"
          ]
        },
        {
          "output_type": "stream",
          "name": "stderr",
          "text": [
            "100%|██████████| 194/194 [00:10<00:00, 18.58it/s]\n"
          ]
        },
        {
          "output_type": "stream",
          "name": "stdout",
          "text": [
            "Loss = 320.4647251367569\n",
            "Accuracy = 0.39118168628083183\n",
            "Epoch 28\n"
          ]
        },
        {
          "output_type": "stream",
          "name": "stderr",
          "text": [
            "100%|██████████| 194/194 [00:10<00:00, 18.53it/s]\n"
          ]
        },
        {
          "output_type": "stream",
          "name": "stdout",
          "text": [
            "Loss = 313.59240567684174\n",
            "Accuracy = 0.40045139448653877\n",
            "Epoch 29\n"
          ]
        },
        {
          "output_type": "stream",
          "name": "stderr",
          "text": [
            "100%|██████████| 194/194 [00:10<00:00, 18.57it/s]\n"
          ]
        },
        {
          "output_type": "stream",
          "name": "stdout",
          "text": [
            "Loss = 308.2018576860428\n",
            "Accuracy = 0.4095598903756247\n",
            "Epoch 30\n"
          ]
        },
        {
          "output_type": "stream",
          "name": "stderr",
          "text": [
            "100%|██████████| 194/194 [00:10<00:00, 17.81it/s]\n"
          ]
        },
        {
          "output_type": "stream",
          "name": "stdout",
          "text": [
            "Loss = 306.85349810123444\n",
            "Accuracy = 0.4147186845074964\n",
            "Epoch 31\n"
          ]
        },
        {
          "output_type": "stream",
          "name": "stderr",
          "text": [
            "100%|██████████| 194/194 [00:10<00:00, 18.37it/s]\n"
          ]
        },
        {
          "output_type": "stream",
          "name": "stdout",
          "text": [
            "Loss = 304.2625194787979\n",
            "Accuracy = 0.4141544413993229\n",
            "Epoch 32\n"
          ]
        },
        {
          "output_type": "stream",
          "name": "stderr",
          "text": [
            "100%|██████████| 194/194 [00:10<00:00, 18.58it/s]\n"
          ]
        },
        {
          "output_type": "stream",
          "name": "stdout",
          "text": [
            "Loss = 301.64278841018677\n",
            "Accuracy = 0.41681444462356926\n",
            "Epoch 33\n"
          ]
        },
        {
          "output_type": "stream",
          "name": "stderr",
          "text": [
            "100%|██████████| 194/194 [00:10<00:00, 18.55it/s]\n"
          ]
        },
        {
          "output_type": "stream",
          "name": "stdout",
          "text": [
            "Loss = 303.52056980133057\n",
            "Accuracy = 0.41246171207480253\n",
            "Epoch 34\n"
          ]
        },
        {
          "output_type": "stream",
          "name": "stderr",
          "text": [
            "100%|██████████| 194/194 [00:10<00:00, 18.53it/s]\n"
          ]
        },
        {
          "output_type": "stream",
          "name": "stdout",
          "text": [
            "Loss = 301.6342958211899\n",
            "Accuracy = 0.42132838948895696\n",
            "Epoch 35\n"
          ]
        },
        {
          "output_type": "stream",
          "name": "stderr",
          "text": [
            "100%|██████████| 194/194 [00:10<00:00, 18.58it/s]\n"
          ]
        },
        {
          "output_type": "stream",
          "name": "stdout",
          "text": [
            "Loss = 305.9210035800934\n",
            "Accuracy = 0.41625020151539577\n",
            "Epoch 36\n"
          ]
        },
        {
          "output_type": "stream",
          "name": "stderr",
          "text": [
            "100%|██████████| 194/194 [00:11<00:00, 16.94it/s]\n"
          ]
        },
        {
          "output_type": "stream",
          "name": "stdout",
          "text": [
            "Loss = 307.68373012542725\n",
            "Accuracy = 0.41504110914073833\n",
            "Epoch 37\n"
          ]
        },
        {
          "output_type": "stream",
          "name": "stderr",
          "text": [
            "100%|██████████| 194/194 [00:10<00:00, 18.47it/s]\n"
          ]
        },
        {
          "output_type": "stream",
          "name": "stdout",
          "text": [
            "Loss = 308.2548837661743\n",
            "Accuracy = 0.41221989359987105\n",
            "Epoch 38\n"
          ]
        },
        {
          "output_type": "stream",
          "name": "stderr",
          "text": [
            "100%|██████████| 194/194 [00:10<00:00, 18.66it/s]\n"
          ]
        },
        {
          "output_type": "stream",
          "name": "stdout",
          "text": [
            "Loss = 305.63302540779114\n",
            "Accuracy = 0.4161695953570853\n",
            "Epoch 39\n"
          ]
        },
        {
          "output_type": "stream",
          "name": "stderr",
          "text": [
            "100%|██████████| 194/194 [00:10<00:00, 18.58it/s]\n"
          ]
        },
        {
          "output_type": "stream",
          "name": "stdout",
          "text": [
            "Loss = 302.873130440712\n",
            "Accuracy = 0.4195550540061261\n",
            "Epoch 40\n"
          ]
        },
        {
          "output_type": "stream",
          "name": "stderr",
          "text": [
            "100%|██████████| 194/194 [00:10<00:00, 18.36it/s]\n"
          ]
        },
        {
          "output_type": "stream",
          "name": "stdout",
          "text": [
            "Loss = 302.858771443367\n",
            "Accuracy = 0.4172174754151217\n",
            "Epoch 41\n"
          ]
        },
        {
          "output_type": "stream",
          "name": "stderr",
          "text": [
            "100%|██████████| 194/194 [00:10<00:00, 18.43it/s]\n"
          ]
        },
        {
          "output_type": "stream",
          "name": "stdout",
          "text": [
            "Loss = 322.1203223466873\n",
            "Accuracy = 0.3953732065129776\n",
            "Epoch 42\n"
          ]
        },
        {
          "output_type": "stream",
          "name": "stderr",
          "text": [
            "100%|██████████| 194/194 [00:10<00:00, 17.66it/s]\n"
          ]
        },
        {
          "output_type": "stream",
          "name": "stdout",
          "text": [
            "Loss = 311.6295191049576\n",
            "Accuracy = 0.3954538126712881\n",
            "Epoch 43\n"
          ]
        },
        {
          "output_type": "stream",
          "name": "stderr",
          "text": [
            "100%|██████████| 194/194 [00:10<00:00, 18.51it/s]\n"
          ]
        },
        {
          "output_type": "stream",
          "name": "stdout",
          "text": [
            "Loss = 308.3327896595001\n",
            "Accuracy = 0.4083507980009673\n",
            "Epoch 44\n"
          ]
        },
        {
          "output_type": "stream",
          "name": "stderr",
          "text": [
            "100%|██████████| 194/194 [00:10<00:00, 18.70it/s]\n"
          ]
        },
        {
          "output_type": "stream",
          "name": "stdout",
          "text": [
            "Loss = 307.44569635391235\n",
            "Accuracy = 0.40875382879251976\n",
            "Epoch 45\n"
          ]
        },
        {
          "output_type": "stream",
          "name": "stderr",
          "text": [
            "100%|██████████| 194/194 [00:10<00:00, 18.65it/s]\n"
          ]
        },
        {
          "output_type": "stream",
          "name": "stdout",
          "text": [
            "Loss = 311.6229273080826\n",
            "Accuracy = 0.39900048363694984\n",
            "Epoch 46\n"
          ]
        },
        {
          "output_type": "stream",
          "name": "stderr",
          "text": [
            "100%|██████████| 194/194 [00:10<00:00, 18.46it/s]\n"
          ]
        },
        {
          "output_type": "stream",
          "name": "stdout",
          "text": [
            "Loss = 307.25360333919525\n",
            "Accuracy = 0.404723520876995\n",
            "Epoch 47\n"
          ]
        },
        {
          "output_type": "stream",
          "name": "stderr",
          "text": [
            "100%|██████████| 194/194 [00:10<00:00, 18.80it/s]\n"
          ]
        },
        {
          "output_type": "stream",
          "name": "stdout",
          "text": [
            "Loss = 312.1336364746094\n",
            "Accuracy = 0.4034338223440271\n",
            "Epoch 48\n"
          ]
        },
        {
          "output_type": "stream",
          "name": "stderr",
          "text": [
            "100%|██████████| 194/194 [00:10<00:00, 17.72it/s]\n"
          ]
        },
        {
          "output_type": "stream",
          "name": "stdout",
          "text": [
            "Loss = 310.07864701747894\n",
            "Accuracy = 0.4079477672094148\n",
            "Epoch 49\n"
          ]
        },
        {
          "output_type": "stream",
          "name": "stderr",
          "text": [
            "100%|██████████| 194/194 [00:10<00:00, 18.52it/s]"
          ]
        },
        {
          "output_type": "stream",
          "name": "stdout",
          "text": [
            "Loss = 308.6169629096985\n",
            "Accuracy = 0.40867322263420924\n",
            "Best Accuracy = 0.4251168789295502\n"
          ]
        },
        {
          "output_type": "stream",
          "name": "stderr",
          "text": [
            "\n"
          ]
        }
      ],
      "source": [
        "from vit_pytorch import ViT\n",
        "\n",
        "vit_model = ViT(\n",
        "    image_size = 32,\n",
        "    patch_size = 4,\n",
        "    num_classes = 10,\n",
        "    dim = 256,\n",
        "    depth = 3,\n",
        "    heads = 8,\n",
        "    mlp_dim = 512,\n",
        "    dropout = 0.1,\n",
        "    emb_dropout = 0.1\n",
        ")\n",
        "\n",
        "vit_opt = torch.optim.Adam(vit_model.parameters(), lr=0.07)\n",
        "\n",
        "vit_accs, vit_losses = basic_train(vit_model, cifar10_train_loader, vit_opt, criterion, n_epochs=50)\n",
        "print(\"Best Accuracy =\", max(vit_accs))"
      ]
    },
    {
      "cell_type": "code",
      "execution_count": null,
      "metadata": {
        "id": "c1uZCn3h6SSU",
        "colab": {
          "base_uri": "https://localhost:8080/"
        },
        "outputId": "effc69d6-a121-4b40-f8b1-9c0feacf1909"
      },
      "outputs": [
        {
          "output_type": "stream",
          "name": "stderr",
          "text": [
            "100%|██████████| 39/39 [00:00<00:00, 40.92it/s]"
          ]
        },
        {
          "output_type": "stream",
          "name": "stdout",
          "text": [
            "Test Loss =  63.527616024017334\n"
          ]
        },
        {
          "output_type": "stream",
          "name": "stderr",
          "text": [
            "\n"
          ]
        }
      ],
      "source": [
        "vit_preds, vit_targets = basic_test(vit_model, cifar10_test_loader, criterion)"
      ]
    },
    {
      "cell_type": "markdown",
      "metadata": {
        "id": "j6650EOjq3aq"
      },
      "source": [
        "Visualize Training of CIFAR-10"
      ]
    },
    {
      "cell_type": "code",
      "execution_count": null,
      "metadata": {
        "id": "YBai9_jhq6Dk",
        "colab": {
          "base_uri": "https://localhost:8080/",
          "height": 295
        },
        "outputId": "deb47d40-8fe7-4cf5-f146-22191a1c6849"
      },
      "outputs": [
        {
          "output_type": "display_data",
          "data": {
            "text/plain": [
              "<Figure size 432x288 with 1 Axes>"
            ],
            "image/png": "[encoded data removed]"
          },
          "metadata": {
            "needs_background": "light"
          }
        }
      ],
      "source": [
        "x = list(range(50)) # Number of epochs to plot\n",
        "\n",
        "plt.plot(x, res34_accs, label = \"ResNet-34 Base\")\n",
        "plt.plot(x, pre_res34_accs, label = \"ResNet-34 ImageNet\")\n",
        "plt.plot(x, vit_accs, label = \"ViT\")\n",
        "plt.xlabel(\"Epochs\")\n",
        "plt.ylabel(\"Accuracy\")\n",
        "plt.title(\"CIFAR-10-LT: Imbalance Factor of 100\")\n",
        "plt.legend()\n",
        "plt.show()"
      ]
    },
    {
      "cell_type": "code",
      "execution_count": null,
      "metadata": {
        "id": "8z8xVmUItJxO",
        "colab": {
          "base_uri": "https://localhost:8080/",
          "height": 295
        },
        "outputId": "7089c106-ba46-48e7-a3f9-31148e025fbf"
      },
      "outputs": [
        {
          "output_type": "display_data",
          "data": {
            "text/plain": [
              "<Figure size 432x288 with 1 Axes>"
            ],
            "image/png": "[encoded data removed]"
          },
          "metadata": {
            "needs_background": "light"
          }
        }
      ],
      "source": [
        "plt.plot(x, res34_losses, label = \"ResNet-34 Base\")\n",
        "plt.plot(x, pre_res34_losses, label = \"ResNet-34 ImageNet\")\n",
        "plt.plot(x, vit_losses, label = \"ViT\")\n",
        "plt.xlabel(\"Epochs\")\n",
        "plt.ylabel(\"Loss\")\n",
        "plt.title(\"CIFAR-10-LT: Imbalance Factor of 100\")\n",
        "plt.legend()\n",
        "plt.show()"
      ]
    },
    {
      "cell_type": "markdown",
      "metadata": {
        "id": "B6vPwFI33H7u"
      },
      "source": [
        "Test Results"
      ]
    },
    {
      "cell_type": "code",
      "execution_count": null,
      "metadata": {
        "id": "Sne0TTar3Kj0",
        "colab": {
          "base_uri": "https://localhost:8080/",
          "height": 531
        },
        "outputId": "bdb9e83f-ed4b-47b2-9115-c97957ad4708"
      },
      "outputs": [
        {
          "output_type": "stream",
          "name": "stdout",
          "text": [
            "Test Accuracy =  0.7570621468926554\n"
          ]
        },
        {
          "output_type": "execute_result",
          "data": {
            "text/plain": [
              "[Text(69.0, 0.5, 'True Class'),\n",
              " Text(0.5, 42.0, 'Predicted Class'),\n",
              " Text(0.5, 1.0, 'Base ResNet-34 on CIFAR-10-LT Imbalance Factor of 100')]"
            ]
          },
          "metadata": {},
          "execution_count": 28
        },
        {
          "output_type": "display_data",
          "data": {
            "text/plain": [
              "<Figure size 720x504 with 2 Axes>"
            ],
            "image/png": "[encoded data removed]"
          },
          "metadata": {
            "needs_background": "light"
          }
        }
      ],
      "source": [
        "print(\"Test Accuracy = \", accuracy_score(res34_targets, res34_preds))\n",
        "res34_cm = confusion_matrix(res34_targets, res34_preds, normalize='true')\n",
        "res34_df_cm = pd.DataFrame(res34_cm, index = list(range(10)), columns=list(range(10)))\n",
        "plt.figure(figsize = (10,7))\n",
        "ax = sn.heatmap(res34_df_cm, annot=True)\n",
        "ax.set(xlabel=\"Predicted Class\", ylabel=\"True Class\", title=\"Base ResNet-34 on CIFAR-10-LT Imbalance Factor of 100\")"
      ]
    },
    {
      "cell_type": "code",
      "execution_count": null,
      "metadata": {
        "id": "kfkk0FpE6d5G",
        "colab": {
          "base_uri": "https://localhost:8080/",
          "height": 531
        },
        "outputId": "0520947c-e89c-443b-9610-056ec19441f5"
      },
      "outputs": [
        {
          "output_type": "stream",
          "name": "stdout",
          "text": [
            "Test Accuracy =  0.8579499596448749\n"
          ]
        },
        {
          "output_type": "execute_result",
          "data": {
            "text/plain": [
              "[Text(69.0, 0.5, 'True Class'),\n",
              " Text(0.5, 42.0, 'Predicted Class'),\n",
              " Text(0.5, 1.0, 'ImageNet ResNet-34 on CIFAR-10-LT Imbalance Factor of 100')]"
            ]
          },
          "metadata": {},
          "execution_count": 30
        },
        {
          "output_type": "display_data",
          "data": {
            "text/plain": [
              "<Figure size 720x504 with 2 Axes>"
            ],
            "image/png": "[encoded data removed]"
          },
          "metadata": {
            "needs_background": "light"
          }
        }
      ],
      "source": [
        "print(\"Test Accuracy = \", accuracy_score(pre_res34_targets, pre_res34_preds))\n",
        "pre_res34_cm = confusion_matrix(pre_res34_targets, pre_res34_preds, normalize='true')\n",
        "pre_res34_df_cm = pd.DataFrame(pre_res34_cm, index = list(range(10)), columns=list(range(10)))\n",
        "plt.figure(figsize = (10,7))\n",
        "ax = sn.heatmap(pre_res34_df_cm, annot=True)\n",
        "ax.set(xlabel=\"Predicted Class\", ylabel=\"True Class\", title=\"ImageNet ResNet-34 on CIFAR-10-LT Imbalance Factor of 100\")"
      ]
    },
    {
      "cell_type": "code",
      "execution_count": null,
      "metadata": {
        "id": "VW-MNyTw6mV5",
        "colab": {
          "base_uri": "https://localhost:8080/",
          "height": 531
        },
        "outputId": "71444fe2-d4da-4285-9287-f7f75273fac8"
      },
      "outputs": [
        {
          "output_type": "stream",
          "name": "stdout",
          "text": [
            "Test Accuracy =  0.4180790960451977\n"
          ]
        },
        {
          "output_type": "execute_result",
          "data": {
            "text/plain": [
              "[Text(69.0, 0.5, 'True Class'),\n",
              " Text(0.5, 42.0, 'Predicted Class'),\n",
              " Text(0.5, 1.0, 'Base ViT on CIFAR-10-LT Imbalance Factor of 100')]"
            ]
          },
          "metadata": {},
          "execution_count": 29
        },
        {
          "output_type": "display_data",
          "data": {
            "text/plain": [
              "<Figure size 720x504 with 2 Axes>"
            ],
            "image/png": "[encoded data removed]"
          },
          "metadata": {
            "needs_background": "light"
          }
        }
      ],
      "source": [
        "print(\"Test Accuracy = \", accuracy_score(vit_targets, vit_preds))\n",
        "vit_cm = confusion_matrix(vit_targets, vit_preds, normalize='true')\n",
        "vit_df_cm = pd.DataFrame(vit_cm, index = list(range(10)), columns=list(range(10)))\n",
        "plt.figure(figsize = (10,7))\n",
        "ax = sn.heatmap(vit_df_cm, annot=True)\n",
        "ax.set(xlabel=\"Predicted Class\", ylabel=\"True Class\", title=\"Base ViT on CIFAR-10-LT Imbalance Factor of 100\")"
      ]
    },
    {
      "cell_type": "markdown",
      "metadata": {
        "id": "5L4stgi_9F-K"
      },
      "source": [
        "### CIFAR-100-LT"
      ]
    },
    {
      "cell_type": "markdown",
      "metadata": {
        "id": "YbV2UGMyA-oH"
      },
      "source": [
        "#### ResNet Models"
      ]
    },
    {
      "cell_type": "code",
      "execution_count": null,
      "metadata": {
        "id": "aF4yrC2pI4QH"
      },
      "outputs": [],
      "source": [
        "from torchvision.models import resnet34, ResNet34_Weights"
      ]
    },
    {
      "cell_type": "markdown",
      "metadata": {
        "id": "GrcMQPt0A-oI"
      },
      "source": [
        "ResNet-34 Trained from Scratch"
      ]
    },
    {
      "cell_type": "code",
      "execution_count": null,
      "metadata": {
        "id": "Tp-zSIuIA-oI",
        "colab": {
          "base_uri": "https://localhost:8080/"
        },
        "outputId": "aef823db-d917-45f1-feb9-c0f5e8d6c406"
      },
      "outputs": [
        {
          "output_type": "stream",
          "name": "stdout",
          "text": [
            "Epoch 0\n"
          ]
        },
        {
          "output_type": "stream",
          "name": "stderr",
          "text": [
            "100%|██████████| 170/170 [00:16<00:00, 10.55it/s]\n"
          ]
        },
        {
          "output_type": "stream",
          "name": "stdout",
          "text": [
            "Loss = 752.6443004608154\n",
            "Accuracy = 0.051903752189545495\n",
            "Epoch 1\n"
          ]
        },
        {
          "output_type": "stream",
          "name": "stderr",
          "text": [
            "100%|██████████| 170/170 [00:14<00:00, 12.00it/s]\n"
          ]
        },
        {
          "output_type": "stream",
          "name": "stdout",
          "text": [
            "Loss = 671.6448750495911\n",
            "Accuracy = 0.06066193417534802\n",
            "Epoch 2\n"
          ]
        },
        {
          "output_type": "stream",
          "name": "stderr",
          "text": [
            "100%|██████████| 170/170 [00:22<00:00,  7.43it/s]\n"
          ]
        },
        {
          "output_type": "stream",
          "name": "stdout",
          "text": [
            "Loss = 643.375363111496\n",
            "Accuracy = 0.09053194431640085\n",
            "Epoch 3\n"
          ]
        },
        {
          "output_type": "stream",
          "name": "stderr",
          "text": [
            "100%|██████████| 170/170 [00:18<00:00,  9.26it/s]\n"
          ]
        },
        {
          "output_type": "stream",
          "name": "stdout",
          "text": [
            "Loss = 609.6169474124908\n",
            "Accuracy = 0.13100396422974095\n",
            "Epoch 4\n"
          ]
        },
        {
          "output_type": "stream",
          "name": "stderr",
          "text": [
            "100%|██████████| 170/170 [00:15<00:00, 10.85it/s]\n"
          ]
        },
        {
          "output_type": "stream",
          "name": "stdout",
          "text": [
            "Loss = 584.3647511005402\n",
            "Accuracy = 0.16207246243200885\n",
            "Epoch 5\n"
          ]
        },
        {
          "output_type": "stream",
          "name": "stderr",
          "text": [
            "100%|██████████| 170/170 [00:13<00:00, 12.23it/s]\n"
          ]
        },
        {
          "output_type": "stream",
          "name": "stdout",
          "text": [
            "Loss = 555.2229070663452\n",
            "Accuracy = 0.2007006545588642\n",
            "Epoch 6\n"
          ]
        },
        {
          "output_type": "stream",
          "name": "stderr",
          "text": [
            "100%|██████████| 170/170 [00:13<00:00, 12.36it/s]\n"
          ]
        },
        {
          "output_type": "stream",
          "name": "stdout",
          "text": [
            "Loss = 531.0275113582611\n",
            "Accuracy = 0.23305983221167142\n",
            "Epoch 7\n"
          ]
        },
        {
          "output_type": "stream",
          "name": "stderr",
          "text": [
            "100%|██████████| 170/170 [00:13<00:00, 12.40it/s]\n"
          ]
        },
        {
          "output_type": "stream",
          "name": "stdout",
          "text": [
            "Loss = 509.3014438152313\n",
            "Accuracy = 0.25914999539043054\n",
            "Epoch 8\n"
          ]
        },
        {
          "output_type": "stream",
          "name": "stderr",
          "text": [
            "100%|██████████| 170/170 [00:14<00:00, 11.96it/s]\n"
          ]
        },
        {
          "output_type": "stream",
          "name": "stdout",
          "text": [
            "Loss = 485.86884689331055\n",
            "Accuracy = 0.2891121969208076\n",
            "Epoch 9\n"
          ]
        },
        {
          "output_type": "stream",
          "name": "stderr",
          "text": [
            "100%|██████████| 170/170 [00:14<00:00, 11.85it/s]\n"
          ]
        },
        {
          "output_type": "stream",
          "name": "stdout",
          "text": [
            "Loss = 457.66532588005066\n",
            "Accuracy = 0.3232230109707753\n",
            "Epoch 10\n"
          ]
        },
        {
          "output_type": "stream",
          "name": "stderr",
          "text": [
            "100%|██████████| 170/170 [00:13<00:00, 12.43it/s]\n"
          ]
        },
        {
          "output_type": "stream",
          "name": "stdout",
          "text": [
            "Loss = 428.81581377983093\n",
            "Accuracy = 0.3553978058449341\n",
            "Epoch 11\n"
          ]
        },
        {
          "output_type": "stream",
          "name": "stderr",
          "text": [
            "100%|██████████| 170/170 [00:14<00:00, 11.91it/s]\n"
          ]
        },
        {
          "output_type": "stream",
          "name": "stdout",
          "text": [
            "Loss = 420.6200672388077\n",
            "Accuracy = 0.37199225592329677\n",
            "Epoch 12\n"
          ]
        },
        {
          "output_type": "stream",
          "name": "stderr",
          "text": [
            "100%|██████████| 170/170 [00:13<00:00, 12.26it/s]\n"
          ]
        },
        {
          "output_type": "stream",
          "name": "stdout",
          "text": [
            "Loss = 391.7713053226471\n",
            "Accuracy = 0.4031529455148889\n",
            "Epoch 13\n"
          ]
        },
        {
          "output_type": "stream",
          "name": "stderr",
          "text": [
            "100%|██████████| 170/170 [00:14<00:00, 11.87it/s]\n"
          ]
        },
        {
          "output_type": "stream",
          "name": "stdout",
          "text": [
            "Loss = 362.97196912765503\n",
            "Accuracy = 0.4418733290310685\n",
            "Epoch 14\n"
          ]
        },
        {
          "output_type": "stream",
          "name": "stderr",
          "text": [
            "100%|██████████| 170/170 [00:13<00:00, 12.35it/s]\n"
          ]
        },
        {
          "output_type": "stream",
          "name": "stdout",
          "text": [
            "Loss = 354.2518233060837\n",
            "Accuracy = 0.44795796072646815\n",
            "Epoch 15\n"
          ]
        },
        {
          "output_type": "stream",
          "name": "stderr",
          "text": [
            "100%|██████████| 170/170 [00:13<00:00, 12.35it/s]\n"
          ]
        },
        {
          "output_type": "stream",
          "name": "stdout",
          "text": [
            "Loss = 309.2514933347702\n",
            "Accuracy = 0.5133216557573522\n",
            "Epoch 16\n"
          ]
        },
        {
          "output_type": "stream",
          "name": "stderr",
          "text": [
            "100%|██████████| 170/170 [00:13<00:00, 12.25it/s]\n"
          ]
        },
        {
          "output_type": "stream",
          "name": "stdout",
          "text": [
            "Loss = 270.52971267700195\n",
            "Accuracy = 0.5571125656863649\n",
            "Epoch 17\n"
          ]
        },
        {
          "output_type": "stream",
          "name": "stderr",
          "text": [
            "100%|██████████| 170/170 [00:13<00:00, 12.31it/s]\n"
          ]
        },
        {
          "output_type": "stream",
          "name": "stdout",
          "text": [
            "Loss = 251.0419184565544\n",
            "Accuracy = 0.5844012169263391\n",
            "Epoch 18\n"
          ]
        },
        {
          "output_type": "stream",
          "name": "stderr",
          "text": [
            "100%|██████████| 170/170 [00:14<00:00, 11.86it/s]\n"
          ]
        },
        {
          "output_type": "stream",
          "name": "stdout",
          "text": [
            "Loss = 273.24876487255096\n",
            "Accuracy = 0.558679819304877\n",
            "Epoch 19\n"
          ]
        },
        {
          "output_type": "stream",
          "name": "stderr",
          "text": [
            "100%|██████████| 170/170 [00:13<00:00, 12.36it/s]\n"
          ]
        },
        {
          "output_type": "stream",
          "name": "stdout",
          "text": [
            "Loss = 232.77708673477173\n",
            "Accuracy = 0.6133493131741495\n",
            "Epoch 20\n"
          ]
        },
        {
          "output_type": "stream",
          "name": "stderr",
          "text": [
            "100%|██████████| 170/170 [00:13<00:00, 12.38it/s]\n"
          ]
        },
        {
          "output_type": "stream",
          "name": "stdout",
          "text": [
            "Loss = 196.06084597110748\n",
            "Accuracy = 0.6705079745551765\n",
            "Epoch 21\n"
          ]
        },
        {
          "output_type": "stream",
          "name": "stderr",
          "text": [
            "100%|██████████| 170/170 [00:13<00:00, 12.33it/s]\n"
          ]
        },
        {
          "output_type": "stream",
          "name": "stdout",
          "text": [
            "Loss = 153.82434564828873\n",
            "Accuracy = 0.7307089517839034\n",
            "Epoch 22\n"
          ]
        },
        {
          "output_type": "stream",
          "name": "stderr",
          "text": [
            "100%|██████████| 170/170 [00:13<00:00, 12.41it/s]\n"
          ]
        },
        {
          "output_type": "stream",
          "name": "stdout",
          "text": [
            "Loss = 208.12643086910248\n",
            "Accuracy = 0.6777910943117913\n",
            "Epoch 23\n"
          ]
        },
        {
          "output_type": "stream",
          "name": "stderr",
          "text": [
            "100%|██████████| 170/170 [00:13<00:00, 12.39it/s]\n"
          ]
        },
        {
          "output_type": "stream",
          "name": "stdout",
          "text": [
            "Loss = 214.45900565385818\n",
            "Accuracy = 0.637226883009127\n",
            "Epoch 24\n"
          ]
        },
        {
          "output_type": "stream",
          "name": "stderr",
          "text": [
            "100%|██████████| 170/170 [00:13<00:00, 12.37it/s]\n"
          ]
        },
        {
          "output_type": "stream",
          "name": "stdout",
          "text": [
            "Loss = 138.58671388030052\n",
            "Accuracy = 0.7588273255277957\n",
            "Epoch 25\n"
          ]
        },
        {
          "output_type": "stream",
          "name": "stderr",
          "text": [
            "100%|██████████| 170/170 [00:13<00:00, 12.32it/s]\n"
          ]
        },
        {
          "output_type": "stream",
          "name": "stdout",
          "text": [
            "Loss = 101.8215021789074\n",
            "Accuracy = 0.8181985802526044\n",
            "Epoch 26\n"
          ]
        },
        {
          "output_type": "stream",
          "name": "stderr",
          "text": [
            "100%|██████████| 170/170 [00:13<00:00, 12.30it/s]\n"
          ]
        },
        {
          "output_type": "stream",
          "name": "stdout",
          "text": [
            "Loss = 83.35510376095772\n",
            "Accuracy = 0.8483451645616299\n",
            "Epoch 27\n"
          ]
        },
        {
          "output_type": "stream",
          "name": "stderr",
          "text": [
            "100%|██████████| 170/170 [00:13<00:00, 12.30it/s]\n"
          ]
        },
        {
          "output_type": "stream",
          "name": "stdout",
          "text": [
            "Loss = 51.332686364650726\n",
            "Accuracy = 0.9058725914999539\n",
            "Epoch 28\n"
          ]
        },
        {
          "output_type": "stream",
          "name": "stderr",
          "text": [
            "100%|██████████| 170/170 [00:14<00:00, 11.89it/s]\n"
          ]
        },
        {
          "output_type": "stream",
          "name": "stdout",
          "text": [
            "Loss = 43.73245166987181\n",
            "Accuracy = 0.9168433668295382\n",
            "Epoch 29\n"
          ]
        },
        {
          "output_type": "stream",
          "name": "stderr",
          "text": [
            "100%|██████████| 170/170 [00:14<00:00, 11.64it/s]\n"
          ]
        },
        {
          "output_type": "stream",
          "name": "stdout",
          "text": [
            "Loss = 41.80911745503545\n",
            "Accuracy = 0.9215451276850742\n",
            "Epoch 30\n"
          ]
        },
        {
          "output_type": "stream",
          "name": "stderr",
          "text": [
            "100%|██████████| 170/170 [00:13<00:00, 12.40it/s]\n"
          ]
        },
        {
          "output_type": "stream",
          "name": "stdout",
          "text": [
            "Loss = 39.011007353663445\n",
            "Accuracy = 0.9256937402046649\n",
            "Epoch 31\n"
          ]
        },
        {
          "output_type": "stream",
          "name": "stderr",
          "text": [
            "100%|██████████| 170/170 [00:13<00:00, 12.27it/s]\n"
          ]
        },
        {
          "output_type": "stream",
          "name": "stdout",
          "text": [
            "Loss = 36.95761304348707\n",
            "Accuracy = 0.9291048216096617\n",
            "Epoch 32\n"
          ]
        },
        {
          "output_type": "stream",
          "name": "stderr",
          "text": [
            "100%|██████████| 170/170 [00:13<00:00, 12.30it/s]\n"
          ]
        },
        {
          "output_type": "stream",
          "name": "stdout",
          "text": [
            "Loss = 36.64235929772258\n",
            "Accuracy = 0.9293813957776343\n",
            "Epoch 33\n"
          ]
        },
        {
          "output_type": "stream",
          "name": "stderr",
          "text": [
            "100%|██████████| 170/170 [00:14<00:00, 11.82it/s]\n"
          ]
        },
        {
          "output_type": "stream",
          "name": "stdout",
          "text": [
            "Loss = 33.6094125919044\n",
            "Accuracy = 0.9352816446943856\n",
            "Epoch 34\n"
          ]
        },
        {
          "output_type": "stream",
          "name": "stderr",
          "text": [
            "100%|██████████| 170/170 [00:13<00:00, 12.29it/s]\n"
          ]
        },
        {
          "output_type": "stream",
          "name": "stdout",
          "text": [
            "Loss = 34.10517564788461\n",
            "Accuracy = 0.935466027473034\n",
            "Epoch 35\n"
          ]
        },
        {
          "output_type": "stream",
          "name": "stderr",
          "text": [
            "100%|██████████| 170/170 [00:13<00:00, 12.36it/s]\n"
          ]
        },
        {
          "output_type": "stream",
          "name": "stdout",
          "text": [
            "Loss = 40.38298483192921\n",
            "Accuracy = 0.9220982760210197\n",
            "Epoch 36\n"
          ]
        },
        {
          "output_type": "stream",
          "name": "stderr",
          "text": [
            "100%|██████████| 170/170 [00:13<00:00, 12.25it/s]\n"
          ]
        },
        {
          "output_type": "stream",
          "name": "stdout",
          "text": [
            "Loss = 27.602982308715582\n",
            "Accuracy = 0.9469899511385637\n",
            "Epoch 37\n"
          ]
        },
        {
          "output_type": "stream",
          "name": "stderr",
          "text": [
            "100%|██████████| 170/170 [00:14<00:00, 11.86it/s]\n"
          ]
        },
        {
          "output_type": "stream",
          "name": "stdout",
          "text": [
            "Loss = 27.97552042081952\n",
            "Accuracy = 0.9484650133677515\n",
            "Epoch 38\n"
          ]
        },
        {
          "output_type": "stream",
          "name": "stderr",
          "text": [
            "100%|██████████| 170/170 [00:13<00:00, 12.28it/s]\n"
          ]
        },
        {
          "output_type": "stream",
          "name": "stdout",
          "text": [
            "Loss = 23.335564193315804\n",
            "Accuracy = 0.9563012814603116\n",
            "Epoch 39\n"
          ]
        },
        {
          "output_type": "stream",
          "name": "stderr",
          "text": [
            "100%|██████████| 170/170 [00:13<00:00, 12.35it/s]\n"
          ]
        },
        {
          "output_type": "stream",
          "name": "stdout",
          "text": [
            "Loss = 22.09196797758341\n",
            "Accuracy = 0.957591960910851\n",
            "Epoch 40\n"
          ]
        },
        {
          "output_type": "stream",
          "name": "stderr",
          "text": [
            "100%|██████████| 170/170 [00:13<00:00, 12.41it/s]\n"
          ]
        },
        {
          "output_type": "stream",
          "name": "stdout",
          "text": [
            "Loss = 23.991674100980163\n",
            "Accuracy = 0.954918410620448\n",
            "Epoch 41\n"
          ]
        },
        {
          "output_type": "stream",
          "name": "stderr",
          "text": [
            "100%|██████████| 170/170 [00:13<00:00, 12.35it/s]\n"
          ]
        },
        {
          "output_type": "stream",
          "name": "stdout",
          "text": [
            "Loss = 23.262162406928837\n",
            "Accuracy = 0.9571310039642298\n",
            "Epoch 42\n"
          ]
        },
        {
          "output_type": "stream",
          "name": "stderr",
          "text": [
            "100%|██████████| 170/170 [00:14<00:00, 11.82it/s]\n"
          ]
        },
        {
          "output_type": "stream",
          "name": "stdout",
          "text": [
            "Loss = 25.951648636721075\n",
            "Accuracy = 0.9526136258873421\n",
            "Epoch 43\n"
          ]
        },
        {
          "output_type": "stream",
          "name": "stderr",
          "text": [
            "100%|██████████| 170/170 [00:13<00:00, 12.30it/s]\n"
          ]
        },
        {
          "output_type": "stream",
          "name": "stdout",
          "text": [
            "Loss = 24.663293314166367\n",
            "Accuracy = 0.9535355397805845\n",
            "Epoch 44\n"
          ]
        },
        {
          "output_type": "stream",
          "name": "stderr",
          "text": [
            "100%|██████████| 170/170 [00:13<00:00, 12.19it/s]\n"
          ]
        },
        {
          "output_type": "stream",
          "name": "stdout",
          "text": [
            "Loss = 24.45975782070309\n",
            "Accuracy = 0.953719922559233\n",
            "Epoch 45\n"
          ]
        },
        {
          "output_type": "stream",
          "name": "stderr",
          "text": [
            "100%|██████████| 170/170 [00:13<00:00, 12.37it/s]\n"
          ]
        },
        {
          "output_type": "stream",
          "name": "stdout",
          "text": [
            "Loss = 24.597381097264588\n",
            "Accuracy = 0.9530745828339633\n",
            "Epoch 46\n"
          ]
        },
        {
          "output_type": "stream",
          "name": "stderr",
          "text": [
            "100%|██████████| 170/170 [00:13<00:00, 12.33it/s]\n"
          ]
        },
        {
          "output_type": "stream",
          "name": "stdout",
          "text": [
            "Loss = 21.56163297686726\n",
            "Accuracy = 0.9577763436894994\n",
            "Epoch 47\n"
          ]
        },
        {
          "output_type": "stream",
          "name": "stderr",
          "text": [
            "100%|██████████| 170/170 [00:15<00:00, 11.33it/s]\n"
          ]
        },
        {
          "output_type": "stream",
          "name": "stdout",
          "text": [
            "Loss = 24.600229548290372\n",
            "Accuracy = 0.9551949847884208\n",
            "Epoch 48\n"
          ]
        },
        {
          "output_type": "stream",
          "name": "stderr",
          "text": [
            "100%|██████████| 170/170 [00:13<00:00, 12.19it/s]\n"
          ]
        },
        {
          "output_type": "stream",
          "name": "stdout",
          "text": [
            "Loss = 20.19987143855542\n",
            "Accuracy = 0.9611874250944962\n",
            "Epoch 49\n"
          ]
        },
        {
          "output_type": "stream",
          "name": "stderr",
          "text": [
            "100%|██████████| 170/170 [00:13<00:00, 12.21it/s]\n"
          ]
        },
        {
          "output_type": "stream",
          "name": "stdout",
          "text": [
            "Loss = 21.98446026351303\n",
            "Accuracy = 0.95952798008666\n",
            "--------------------\n",
            "Best Accuracy = 0.9611874250944962\n"
          ]
        }
      ],
      "source": [
        "res34_model100 = resnet34(weights=None, num_classes=100)\n",
        "res34_opt100 = torch.optim.Adam(res34_model100.parameters(), lr=0.01)\n",
        "\n",
        "res34_accs100, res34_losses100 = basic_train(res34_model100, cifar100_train_loader, res34_opt100, criterion, n_epochs=50)\n",
        "print(\"-\"*20)\n",
        "print(\"Best Accuracy =\", max(res34_accs100))"
      ]
    },
    {
      "cell_type": "code",
      "execution_count": null,
      "metadata": {
        "id": "9wJgCwRKGb_5",
        "colab": {
          "base_uri": "https://localhost:8080/"
        },
        "outputId": "ddef45ad-15fa-4a5d-f07c-c7b3dfe0e891"
      },
      "outputs": [
        {
          "output_type": "stream",
          "name": "stderr",
          "text": [
            "100%|██████████| 34/34 [00:00<00:00, 35.13it/s]\n"
          ]
        },
        {
          "output_type": "stream",
          "name": "stdout",
          "text": [
            "Test Loss =  212.71840393543243\n"
          ]
        }
      ],
      "source": [
        "res34_preds100, res34_targets100 = basic_test(res34_model100, cifar100_test_loader, criterion)"
      ]
    },
    {
      "cell_type": "markdown",
      "metadata": {
        "id": "s269xbC2A-oJ"
      },
      "source": [
        "Finetuning with ImageNet Pretrained ResNet-34"
      ]
    },
    {
      "cell_type": "code",
      "execution_count": null,
      "metadata": {
        "id": "B9V5zbMOA-oJ",
        "colab": {
          "base_uri": "https://localhost:8080/"
        },
        "outputId": "3a06d3f2-497a-42d5-d59a-07e62e392e18"
      },
      "outputs": [
        {
          "output_type": "stream",
          "name": "stdout",
          "text": [
            "Epoch 0\n"
          ]
        },
        {
          "output_type": "stream",
          "name": "stderr",
          "text": [
            "100%|██████████| 170/170 [00:14<00:00, 11.99it/s]\n"
          ]
        },
        {
          "output_type": "stream",
          "name": "stdout",
          "text": [
            "Loss = 548.0465793609619\n",
            "Accuracy = 0.2776804646446022\n",
            "Epoch 1\n"
          ]
        },
        {
          "output_type": "stream",
          "name": "stderr",
          "text": [
            "100%|██████████| 170/170 [00:14<00:00, 11.81it/s]\n"
          ]
        },
        {
          "output_type": "stream",
          "name": "stdout",
          "text": [
            "Loss = 323.8485424518585\n",
            "Accuracy = 0.5194984788420761\n",
            "Epoch 2\n"
          ]
        },
        {
          "output_type": "stream",
          "name": "stderr",
          "text": [
            "100%|██████████| 170/170 [00:13<00:00, 12.27it/s]\n"
          ]
        },
        {
          "output_type": "stream",
          "name": "stdout",
          "text": [
            "Loss = 220.98489439487457\n",
            "Accuracy = 0.6574167972711349\n",
            "Epoch 3\n"
          ]
        },
        {
          "output_type": "stream",
          "name": "stderr",
          "text": [
            "100%|██████████| 170/170 [00:13<00:00, 12.29it/s]\n"
          ]
        },
        {
          "output_type": "stream",
          "name": "stdout",
          "text": [
            "Loss = 153.65507525205612\n",
            "Accuracy = 0.7579976030238775\n",
            "Epoch 4\n"
          ]
        },
        {
          "output_type": "stream",
          "name": "stderr",
          "text": [
            "100%|██████████| 170/170 [00:13<00:00, 12.31it/s]\n"
          ]
        },
        {
          "output_type": "stream",
          "name": "stdout",
          "text": [
            "Loss = 102.52001130580902\n",
            "Accuracy = 0.8426292984235273\n",
            "Epoch 5\n"
          ]
        },
        {
          "output_type": "stream",
          "name": "stderr",
          "text": [
            "100%|██████████| 170/170 [00:13<00:00, 12.15it/s]\n"
          ]
        },
        {
          "output_type": "stream",
          "name": "stdout",
          "text": [
            "Loss = 68.88776570558548\n",
            "Accuracy = 0.8960081128422606\n",
            "Epoch 6\n"
          ]
        },
        {
          "output_type": "stream",
          "name": "stderr",
          "text": [
            "100%|██████████| 170/170 [00:14<00:00, 11.84it/s]\n"
          ]
        },
        {
          "output_type": "stream",
          "name": "stdout",
          "text": [
            "Loss = 45.234259605407715\n",
            "Accuracy = 0.9376786208168157\n",
            "Epoch 7\n"
          ]
        },
        {
          "output_type": "stream",
          "name": "stderr",
          "text": [
            "100%|██████████| 170/170 [00:13<00:00, 12.22it/s]\n"
          ]
        },
        {
          "output_type": "stream",
          "name": "stdout",
          "text": [
            "Loss = 31.258945643901825\n",
            "Accuracy = 0.9563012814603116\n",
            "Epoch 8\n"
          ]
        },
        {
          "output_type": "stream",
          "name": "stderr",
          "text": [
            "100%|██████████| 170/170 [00:13<00:00, 12.37it/s]\n"
          ]
        },
        {
          "output_type": "stream",
          "name": "stdout",
          "text": [
            "Loss = 24.08343581110239\n",
            "Accuracy = 0.9668110998432746\n",
            "Epoch 9\n"
          ]
        },
        {
          "output_type": "stream",
          "name": "stderr",
          "text": [
            "100%|██████████| 170/170 [00:13<00:00, 12.32it/s]\n"
          ]
        },
        {
          "output_type": "stream",
          "name": "stdout",
          "text": [
            "Loss = 22.69108629412949\n",
            "Accuracy = 0.9703143726375957\n",
            "Epoch 10\n"
          ]
        },
        {
          "output_type": "stream",
          "name": "stderr",
          "text": [
            "100%|██████████| 170/170 [00:14<00:00, 11.89it/s]\n"
          ]
        },
        {
          "output_type": "stream",
          "name": "stdout",
          "text": [
            "Loss = 21.160855285823345\n",
            "Accuracy = 0.9687471190190836\n",
            "Epoch 11\n"
          ]
        },
        {
          "output_type": "stream",
          "name": "stderr",
          "text": [
            "100%|██████████| 170/170 [00:13<00:00, 12.23it/s]\n"
          ]
        },
        {
          "output_type": "stream",
          "name": "stdout",
          "text": [
            "Loss = 19.13983005285263\n",
            "Accuracy = 0.9709597123628653\n",
            "Epoch 12\n"
          ]
        },
        {
          "output_type": "stream",
          "name": "stderr",
          "text": [
            "100%|██████████| 170/170 [00:13<00:00, 12.43it/s]\n"
          ]
        },
        {
          "output_type": "stream",
          "name": "stdout",
          "text": [
            "Loss = 15.855120526626706\n",
            "Accuracy = 0.9775974923942103\n",
            "Epoch 13\n"
          ]
        },
        {
          "output_type": "stream",
          "name": "stderr",
          "text": [
            "100%|██████████| 170/170 [00:13<00:00, 12.35it/s]\n"
          ]
        },
        {
          "output_type": "stream",
          "name": "stdout",
          "text": [
            "Loss = 13.621802607551217\n",
            "Accuracy = 0.9799944685166405\n",
            "Epoch 14\n"
          ]
        },
        {
          "output_type": "stream",
          "name": "stderr",
          "text": [
            "100%|██████████| 170/170 [00:13<00:00, 12.31it/s]\n"
          ]
        },
        {
          "output_type": "stream",
          "name": "stdout",
          "text": [
            "Loss = 12.98915549274534\n",
            "Accuracy = 0.9804554254632617\n",
            "Epoch 15\n"
          ]
        },
        {
          "output_type": "stream",
          "name": "stderr",
          "text": [
            "100%|██████████| 170/170 [00:14<00:00, 11.38it/s]\n"
          ]
        },
        {
          "output_type": "stream",
          "name": "stdout",
          "text": [
            "Loss = 15.814592521637678\n",
            "Accuracy = 0.9749239421038075\n",
            "Epoch 16\n"
          ]
        },
        {
          "output_type": "stream",
          "name": "stderr",
          "text": [
            "100%|██████████| 170/170 [00:13<00:00, 12.23it/s]\n"
          ]
        },
        {
          "output_type": "stream",
          "name": "stdout",
          "text": [
            "Loss = 13.031831294298172\n",
            "Accuracy = 0.9796257029593436\n",
            "Epoch 17\n"
          ]
        },
        {
          "output_type": "stream",
          "name": "stderr",
          "text": [
            "100%|██████████| 170/170 [00:13<00:00, 12.42it/s]\n"
          ]
        },
        {
          "output_type": "stream",
          "name": "stdout",
          "text": [
            "Loss = 17.42539856210351\n",
            "Accuracy = 0.9704987554162441\n",
            "Epoch 18\n"
          ]
        },
        {
          "output_type": "stream",
          "name": "stderr",
          "text": [
            "100%|██████████| 170/170 [00:13<00:00, 12.30it/s]\n"
          ]
        },
        {
          "output_type": "stream",
          "name": "stdout",
          "text": [
            "Loss = 21.01204297877848\n",
            "Accuracy = 0.9652438462247626\n",
            "Epoch 19\n"
          ]
        },
        {
          "output_type": "stream",
          "name": "stderr",
          "text": [
            "100%|██████████| 170/170 [00:14<00:00, 11.91it/s]\n"
          ]
        },
        {
          "output_type": "stream",
          "name": "stdout",
          "text": [
            "Loss = 15.290536574553698\n",
            "Accuracy = 0.9744629851571863\n",
            "Epoch 20\n"
          ]
        },
        {
          "output_type": "stream",
          "name": "stderr",
          "text": [
            "100%|██████████| 170/170 [00:13<00:00, 12.29it/s]\n"
          ]
        },
        {
          "output_type": "stream",
          "name": "stdout",
          "text": [
            "Loss = 12.337853018194437\n",
            "Accuracy = 0.9799944685166405\n",
            "Epoch 21\n"
          ]
        },
        {
          "output_type": "stream",
          "name": "stderr",
          "text": [
            "100%|██████████| 170/170 [00:13<00:00, 12.31it/s]\n"
          ]
        },
        {
          "output_type": "stream",
          "name": "stdout",
          "text": [
            "Loss = 11.482636267319322\n",
            "Accuracy = 0.9811007651885314\n",
            "Epoch 22\n"
          ]
        },
        {
          "output_type": "stream",
          "name": "stderr",
          "text": [
            "100%|██████████| 170/170 [00:13<00:00, 12.37it/s]\n"
          ]
        },
        {
          "output_type": "stream",
          "name": "stdout",
          "text": [
            "Loss = 9.114765780512244\n",
            "Accuracy = 0.9848806121508251\n",
            "Epoch 23\n"
          ]
        },
        {
          "output_type": "stream",
          "name": "stderr",
          "text": [
            "100%|██████████| 170/170 [00:13<00:00, 12.24it/s]\n"
          ]
        },
        {
          "output_type": "stream",
          "name": "stdout",
          "text": [
            "Loss = 8.496966026723385\n",
            "Accuracy = 0.9861712916013644\n",
            "Epoch 24\n"
          ]
        },
        {
          "output_type": "stream",
          "name": "stderr",
          "text": [
            "100%|██████████| 170/170 [00:14<00:00, 11.95it/s]\n"
          ]
        },
        {
          "output_type": "stream",
          "name": "stdout",
          "text": [
            "Loss = 9.532542007043958\n",
            "Accuracy = 0.9842352724255554\n",
            "Epoch 25\n"
          ]
        },
        {
          "output_type": "stream",
          "name": "stderr",
          "text": [
            "100%|██████████| 170/170 [00:13<00:00, 12.21it/s]\n"
          ]
        },
        {
          "output_type": "stream",
          "name": "stdout",
          "text": [
            "Loss = 10.571043644566089\n",
            "Accuracy = 0.9819304876924495\n",
            "Epoch 26\n"
          ]
        },
        {
          "output_type": "stream",
          "name": "stderr",
          "text": [
            "100%|██████████| 170/170 [00:13<00:00, 12.25it/s]\n"
          ]
        },
        {
          "output_type": "stream",
          "name": "stdout",
          "text": [
            "Loss = 10.494201461784542\n",
            "Accuracy = 0.982114870471098\n",
            "Epoch 27\n"
          ]
        },
        {
          "output_type": "stream",
          "name": "stderr",
          "text": [
            "100%|██████████| 170/170 [00:13<00:00, 12.16it/s]\n"
          ]
        },
        {
          "output_type": "stream",
          "name": "stdout",
          "text": [
            "Loss = 11.676445817109197\n",
            "Accuracy = 0.9791647460127224\n",
            "Epoch 28\n"
          ]
        },
        {
          "output_type": "stream",
          "name": "stderr",
          "text": [
            "100%|██████████| 170/170 [00:13<00:00, 12.32it/s]\n"
          ]
        },
        {
          "output_type": "stream",
          "name": "stdout",
          "text": [
            "Loss = 11.351428968831897\n",
            "Accuracy = 0.9807319996312345\n",
            "Epoch 29\n"
          ]
        },
        {
          "output_type": "stream",
          "name": "stderr",
          "text": [
            "100%|██████████| 170/170 [00:14<00:00, 11.64it/s]\n"
          ]
        },
        {
          "output_type": "stream",
          "name": "stdout",
          "text": [
            "Loss = 9.76181190693751\n",
            "Accuracy = 0.9820226790817738\n",
            "Epoch 30\n"
          ]
        },
        {
          "output_type": "stream",
          "name": "stderr",
          "text": [
            "100%|██████████| 170/170 [00:13<00:00, 12.34it/s]\n"
          ]
        },
        {
          "output_type": "stream",
          "name": "stdout",
          "text": [
            "Loss = 9.401510420255363\n",
            "Accuracy = 0.9837743154789342\n",
            "Epoch 31\n"
          ]
        },
        {
          "output_type": "stream",
          "name": "stderr",
          "text": [
            "100%|██████████| 170/170 [00:13<00:00, 12.37it/s]\n"
          ]
        },
        {
          "output_type": "stream",
          "name": "stdout",
          "text": [
            "Loss = 7.569392501842231\n",
            "Accuracy = 0.9873697796625795\n",
            "Epoch 32\n"
          ]
        },
        {
          "output_type": "stream",
          "name": "stderr",
          "text": [
            "100%|██████████| 170/170 [00:14<00:00, 11.95it/s]\n"
          ]
        },
        {
          "output_type": "stream",
          "name": "stdout",
          "text": [
            "Loss = 6.419171744841151\n",
            "Accuracy = 0.9902277127316309\n",
            "Epoch 33\n"
          ]
        },
        {
          "output_type": "stream",
          "name": "stderr",
          "text": [
            "100%|██████████| 170/170 [00:14<00:00, 11.91it/s]\n"
          ]
        },
        {
          "output_type": "stream",
          "name": "stdout",
          "text": [
            "Loss = 7.110917991027236\n",
            "Accuracy = 0.9892136074490643\n",
            "Epoch 34\n"
          ]
        },
        {
          "output_type": "stream",
          "name": "stderr",
          "text": [
            "100%|██████████| 170/170 [00:14<00:00, 12.01it/s]\n"
          ]
        },
        {
          "output_type": "stream",
          "name": "stdout",
          "text": [
            "Loss = 7.915950287599117\n",
            "Accuracy = 0.9868166313266341\n",
            "Epoch 35\n"
          ]
        },
        {
          "output_type": "stream",
          "name": "stderr",
          "text": [
            "100%|██████████| 170/170 [00:13<00:00, 12.44it/s]\n"
          ]
        },
        {
          "output_type": "stream",
          "name": "stdout",
          "text": [
            "Loss = 5.7431854049209505\n",
            "Accuracy = 0.9893057988383885\n",
            "Epoch 36\n"
          ]
        },
        {
          "output_type": "stream",
          "name": "stderr",
          "text": [
            "100%|██████████| 170/170 [00:13<00:00, 12.18it/s]\n"
          ]
        },
        {
          "output_type": "stream",
          "name": "stdout",
          "text": [
            "Loss = 5.657894524745643\n",
            "Accuracy = 0.9900433299529824\n",
            "Epoch 37\n"
          ]
        },
        {
          "output_type": "stream",
          "name": "stderr",
          "text": [
            "100%|██████████| 170/170 [00:13<00:00, 12.38it/s]\n"
          ]
        },
        {
          "output_type": "stream",
          "name": "stdout",
          "text": [
            "Loss = 11.037438413128257\n",
            "Accuracy = 0.9819304876924495\n",
            "Epoch 38\n"
          ]
        },
        {
          "output_type": "stream",
          "name": "stderr",
          "text": [
            "100%|██████████| 170/170 [00:14<00:00, 11.82it/s]\n"
          ]
        },
        {
          "output_type": "stream",
          "name": "stdout",
          "text": [
            "Loss = 10.697560862172395\n",
            "Accuracy = 0.9807319996312345\n",
            "Epoch 39\n"
          ]
        },
        {
          "output_type": "stream",
          "name": "stderr",
          "text": [
            "100%|██████████| 170/170 [00:13<00:00, 12.38it/s]\n"
          ]
        },
        {
          "output_type": "stream",
          "name": "stdout",
          "text": [
            "Loss = 8.40613198140636\n",
            "Accuracy = 0.9851571863187978\n",
            "Epoch 40\n"
          ]
        },
        {
          "output_type": "stream",
          "name": "stderr",
          "text": [
            "100%|██████████| 170/170 [00:13<00:00, 12.24it/s]\n"
          ]
        },
        {
          "output_type": "stream",
          "name": "stdout",
          "text": [
            "Loss = 7.588821801939048\n",
            "Accuracy = 0.9861712916013644\n",
            "Epoch 41\n"
          ]
        },
        {
          "output_type": "stream",
          "name": "stderr",
          "text": [
            "100%|██████████| 170/170 [00:13<00:00, 12.34it/s]\n"
          ]
        },
        {
          "output_type": "stream",
          "name": "stdout",
          "text": [
            "Loss = 5.973004176747054\n",
            "Accuracy = 0.9902277127316309\n",
            "Epoch 42\n"
          ]
        },
        {
          "output_type": "stream",
          "name": "stderr",
          "text": [
            "100%|██████████| 170/170 [00:13<00:00, 12.30it/s]\n"
          ]
        },
        {
          "output_type": "stream",
          "name": "stdout",
          "text": [
            "Loss = 6.070161458803341\n",
            "Accuracy = 0.9898589471743339\n",
            "Epoch 43\n"
          ]
        },
        {
          "output_type": "stream",
          "name": "stderr",
          "text": [
            "100%|██████████| 170/170 [00:14<00:00, 11.84it/s]\n"
          ]
        },
        {
          "output_type": "stream",
          "name": "stdout",
          "text": [
            "Loss = 6.805730351130478\n",
            "Accuracy = 0.9870010141052825\n",
            "Epoch 44\n"
          ]
        },
        {
          "output_type": "stream",
          "name": "stderr",
          "text": [
            "100%|██████████| 170/170 [00:13<00:00, 12.30it/s]\n"
          ]
        },
        {
          "output_type": "stream",
          "name": "stdout",
          "text": [
            "Loss = 8.517121252603829\n",
            "Accuracy = 0.9851571863187978\n",
            "Epoch 45\n"
          ]
        },
        {
          "output_type": "stream",
          "name": "stderr",
          "text": [
            "100%|██████████| 170/170 [00:13<00:00, 12.21it/s]\n"
          ]
        },
        {
          "output_type": "stream",
          "name": "stdout",
          "text": [
            "Loss = 9.14191759401001\n",
            "Accuracy = 0.985249377708122\n",
            "Epoch 46\n"
          ]
        },
        {
          "output_type": "stream",
          "name": "stderr",
          "text": [
            "100%|██████████| 170/170 [00:13<00:00, 12.32it/s]\n"
          ]
        },
        {
          "output_type": "stream",
          "name": "stdout",
          "text": [
            "Loss = 8.335104207508266\n",
            "Accuracy = 0.9858947174333917\n",
            "Epoch 47\n"
          ]
        },
        {
          "output_type": "stream",
          "name": "stderr",
          "text": [
            "100%|██████████| 170/170 [00:14<00:00, 12.09it/s]\n"
          ]
        },
        {
          "output_type": "stream",
          "name": "stdout",
          "text": [
            "Loss = 8.264934483217075\n",
            "Accuracy = 0.9858025260440675\n",
            "Epoch 48\n"
          ]
        },
        {
          "output_type": "stream",
          "name": "stderr",
          "text": [
            "100%|██████████| 170/170 [00:14<00:00, 11.93it/s]\n"
          ]
        },
        {
          "output_type": "stream",
          "name": "stdout",
          "text": [
            "Loss = 7.764703522785567\n",
            "Accuracy = 0.9872775882732553\n",
            "Epoch 49\n"
          ]
        },
        {
          "output_type": "stream",
          "name": "stderr",
          "text": [
            "100%|██████████| 170/170 [00:14<00:00, 12.13it/s]\n"
          ]
        },
        {
          "output_type": "stream",
          "name": "stdout",
          "text": [
            "Loss = 7.538159996038303\n",
            "Accuracy = 0.9864478657693372\n",
            "--------------------\n",
            "Best Accuracy = 0.9902277127316309\n"
          ]
        }
      ],
      "source": [
        "pre_res34_model100 = resnet34(weights=ResNet34_Weights.DEFAULT)\n",
        "pre_res34_model100.fc = nn.Linear(512, 100)\n",
        "  \n",
        "pre_res34_opt100 = torch.optim.Adam(pre_res34_model100.parameters(), lr=1e-4)\n",
        "\n",
        "pre_res34_accs100, pre_res34_losses100 = basic_train(pre_res34_model100, cifar100_train_loader, pre_res34_opt100, criterion, n_epochs=50)\n",
        "print(\"-\"*20)\n",
        "print(\"Best Accuracy =\", max(pre_res34_accs100))"
      ]
    },
    {
      "cell_type": "code",
      "execution_count": null,
      "metadata": {
        "id": "FOUHBjPXGzAl",
        "colab": {
          "base_uri": "https://localhost:8080/"
        },
        "outputId": "34b5cdd0-c2f2-4cd1-cd9b-46dbcc342e95"
      },
      "outputs": [
        {
          "output_type": "stream",
          "name": "stderr",
          "text": [
            "100%|██████████| 34/34 [00:00<00:00, 35.46it/s]\n"
          ]
        },
        {
          "output_type": "stream",
          "name": "stdout",
          "text": [
            "Test Loss =  97.62417495250702\n"
          ]
        }
      ],
      "source": [
        "pre_res34_preds100, pre_res34_targets100 = basic_test(pre_res34_model100, cifar100_test_loader, criterion)"
      ]
    },
    {
      "cell_type": "markdown",
      "metadata": {
        "id": "ry8R1yM4A-oK"
      },
      "source": [
        "#### Vision Transformer"
      ]
    },
    {
      "cell_type": "markdown",
      "metadata": {
        "id": "dK1DMJmGA-oK"
      },
      "source": [
        "From Scratch"
      ]
    },
    {
      "cell_type": "code",
      "execution_count": null,
      "metadata": {
        "id": "6aa7NTk7A-oK",
        "colab": {
          "base_uri": "https://localhost:8080/"
        },
        "outputId": "8474c200-d128-4c1c-bde8-fc17a9969e2e"
      },
      "outputs": [
        {
          "output_type": "stream",
          "name": "stdout",
          "text": [
            "Epoch 0\n"
          ]
        },
        {
          "output_type": "stream",
          "name": "stderr",
          "text": [
            "100%|██████████| 170/170 [00:09<00:00, 18.42it/s]\n"
          ]
        },
        {
          "output_type": "stream",
          "name": "stdout",
          "text": [
            "Loss = 854.9267086982727\n",
            "Accuracy = 0.0340186226606435\n",
            "Epoch 1\n"
          ]
        },
        {
          "output_type": "stream",
          "name": "stderr",
          "text": [
            "100%|██████████| 170/170 [00:09<00:00, 17.43it/s]\n"
          ]
        },
        {
          "output_type": "stream",
          "name": "stdout",
          "text": [
            "Loss = 706.0735332965851\n",
            "Accuracy = 0.03761408684428874\n",
            "Epoch 2\n"
          ]
        },
        {
          "output_type": "stream",
          "name": "stderr",
          "text": [
            "100%|██████████| 170/170 [00:09<00:00, 18.38it/s]\n"
          ]
        },
        {
          "output_type": "stream",
          "name": "stdout",
          "text": [
            "Loss = 707.466587305069\n",
            "Accuracy = 0.03494053655388587\n",
            "Epoch 3\n"
          ]
        },
        {
          "output_type": "stream",
          "name": "stderr",
          "text": [
            "100%|██████████| 170/170 [00:09<00:00, 17.62it/s]\n"
          ]
        },
        {
          "output_type": "stream",
          "name": "stdout",
          "text": [
            "Loss = 712.3190715312958\n",
            "Accuracy = 0.04176269936387941\n",
            "Epoch 4\n"
          ]
        },
        {
          "output_type": "stream",
          "name": "stderr",
          "text": [
            "100%|██████████| 170/170 [00:09<00:00, 18.46it/s]\n"
          ]
        },
        {
          "output_type": "stream",
          "name": "stdout",
          "text": [
            "Loss = 713.517728805542\n",
            "Accuracy = 0.042684613257121785\n",
            "Epoch 5\n"
          ]
        },
        {
          "output_type": "stream",
          "name": "stderr",
          "text": [
            "100%|██████████| 170/170 [00:09<00:00, 18.23it/s]\n"
          ]
        },
        {
          "output_type": "stream",
          "name": "stdout",
          "text": [
            "Loss = 718.7827217578888\n",
            "Accuracy = 0.043237761593067206\n",
            "Epoch 6\n"
          ]
        },
        {
          "output_type": "stream",
          "name": "stderr",
          "text": [
            "100%|██████████| 170/170 [00:09<00:00, 18.60it/s]\n"
          ]
        },
        {
          "output_type": "stream",
          "name": "stdout",
          "text": [
            "Loss = 718.1254870891571\n",
            "Accuracy = 0.043698718539688396\n",
            "Epoch 7\n"
          ]
        },
        {
          "output_type": "stream",
          "name": "stderr",
          "text": [
            "100%|██████████| 170/170 [00:09<00:00, 18.45it/s]\n"
          ]
        },
        {
          "output_type": "stream",
          "name": "stdout",
          "text": [
            "Loss = 707.8480796813965\n",
            "Accuracy = 0.052364709136166684\n",
            "Epoch 8\n"
          ]
        },
        {
          "output_type": "stream",
          "name": "stderr",
          "text": [
            "100%|██████████| 170/170 [00:09<00:00, 18.34it/s]\n"
          ]
        },
        {
          "output_type": "stream",
          "name": "stdout",
          "text": [
            "Loss = 700.8443264961243\n",
            "Accuracy = 0.0568820872130543\n",
            "Epoch 9\n"
          ]
        },
        {
          "output_type": "stream",
          "name": "stderr",
          "text": [
            "100%|██████████| 170/170 [00:09<00:00, 18.34it/s]\n"
          ]
        },
        {
          "output_type": "stream",
          "name": "stdout",
          "text": [
            "Loss = 696.3584597110748\n",
            "Accuracy = 0.05854153222089057\n",
            "Epoch 10\n"
          ]
        },
        {
          "output_type": "stream",
          "name": "stderr",
          "text": [
            "100%|██████████| 170/170 [00:09<00:00, 17.42it/s]\n"
          ]
        },
        {
          "output_type": "stream",
          "name": "stdout",
          "text": [
            "Loss = 696.899331331253\n",
            "Accuracy = 0.05328662302940905\n",
            "Epoch 11\n"
          ]
        },
        {
          "output_type": "stream",
          "name": "stderr",
          "text": [
            "100%|██████████| 170/170 [00:09<00:00, 18.21it/s]\n"
          ]
        },
        {
          "output_type": "stream",
          "name": "stdout",
          "text": [
            "Loss = 696.0976538658142\n",
            "Accuracy = 0.06001659445007836\n",
            "Epoch 12\n"
          ]
        },
        {
          "output_type": "stream",
          "name": "stderr",
          "text": [
            "100%|██████████| 170/170 [00:09<00:00, 18.33it/s]\n"
          ]
        },
        {
          "output_type": "stream",
          "name": "stdout",
          "text": [
            "Loss = 699.0241866111755\n",
            "Accuracy = 0.05605236470913617\n",
            "Epoch 13\n"
          ]
        },
        {
          "output_type": "stream",
          "name": "stderr",
          "text": [
            "100%|██████████| 170/170 [00:09<00:00, 18.48it/s]\n"
          ]
        },
        {
          "output_type": "stream",
          "name": "stdout",
          "text": [
            "Loss = 697.6107003688812\n",
            "Accuracy = 0.05789619249562091\n",
            "Epoch 14\n"
          ]
        },
        {
          "output_type": "stream",
          "name": "stderr",
          "text": [
            "100%|██████████| 170/170 [00:09<00:00, 18.39it/s]\n"
          ]
        },
        {
          "output_type": "stream",
          "name": "stdout",
          "text": [
            "Loss = 696.7583243846893\n",
            "Accuracy = 0.06066193417534802\n",
            "Epoch 15\n"
          ]
        },
        {
          "output_type": "stream",
          "name": "stderr",
          "text": [
            "100%|██████████| 170/170 [00:09<00:00, 18.27it/s]\n"
          ]
        },
        {
          "output_type": "stream",
          "name": "stdout",
          "text": [
            "Loss = 699.1680297851562\n",
            "Accuracy = 0.05854153222089057\n",
            "Epoch 16\n"
          ]
        },
        {
          "output_type": "stream",
          "name": "stderr",
          "text": [
            "100%|██████████| 170/170 [00:09<00:00, 18.18it/s]\n"
          ]
        },
        {
          "output_type": "stream",
          "name": "stdout",
          "text": [
            "Loss = 693.1049709320068\n",
            "Accuracy = 0.061952613625887346\n",
            "Epoch 17\n"
          ]
        },
        {
          "output_type": "stream",
          "name": "stderr",
          "text": [
            "100%|██████████| 170/170 [00:09<00:00, 17.54it/s]\n"
          ]
        },
        {
          "output_type": "stream",
          "name": "stdout",
          "text": [
            "Loss = 706.188746213913\n",
            "Accuracy = 0.05798838388494515\n",
            "Epoch 18\n"
          ]
        },
        {
          "output_type": "stream",
          "name": "stderr",
          "text": [
            "100%|██████████| 170/170 [00:09<00:00, 18.23it/s]\n"
          ]
        },
        {
          "output_type": "stream",
          "name": "stdout",
          "text": [
            "Loss = 695.3580853939056\n",
            "Accuracy = 0.06499492947358716\n",
            "Epoch 19\n"
          ]
        },
        {
          "output_type": "stream",
          "name": "stderr",
          "text": [
            "100%|██████████| 170/170 [00:09<00:00, 18.39it/s]\n"
          ]
        },
        {
          "output_type": "stream",
          "name": "stdout",
          "text": [
            "Loss = 693.6308898925781\n",
            "Accuracy = 0.06481054669493869\n",
            "Epoch 20\n"
          ]
        },
        {
          "output_type": "stream",
          "name": "stderr",
          "text": [
            "100%|██████████| 170/170 [00:09<00:00, 18.31it/s]\n"
          ]
        },
        {
          "output_type": "stream",
          "name": "stdout",
          "text": [
            "Loss = 693.6043791770935\n",
            "Accuracy = 0.06508712086291141\n",
            "Epoch 21\n"
          ]
        },
        {
          "output_type": "stream",
          "name": "stderr",
          "text": [
            "100%|██████████| 170/170 [00:09<00:00, 18.33it/s]\n"
          ]
        },
        {
          "output_type": "stream",
          "name": "stdout",
          "text": [
            "Loss = 690.1324033737183\n",
            "Accuracy = 0.06895915921452936\n",
            "Epoch 22\n"
          ]
        },
        {
          "output_type": "stream",
          "name": "stderr",
          "text": [
            "100%|██████████| 170/170 [00:09<00:00, 18.45it/s]\n"
          ]
        },
        {
          "output_type": "stream",
          "name": "stdout",
          "text": [
            "Loss = 691.3609223365784\n",
            "Accuracy = 0.06637780031345072\n",
            "Epoch 23\n"
          ]
        },
        {
          "output_type": "stream",
          "name": "stderr",
          "text": [
            "100%|██████████| 170/170 [00:09<00:00, 18.35it/s]\n"
          ]
        },
        {
          "output_type": "stream",
          "name": "stdout",
          "text": [
            "Loss = 695.8186423778534\n",
            "Accuracy = 0.06674656587074768\n",
            "Epoch 24\n"
          ]
        },
        {
          "output_type": "stream",
          "name": "stderr",
          "text": [
            "100%|██████████| 170/170 [00:09<00:00, 17.38it/s]\n"
          ]
        },
        {
          "output_type": "stream",
          "name": "stdout",
          "text": [
            "Loss = 689.8129594326019\n",
            "Accuracy = 0.06748409698534157\n",
            "Epoch 25\n"
          ]
        },
        {
          "output_type": "stream",
          "name": "stderr",
          "text": [
            "100%|██████████| 170/170 [00:09<00:00, 18.22it/s]\n"
          ]
        },
        {
          "output_type": "stream",
          "name": "stdout",
          "text": [
            "Loss = 687.7883548736572\n",
            "Accuracy = 0.07495159952060478\n",
            "Epoch 26\n"
          ]
        },
        {
          "output_type": "stream",
          "name": "stderr",
          "text": [
            "100%|██████████| 170/170 [00:09<00:00, 18.36it/s]\n"
          ]
        },
        {
          "output_type": "stream",
          "name": "stdout",
          "text": [
            "Loss = 683.3860726356506\n",
            "Accuracy = 0.075043790909929\n",
            "Epoch 27\n"
          ]
        },
        {
          "output_type": "stream",
          "name": "stderr",
          "text": [
            "100%|██████████| 170/170 [00:09<00:00, 18.51it/s]\n"
          ]
        },
        {
          "output_type": "stream",
          "name": "stdout",
          "text": [
            "Loss = 683.5136439800262\n",
            "Accuracy = 0.07458283396330782\n",
            "Epoch 28\n"
          ]
        },
        {
          "output_type": "stream",
          "name": "stderr",
          "text": [
            "100%|██████████| 170/170 [00:09<00:00, 17.36it/s]\n"
          ]
        },
        {
          "output_type": "stream",
          "name": "stdout",
          "text": [
            "Loss = 705.7977051734924\n",
            "Accuracy = 0.061583848068590394\n",
            "Epoch 29\n"
          ]
        },
        {
          "output_type": "stream",
          "name": "stderr",
          "text": [
            "100%|██████████| 170/170 [00:09<00:00, 18.39it/s]\n"
          ]
        },
        {
          "output_type": "stream",
          "name": "stdout",
          "text": [
            "Loss = 690.7545375823975\n",
            "Accuracy = 0.07071079561168987\n",
            "Epoch 30\n"
          ]
        },
        {
          "output_type": "stream",
          "name": "stderr",
          "text": [
            "100%|██████████| 170/170 [00:09<00:00, 18.46it/s]\n"
          ]
        },
        {
          "output_type": "stream",
          "name": "stdout",
          "text": [
            "Loss = 678.5451805591583\n",
            "Accuracy = 0.0755047478565502\n",
            "Epoch 31\n"
          ]
        },
        {
          "output_type": "stream",
          "name": "stderr",
          "text": [
            "100%|██████████| 170/170 [00:09<00:00, 17.40it/s]\n"
          ]
        },
        {
          "output_type": "stream",
          "name": "stdout",
          "text": [
            "Loss = 679.7500293254852\n",
            "Accuracy = 0.08094403982668019\n",
            "Epoch 32\n"
          ]
        },
        {
          "output_type": "stream",
          "name": "stderr",
          "text": [
            "100%|██████████| 170/170 [00:09<00:00, 18.40it/s]\n"
          ]
        },
        {
          "output_type": "stream",
          "name": "stdout",
          "text": [
            "Loss = 683.4045052528381\n",
            "Accuracy = 0.08085184843735595\n",
            "Epoch 33\n"
          ]
        },
        {
          "output_type": "stream",
          "name": "stderr",
          "text": [
            "100%|██████████| 170/170 [00:09<00:00, 18.06it/s]\n"
          ]
        },
        {
          "output_type": "stream",
          "name": "stdout",
          "text": [
            "Loss = 685.6125299930573\n",
            "Accuracy = 0.07688761869641375\n",
            "Epoch 34\n"
          ]
        },
        {
          "output_type": "stream",
          "name": "stderr",
          "text": [
            "100%|██████████| 170/170 [00:09<00:00, 18.28it/s]\n"
          ]
        },
        {
          "output_type": "stream",
          "name": "stdout",
          "text": [
            "Loss = 684.2431943416595\n",
            "Accuracy = 0.07661104452844104\n",
            "Epoch 35\n"
          ]
        },
        {
          "output_type": "stream",
          "name": "stderr",
          "text": [
            "100%|██████████| 170/170 [00:09<00:00, 18.44it/s]\n"
          ]
        },
        {
          "output_type": "stream",
          "name": "stdout",
          "text": [
            "Loss = 693.3136918544769\n",
            "Accuracy = 0.07356872868074121\n",
            "Epoch 36\n"
          ]
        },
        {
          "output_type": "stream",
          "name": "stderr",
          "text": [
            "100%|██████████| 170/170 [00:09<00:00, 18.34it/s]\n"
          ]
        },
        {
          "output_type": "stream",
          "name": "stdout",
          "text": [
            "Loss = 697.3568789958954\n",
            "Accuracy = 0.0732921545127685\n",
            "Epoch 37\n"
          ]
        },
        {
          "output_type": "stream",
          "name": "stderr",
          "text": [
            "100%|██████████| 170/170 [00:09<00:00, 18.16it/s]\n"
          ]
        },
        {
          "output_type": "stream",
          "name": "stdout",
          "text": [
            "Loss = 685.2362961769104\n",
            "Accuracy = 0.07688761869641375\n",
            "Epoch 38\n"
          ]
        },
        {
          "output_type": "stream",
          "name": "stderr",
          "text": [
            "100%|██████████| 170/170 [00:09<00:00, 17.38it/s]\n"
          ]
        },
        {
          "output_type": "stream",
          "name": "stdout",
          "text": [
            "Loss = 682.9370648860931\n",
            "Accuracy = 0.07965336037614087\n",
            "Epoch 39\n"
          ]
        },
        {
          "output_type": "stream",
          "name": "stderr",
          "text": [
            "100%|██████████| 170/170 [00:09<00:00, 18.42it/s]\n"
          ]
        },
        {
          "output_type": "stream",
          "name": "stdout",
          "text": [
            "Loss = 679.625186920166\n",
            "Accuracy = 0.08232691066654374\n",
            "Epoch 40\n"
          ]
        },
        {
          "output_type": "stream",
          "name": "stderr",
          "text": [
            "100%|██████████| 170/170 [00:09<00:00, 18.43it/s]\n"
          ]
        },
        {
          "output_type": "stream",
          "name": "stdout",
          "text": [
            "Loss = 674.5342745780945\n",
            "Accuracy = 0.08758181985802527\n",
            "Epoch 41\n"
          ]
        },
        {
          "output_type": "stream",
          "name": "stderr",
          "text": [
            "100%|██████████| 170/170 [00:09<00:00, 18.26it/s]\n"
          ]
        },
        {
          "output_type": "stream",
          "name": "stdout",
          "text": [
            "Loss = 679.6807208061218\n",
            "Accuracy = 0.08223471927721951\n",
            "Epoch 42\n"
          ]
        },
        {
          "output_type": "stream",
          "name": "stderr",
          "text": [
            "100%|██████████| 170/170 [00:09<00:00, 18.29it/s]\n"
          ]
        },
        {
          "output_type": "stream",
          "name": "stdout",
          "text": [
            "Loss = 673.1977968215942\n",
            "Accuracy = 0.08555360929289205\n",
            "Epoch 43\n"
          ]
        },
        {
          "output_type": "stream",
          "name": "stderr",
          "text": [
            "100%|██████████| 170/170 [00:09<00:00, 18.31it/s]\n"
          ]
        },
        {
          "output_type": "stream",
          "name": "stdout",
          "text": [
            "Loss = 673.50133061409\n",
            "Accuracy = 0.08315663317046187\n",
            "Epoch 44\n"
          ]
        },
        {
          "output_type": "stream",
          "name": "stderr",
          "text": [
            "100%|██████████| 170/170 [00:09<00:00, 18.13it/s]\n"
          ]
        },
        {
          "output_type": "stream",
          "name": "stdout",
          "text": [
            "Loss = 678.8306429386139\n",
            "Accuracy = 0.08389416428505578\n",
            "Epoch 45\n"
          ]
        },
        {
          "output_type": "stream",
          "name": "stderr",
          "text": [
            "100%|██████████| 170/170 [00:09<00:00, 18.27it/s]\n"
          ]
        },
        {
          "output_type": "stream",
          "name": "stdout",
          "text": [
            "Loss = 674.2882523536682\n",
            "Accuracy = 0.08758181985802527\n",
            "Epoch 46\n"
          ]
        },
        {
          "output_type": "stream",
          "name": "stderr",
          "text": [
            "100%|██████████| 170/170 [00:09<00:00, 17.32it/s]\n"
          ]
        },
        {
          "output_type": "stream",
          "name": "stdout",
          "text": [
            "Loss = 677.9915130138397\n",
            "Accuracy = 0.0779939153683046\n",
            "Epoch 47\n"
          ]
        },
        {
          "output_type": "stream",
          "name": "stderr",
          "text": [
            "100%|██████████| 170/170 [00:09<00:00, 18.08it/s]\n"
          ]
        },
        {
          "output_type": "stream",
          "name": "stdout",
          "text": [
            "Loss = 683.0099408626556\n",
            "Accuracy = 0.07965336037614087\n",
            "Epoch 48\n"
          ]
        },
        {
          "output_type": "stream",
          "name": "stderr",
          "text": [
            "100%|██████████| 170/170 [00:09<00:00, 18.27it/s]\n"
          ]
        },
        {
          "output_type": "stream",
          "name": "stdout",
          "text": [
            "Loss = 679.8886294364929\n",
            "Accuracy = 0.07863925509357426\n",
            "Epoch 49\n"
          ]
        },
        {
          "output_type": "stream",
          "name": "stderr",
          "text": [
            "100%|██████████| 170/170 [00:09<00:00, 18.25it/s]"
          ]
        },
        {
          "output_type": "stream",
          "name": "stdout",
          "text": [
            "Loss = 677.1314225196838\n",
            "Accuracy = 0.0834332073384346\n",
            "Best Accuracy = 0.08758181985802527\n"
          ]
        },
        {
          "output_type": "stream",
          "name": "stderr",
          "text": [
            "\n"
          ]
        }
      ],
      "source": [
        "from vit_pytorch import ViT\n",
        "\n",
        "vit_model100 = ViT(\n",
        "    image_size = 32,\n",
        "    patch_size = 4,\n",
        "    num_classes = 100,\n",
        "    dim = 256,\n",
        "    depth = 3,\n",
        "    heads = 8,\n",
        "    mlp_dim = 512,\n",
        "    dropout = 0.1,\n",
        "    emb_dropout = 0.1\n",
        ")\n",
        "\n",
        "vit_opt100 = torch.optim.Adam(vit_model100.parameters(), lr=0.07)\n",
        "\n",
        "vit_accs100, vit_losses100 = basic_train(vit_model100, cifar100_train_loader, vit_opt100, criterion, n_epochs=50)\n",
        "print(\"Best Accuracy =\", max(vit_accs100))"
      ]
    },
    {
      "cell_type": "code",
      "execution_count": null,
      "metadata": {
        "id": "Ws5lekBxJVUL",
        "colab": {
          "base_uri": "https://localhost:8080/"
        },
        "outputId": "e9d0ee34-2a73-4054-e909-a3a4397aa15d"
      },
      "outputs": [
        {
          "output_type": "stream",
          "name": "stderr",
          "text": [
            "100%|██████████| 34/34 [00:00<00:00, 41.07it/s]"
          ]
        },
        {
          "output_type": "stream",
          "name": "stdout",
          "text": [
            "Test Loss =  135.56109046936035\n"
          ]
        },
        {
          "output_type": "stream",
          "name": "stderr",
          "text": [
            "\n"
          ]
        }
      ],
      "source": [
        "vit_preds100, vit_targets100 = basic_test(vit_model100, cifar100_test_loader, criterion)"
      ]
    },
    {
      "cell_type": "markdown",
      "metadata": {
        "id": "wKMnFiPzyeKR"
      },
      "source": [
        "Visualize Training of CIFAR-100\n"
      ]
    },
    {
      "cell_type": "code",
      "execution_count": null,
      "metadata": {
        "id": "9s81QAdTyeKd",
        "colab": {
          "base_uri": "https://localhost:8080/",
          "height": 295
        },
        "outputId": "6da4bb88-f9ee-4ec8-dce7-56e93fff8bff"
      },
      "outputs": [
        {
          "output_type": "display_data",
          "data": {
            "text/plain": [
              "<Figure size 432x288 with 1 Axes>"
            ],
            "image/png": "[encoded data removed]"
          },
          "metadata": {
            "needs_background": "light"
          }
        }
      ],
      "source": [
        "x = list(range(50)) # Number of epochs to plot\n",
        "\n",
        "plt.plot(x, res34_accs100, label = \"ResNet-34 Base\")\n",
        "plt.plot(x, pre_res34_accs100, label = \"ResNet-34 ImageNet\")\n",
        "plt.plot(x, vit_accs100, label = \"ViT\")\n",
        "plt.xlabel(\"Epochs\")\n",
        "plt.ylabel(\"Accuracy\")\n",
        "plt.title(\"CIFAR-100-LT: Imbalance Factor of 100\")\n",
        "plt.legend()\n",
        "plt.show()"
      ]
    },
    {
      "cell_type": "code",
      "execution_count": null,
      "metadata": {
        "id": "hsz5rQixyeKe",
        "colab": {
          "base_uri": "https://localhost:8080/",
          "height": 295
        },
        "outputId": "7cfc7086-ab0d-416a-cd50-ff6d2ef67c58"
      },
      "outputs": [
        {
          "output_type": "display_data",
          "data": {
            "text/plain": [
              "<Figure size 432x288 with 1 Axes>"
            ],
            "image/png": "[encoded data removed]"
          },
          "metadata": {
            "needs_background": "light"
          }
        }
      ],
      "source": [
        "plt.plot(x, res34_losses100, label = \"ResNet-34 Base\")\n",
        "plt.plot(x, pre_res34_losses100, label = \"ResNet-34 ImageNet\")\n",
        "plt.plot(x, vit_losses100, label = \"ViT\")\n",
        "plt.xlabel(\"Epochs\")\n",
        "plt.ylabel(\"Loss\")\n",
        "plt.title(\"CIFAR-100-LT: Imbalance Factor of 100\")\n",
        "plt.legend()\n",
        "plt.show()"
      ]
    },
    {
      "cell_type": "markdown",
      "metadata": {
        "id": "M_aAOg71KByk"
      },
      "source": [
        "##### Test Results"
      ]
    },
    {
      "cell_type": "code",
      "execution_count": null,
      "metadata": {
        "id": "qV_IEXr0P62Y"
      },
      "outputs": [],
      "source": [
        "many_classes = [i for i, num_cls in enumerate(cifar100_trainDataset.get_cls_num_list()) if num_cls > 100]\n",
        "medium_classes = [i for i, num_cls in enumerate(cifar100_trainDataset.get_cls_num_list()) if 20 <= num_cls <= 100]\n",
        "few_classes = [i for i, num_cls in enumerate(cifar100_trainDataset.get_cls_num_list()) if num_cls < 20]"
      ]
    },
    {
      "cell_type": "markdown",
      "metadata": {
        "id": "GQ7ZkNPmSVW7"
      },
      "source": [
        "Base ResNet-34"
      ]
    },
    {
      "cell_type": "code",
      "execution_count": null,
      "metadata": {
        "id": "x48Z8IhPKByr",
        "colab": {
          "base_uri": "https://localhost:8080/"
        },
        "outputId": "625d38d4-1087-471c-f6c2-6c5862d7a259"
      },
      "outputs": [
        {
          "output_type": "stream",
          "name": "stdout",
          "text": [
            "Test Accuracy =  0.38104176442984516\n",
            "Many Accuracy =  0.40530215947878345\n",
            "Medium Accuracy =  0.13576118608405205\n",
            "Few Accuracy =  0.027777777777777776\n"
          ]
        }
      ],
      "source": [
        "print(\"Test Accuracy = \", accuracy_score(res34_targets100, res34_preds100))\n",
        "\n",
        "res34_cm100 = confusion_matrix(res34_targets100, res34_preds100, normalize='true')\n",
        "print(\"Many Accuracy = \", np.mean([res34_cm100[cls, cls] for cls in many_classes]))\n",
        "print(\"Medium Accuracy = \", np.mean([res34_cm100[cls, cls] for cls in medium_classes]))\n",
        "print(\"Few Accuracy = \", np.mean([res34_cm100[cls, cls] for cls in few_classes]))"
      ]
    },
    {
      "cell_type": "markdown",
      "metadata": {
        "id": "DKgGMHpqSdFQ"
      },
      "source": [
        "Pretrained ResNet-34"
      ]
    },
    {
      "cell_type": "code",
      "execution_count": null,
      "metadata": {
        "id": "hQ0oh7kaKByr",
        "colab": {
          "base_uri": "https://localhost:8080/"
        },
        "outputId": "36cc45c5-7e87-459f-c065-c2230e5d6c56"
      },
      "outputs": [
        {
          "output_type": "stream",
          "name": "stdout",
          "text": [
            "Test Accuracy =  0.5631159080244017\n",
            "Many Accuracy =  0.5941801029625913\n",
            "Medium Accuracy =  0.2693812768635856\n",
            "Few Accuracy =  0.07777777777777777\n"
          ]
        }
      ],
      "source": [
        "print(\"Test Accuracy = \", accuracy_score(pre_res34_targets100, pre_res34_preds100))\n",
        "\n",
        "pre_res34_cm100 = confusion_matrix(pre_res34_targets100, pre_res34_preds100, normalize='true')\n",
        "print(\"Many Accuracy = \", np.mean([pre_res34_cm100[cls, cls] for cls in many_classes]))\n",
        "print(\"Medium Accuracy = \", np.mean([pre_res34_cm100[cls, cls] for cls in medium_classes]))\n",
        "print(\"Few Accuracy = \", np.mean([pre_res34_cm100[cls, cls] for cls in few_classes]))"
      ]
    },
    {
      "cell_type": "markdown",
      "metadata": {
        "id": "R3qqICu5Sfta"
      },
      "source": [
        "ViT"
      ]
    },
    {
      "cell_type": "code",
      "execution_count": null,
      "metadata": {
        "id": "pl-wQ2xCKBys",
        "colab": {
          "base_uri": "https://localhost:8080/"
        },
        "outputId": "7f5eedfd-84b8-4cd0-9c6e-c38b92db51ce"
      },
      "outputs": [
        {
          "output_type": "stream",
          "name": "stdout",
          "text": [
            "Test Accuracy =  0.1018301267010793\n",
            "Many Accuracy =  0.10220025352106499\n",
            "Medium Accuracy =  0.007142857142857143\n",
            "Few Accuracy =  0.0\n"
          ]
        }
      ],
      "source": [
        "print(\"Test Accuracy = \", accuracy_score(vit_targets100, vit_preds100))\n",
        "\n",
        "vit_cm100 = confusion_matrix(vit_targets100, vit_preds100, normalize='true')\n",
        "print(\"Many Accuracy = \", np.mean([vit_cm100[cls, cls] for cls in many_classes]))\n",
        "print(\"Medium Accuracy = \", np.mean([vit_cm100[cls, cls] for cls in medium_classes]))\n",
        "print(\"Few Accuracy = \", np.mean([vit_cm100[cls, cls] for cls in few_classes]))"
      ]
    },
    {
      "cell_type": "code",
      "source": [
        "# TODO: 3x3 confusion matrix for many, medium, few"
      ],
      "metadata": {
        "id": "TQL21cGQGy0Q"
      },
      "execution_count": null,
      "outputs": []
    },
    {
      "cell_type": "markdown",
      "metadata": {
        "id": "ZQwlGDlFNZPj"
      },
      "source": [
        "## BCL Paper Models"
      ]
    },
    {
      "cell_type": "code",
      "execution_count": 10,
      "metadata": {
        "id": "Wg94SxUHNexo"
      },
      "outputs": [],
      "source": [
        "from models import resnets\n",
        "from loss.contrastive import BalSCL\n",
        "from loss.logitadjust import LogitAdjust\n",
        "from randaugment import rand_augment_transform\n",
        "from cutout import Cutout\n",
        "\n",
        "ra_params = dict(translate_const=int(224 * 0.45), img_mean=tuple([min(255, round(255 * x)) for x in (0.485, 0.456, 0.406)]), )\n",
        "\n",
        "augmentation_randncls = [\n",
        "        transforms.RandomResizedCrop(224, scale=(0.08, 1.)),\n",
        "        transforms.RandomHorizontalFlip(),\n",
        "        transforms.RandomApply([\n",
        "            transforms.ColorJitter(0.4, 0.4, 0.4, 0.0)\n",
        "        ], p=1.0),\n",
        "        rand_augment_transform('rand-n{}-m{}-mstd0.5'.format(2, 10), ra_params),\n",
        "        transforms.ToTensor(),\n",
        "        Cutout(4, 6),\n",
        "        transforms.Normalize((0.485, 0.456, 0.406), (0.229, 0.224, 0.225)),\n",
        "    ]\n",
        "\n",
        "augmentation_randnclsstack = [\n",
        "        transforms.RandomResizedCrop(224),\n",
        "        transforms.RandomHorizontalFlip(),\n",
        "        transforms.RandomApply([\n",
        "            transforms.ColorJitter(0.4, 0.4, 0.4, 0.1)\n",
        "        ], p=0.8),\n",
        "        transforms.RandomGrayscale(p=0.2),\n",
        "        rand_augment_transform('rand-n{}-m{}-mstd0.5'.format(2, 10), ra_params),\n",
        "        transforms.ToTensor(),\n",
        "        Cutout(4, 6),\n",
        "        transforms.Normalize((0.485, 0.456, 0.406), (0.229, 0.224, 0.225)),\n",
        "    ]\n",
        "\n",
        "augmentation_sim = [\n",
        "        transforms.RandomResizedCrop(224),\n",
        "        transforms.RandomHorizontalFlip(),\n",
        "        transforms.RandomApply([\n",
        "            transforms.ColorJitter(0.4, 0.4, 0.4, 0.1)  # not strengthened\n",
        "        ], p=0.8),\n",
        "        transforms.RandomGrayscale(p=0.2),\n",
        "        transforms.ToTensor(),\n",
        "        transforms.Normalize((0.485, 0.456, 0.406), (0.229, 0.224, 0.225)),\n",
        "    ]\n",
        "\n",
        "transform_train = [transforms.Compose(augmentation_randncls), transforms.Compose(augmentation_randnclsstack), transforms.Compose(augmentation_sim), ]\n",
        "transform_val = transforms.Compose([\n",
        "        transforms.Resize(256),\n",
        "        transforms.CenterCrop(224),\n",
        "        transforms.ToTensor(),\n",
        "        transforms.Normalize((0.485, 0.456, 0.406), (0.229, 0.224, 0.225)),\n",
        "    ])\n",
        "\n",
        "alpha = 2.0\n",
        "beta = 0.6"
      ]
    },
    {
      "cell_type": "code",
      "execution_count": 11,
      "metadata": {
        "id": "WRveLgwGrTGJ"
      },
      "outputs": [],
      "source": [
        "def train_BCL(model, train_loader, optimizer, ce_criterion, scl_criterion, cls_num, n_epochs=100):\n",
        "    model.to(device)\n",
        "    model.train()\n",
        "\n",
        "    accs = []\n",
        "    losses = []\n",
        "\n",
        "    for epoch in range(n_epochs):\n",
        "        epoch_loss = 0\n",
        "        epoch_correct = 0\n",
        "        num_preds = 0\n",
        "\n",
        "        print(\"Epoch:\", epoch)\n",
        "        for inputs, targets in tqdm(train_loader):\n",
        "            optimizer.zero_grad()\n",
        "\n",
        "            inputs = torch.cat([inputs[0], inputs[1], inputs[2]], dim=0)\n",
        "            inputs, targets = inputs.to(device), targets.to(device)\n",
        "            batch_size = targets.shape[0]\n",
        "            feat_mlp, logits, centers = model(inputs)\n",
        "            centers = centers[:cls_num]\n",
        "            _, f2, f3 = torch.split(feat_mlp, [batch_size, batch_size, batch_size], dim=0)\n",
        "            features = torch.cat([f2.unsqueeze(1), f3.unsqueeze(1)], dim=1)\n",
        "            logits, _, __ = torch.split(logits, [batch_size, batch_size, batch_size], dim=0)\n",
        "            scl_loss = criterion_scl(centers, features, targets)\n",
        "            ce_loss = criterion_ce(logits, targets)\n",
        "            \n",
        "            loss = alpha * ce_loss + beta * scl_loss\n",
        "            epoch_loss += loss.item()\n",
        "\n",
        "            epoch_correct += torch.sum(torch.argmax(logits, dim=1) == targets).item()\n",
        "            num_preds += batch_size\n",
        "\n",
        "            loss.backward()\n",
        "            optimizer.step()\n",
        "      \n",
        "        epoch_acc = epoch_correct / num_preds\n",
        "        accs += [epoch_acc]\n",
        "        losses += [epoch_loss]\n",
        "\n",
        "        print(f\"Loss = {epoch_loss}\")\n",
        "        print(f\"Accuracy = {epoch_acc}\")\n",
        "\n",
        "    model.cpu()\n",
        "    return accs, losses\n",
        "\n",
        "\n",
        "def validate_BCL(model, val_loader, criterion):\n",
        "    model.to(device)\n",
        "    model.eval()\n",
        "\n",
        "    preds = []\n",
        "    labels = []\n",
        "\n",
        "    epoch_adj_loss = 0\n",
        "    epoch_loss = 0\n",
        "    with torch.no_grad():\n",
        "        for i, data in enumerate(val_loader):\n",
        "            inputs, targets = data\n",
        "            inputs, targets = inputs.to(device), targets.to(device)\n",
        "            batch_size = targets.size(0)\n",
        "            feat_mlp, logits, centers = model(inputs)\n",
        "\n",
        "            ce_loss = criterion_ce(logits, targets)\n",
        "            epoch_adj_loss += ce_loss.item()\n",
        "            loss = criterion(logits, targets)\n",
        "            epoch_loss += loss.item()\n",
        "\n",
        "            preds += torch.argmax(logits, dim=1).view(-1).cpu().detach().tolist()\n",
        "            labels += targets.cpu().detach().tolist()\n",
        "\n",
        "    print(\"Test Adjusted Classification Loss = \", epoch_adj_loss)\n",
        "    print(\"Test Loss = \", epoch_loss)\n",
        "\n",
        "    model.cpu()\n",
        "    return preds, labels"
      ]
    },
    {
      "cell_type": "markdown",
      "metadata": {
        "id": "UoukIl1A8uUF"
      },
      "source": [
        "CIFAR-10-LT"
      ]
    },
    {
      "cell_type": "markdown",
      "source": [
        "Weighted CE loss"
      ],
      "metadata": {
        "id": "8imcvHRMihXf"
      }
    },
    {
      "cell_type": "code",
      "execution_count": 16,
      "metadata": {
        "colab": {
          "base_uri": "https://localhost:8080/",
          "height": 405
        },
        "id": "Kx7uqDuH8wTp",
        "outputId": "fe90b062-1162-414b-8259-fcaa82af0315"
      },
      "outputs": [
        {
          "output_type": "stream",
          "name": "stdout",
          "text": [
            "Files already downloaded and verified\n",
            "Files already downloaded and verified\n"
          ]
        },
        {
          "output_type": "error",
          "ename": "RuntimeError",
          "evalue": "ignored",
          "traceback": [
            "\u001b[0;31m---------------------------------------------------------------------------\u001b[0m",
            "\u001b[0;31mRuntimeError\u001b[0m                              Traceback (most recent call last)",
            "\u001b[0;32m<ipython-input-16-ae9ab9ded8f1>\u001b[0m in \u001b[0;36m<module>\u001b[0;34m\u001b[0m\n\u001b[1;32m     14\u001b[0m \u001b[0;31m# print(criterion_ce_weight)\u001b[0m\u001b[0;34m\u001b[0m\u001b[0;34m\u001b[0m\u001b[0;34m\u001b[0m\u001b[0m\n\u001b[1;32m     15\u001b[0m \u001b[0;34m\u001b[0m\u001b[0m\n\u001b[0;32m---> 16\u001b[0;31m \u001b[0mcriterion_ce\u001b[0m \u001b[0;34m=\u001b[0m \u001b[0mLogitAdjust\u001b[0m\u001b[0;34m(\u001b[0m\u001b[0mcls_num_list\u001b[0m\u001b[0;34m,\u001b[0m \u001b[0mweight\u001b[0m\u001b[0;34m=\u001b[0m\u001b[0;32mNone\u001b[0m\u001b[0;34m)\u001b[0m\u001b[0;34m.\u001b[0m\u001b[0mto\u001b[0m\u001b[0;34m(\u001b[0m\u001b[0mdevice\u001b[0m\u001b[0;34m)\u001b[0m\u001b[0;34m\u001b[0m\u001b[0;34m\u001b[0m\u001b[0m\n\u001b[0m\u001b[1;32m     17\u001b[0m \u001b[0mcriterion_scl\u001b[0m \u001b[0;34m=\u001b[0m \u001b[0mBalSCL\u001b[0m\u001b[0;34m(\u001b[0m\u001b[0mcls_num_list\u001b[0m\u001b[0;34m,\u001b[0m \u001b[0;36m0.1\u001b[0m\u001b[0;34m)\u001b[0m\u001b[0;34m.\u001b[0m\u001b[0mto\u001b[0m\u001b[0;34m(\u001b[0m\u001b[0mdevice\u001b[0m\u001b[0;34m)\u001b[0m \u001b[0;31m# temperature of 0.1\u001b[0m\u001b[0;34m\u001b[0m\u001b[0;34m\u001b[0m\u001b[0m\n",
            "\u001b[0;32m/content/Balanced-Contrastive-Learning/loss/logitadjust.py\u001b[0m in \u001b[0;36m__init__\u001b[0;34m(self, cls_num_list, tau, weight)\u001b[0m\n\u001b[1;32m     10\u001b[0m     \u001b[0;32mdef\u001b[0m \u001b[0m__init__\u001b[0m\u001b[0;34m(\u001b[0m\u001b[0mself\u001b[0m\u001b[0;34m,\u001b[0m \u001b[0mcls_num_list\u001b[0m\u001b[0;34m,\u001b[0m \u001b[0mtau\u001b[0m\u001b[0;34m=\u001b[0m\u001b[0;36m1\u001b[0m\u001b[0;34m,\u001b[0m \u001b[0mweight\u001b[0m\u001b[0;34m=\u001b[0m\u001b[0;32mNone\u001b[0m\u001b[0;34m)\u001b[0m\u001b[0;34m:\u001b[0m\u001b[0;34m\u001b[0m\u001b[0;34m\u001b[0m\u001b[0m\n\u001b[1;32m     11\u001b[0m         \u001b[0msuper\u001b[0m\u001b[0;34m(\u001b[0m\u001b[0mLogitAdjust\u001b[0m\u001b[0;34m,\u001b[0m \u001b[0mself\u001b[0m\u001b[0;34m)\u001b[0m\u001b[0;34m.\u001b[0m\u001b[0m__init__\u001b[0m\u001b[0;34m(\u001b[0m\u001b[0;34m)\u001b[0m\u001b[0;34m\u001b[0m\u001b[0;34m\u001b[0m\u001b[0m\n\u001b[0;32m---> 12\u001b[0;31m         \u001b[0mcls_num_list\u001b[0m \u001b[0;34m=\u001b[0m \u001b[0mtorch\u001b[0m\u001b[0;34m.\u001b[0m\u001b[0mcuda\u001b[0m\u001b[0;34m.\u001b[0m\u001b[0mFloatTensor\u001b[0m\u001b[0;34m(\u001b[0m\u001b[0mcls_num_list\u001b[0m\u001b[0;34m)\u001b[0m\u001b[0;34m\u001b[0m\u001b[0;34m\u001b[0m\u001b[0m\n\u001b[0m\u001b[1;32m     13\u001b[0m         \u001b[0mcls_p_list\u001b[0m \u001b[0;34m=\u001b[0m \u001b[0mcls_num_list\u001b[0m \u001b[0;34m/\u001b[0m \u001b[0mcls_num_list\u001b[0m\u001b[0;34m.\u001b[0m\u001b[0msum\u001b[0m\u001b[0;34m(\u001b[0m\u001b[0;34m)\u001b[0m\u001b[0;34m\u001b[0m\u001b[0;34m\u001b[0m\u001b[0m\n\u001b[1;32m     14\u001b[0m         \u001b[0mm_list\u001b[0m \u001b[0;34m=\u001b[0m \u001b[0mtau\u001b[0m \u001b[0;34m*\u001b[0m \u001b[0mtorch\u001b[0m\u001b[0;34m.\u001b[0m\u001b[0mlog\u001b[0m\u001b[0;34m(\u001b[0m\u001b[0mcls_p_list\u001b[0m\u001b[0;34m)\u001b[0m\u001b[0;34m\u001b[0m\u001b[0;34m\u001b[0m\u001b[0m\n",
            "\u001b[0;32m/usr/local/lib/python3.7/dist-packages/torch/cuda/__init__.py\u001b[0m in \u001b[0;36m_lazy_init\u001b[0;34m()\u001b[0m\n\u001b[1;32m    215\u001b[0m         \u001b[0;31m# This function throws if there's a driver initialization error, no GPUs\u001b[0m\u001b[0;34m\u001b[0m\u001b[0;34m\u001b[0m\u001b[0;34m\u001b[0m\u001b[0m\n\u001b[1;32m    216\u001b[0m         \u001b[0;31m# are found or any other error occurs\u001b[0m\u001b[0;34m\u001b[0m\u001b[0;34m\u001b[0m\u001b[0;34m\u001b[0m\u001b[0m\n\u001b[0;32m--> 217\u001b[0;31m         \u001b[0mtorch\u001b[0m\u001b[0;34m.\u001b[0m\u001b[0m_C\u001b[0m\u001b[0;34m.\u001b[0m\u001b[0m_cuda_init\u001b[0m\u001b[0;34m(\u001b[0m\u001b[0;34m)\u001b[0m\u001b[0;34m\u001b[0m\u001b[0;34m\u001b[0m\u001b[0m\n\u001b[0m\u001b[1;32m    218\u001b[0m         \u001b[0;31m# Some of the queued calls may reentrantly call _lazy_init();\u001b[0m\u001b[0;34m\u001b[0m\u001b[0;34m\u001b[0m\u001b[0;34m\u001b[0m\u001b[0m\n\u001b[1;32m    219\u001b[0m         \u001b[0;31m# we need to just return without initializing in that case.\u001b[0m\u001b[0;34m\u001b[0m\u001b[0;34m\u001b[0m\u001b[0;34m\u001b[0m\u001b[0m\n",
            "\u001b[0;31mRuntimeError\u001b[0m: No CUDA GPUs are available"
          ]
        }
      ],
      "source": [
        "bcl_cifar10_train = IMBALANCECIFAR10(root='/DATACENTER/3/zjg/cifar', train=True,\n",
        "                                 download=True, transform=transform_train, bcl=True)\n",
        "bcl_cifar10_test = IMBALANCECIFAR10(root='/DATACENTER/3/zjg/cifar', train=False,\n",
        "                                 download=True, transform=transform_val, bcl=True)\n",
        "\n",
        "bcl_cifar10_train_loader = DataLoader(bcl_cifar10_train, batch_size=1, shuffle=True, pin_memory=True)\n",
        "bcl_cifar10_test_loader = DataLoader(bcl_cifar10_test, batch_size=1, shuffle=False, pin_memory=True)\n",
        "\n",
        "cls_num_list = bcl_cifar10_train.get_cls_num_list()\n",
        "cls_num = len(cls_num_list)\n",
        "\n",
        "cls_num_list_float=[float(x) for x in cls_num_list]\n",
        "criterion_ce_weight=torch.from_numpy(np.reciprocal(cls_num_list_float))\n",
        "print(criterion_ce_weight)\n",
        "\n",
        "criterion_ce = LogitAdjust(cls_num_list, weight=criterion_ce_weight).to(device)\n",
        "criterion_scl = BalSCL(cls_num_list, 0.1).to(device) # temperature of 0.1"
      ]
    },
    {
      "cell_type": "code",
      "execution_count": null,
      "metadata": {
        "colab": {
          "base_uri": "https://localhost:8080/"
        },
        "id": "GOo1cC41ok7X",
        "outputId": "5251fe9d-af17-4b37-ff54-d6c402f2a964"
      },
      "outputs": [
        {
          "metadata": {
            "tags": null
          },
          "name": "stdout",
          "output_type": "stream",
          "text": [
            "Epoch: 0\n"
          ]
        },
        {
          "metadata": {
            "tags": null
          },
          "name": "stderr",
          "output_type": "stream",
          "text": [
            "100%|██████████| 12406/12406 [18:43<00:00, 11.04it/s]\n"
          ]
        },
        {
          "metadata": {
            "tags": null
          },
          "name": "stdout",
          "output_type": "stream",
          "text": [
            "Loss = 53875.48897996545\n",
            "Accuracy = 0.11526680638400774\n",
            "Epoch: 1\n"
          ]
        },
        {
          "metadata": {
            "tags": null
          },
          "name": "stderr",
          "output_type": "stream",
          "text": [
            "100%|██████████| 12406/12406 [17:58<00:00, 11.50it/s]\n"
          ]
        },
        {
          "metadata": {
            "tags": null
          },
          "name": "stdout",
          "output_type": "stream",
          "text": [
            "Loss = 47941.10685890913\n",
            "Accuracy = 0.1493632113493471\n",
            "Epoch: 2\n"
          ]
        },
        {
          "metadata": {
            "tags": null
          },
          "name": "stderr",
          "output_type": "stream",
          "text": [
            "100%|██████████| 12406/12406 [17:48<00:00, 11.61it/s]\n"
          ]
        },
        {
          "metadata": {
            "tags": null
          },
          "name": "stdout",
          "output_type": "stream",
          "text": [
            "Loss = 46155.837296009064\n",
            "Accuracy = 0.22158632919555055\n",
            "Epoch: 3\n"
          ]
        },
        {
          "metadata": {
            "tags": null
          },
          "name": "stderr",
          "output_type": "stream",
          "text": [
            "100%|██████████| 12406/12406 [17:45<00:00, 11.64it/s]\n"
          ]
        },
        {
          "metadata": {
            "tags": null
          },
          "name": "stdout",
          "output_type": "stream",
          "text": [
            "Loss = 43197.50123047829\n",
            "Accuracy = 0.31186522650330484\n",
            "Epoch: 4\n"
          ]
        },
        {
          "metadata": {
            "tags": null
          },
          "name": "stderr",
          "output_type": "stream",
          "text": [
            "100%|██████████| 12406/12406 [17:46<00:00, 11.63it/s]\n"
          ]
        },
        {
          "metadata": {
            "tags": null
          },
          "name": "stdout",
          "output_type": "stream",
          "text": [
            "Loss = 40114.60444059968\n",
            "Accuracy = 0.3453167822021602\n",
            "Epoch: 5\n"
          ]
        },
        {
          "metadata": {
            "tags": null
          },
          "name": "stderr",
          "output_type": "stream",
          "text": [
            "100%|██████████| 12406/12406 [17:26<00:00, 11.85it/s]\n"
          ]
        },
        {
          "metadata": {
            "tags": null
          },
          "name": "stdout",
          "output_type": "stream",
          "text": [
            "Loss = 37760.821965917945\n",
            "Accuracy = 0.37699500241818473\n",
            "Epoch: 6\n"
          ]
        },
        {
          "metadata": {
            "tags": null
          },
          "name": "stderr",
          "output_type": "stream",
          "text": [
            "100%|██████████| 12406/12406 [17:00<00:00, 12.16it/s]\n"
          ]
        },
        {
          "metadata": {
            "tags": null
          },
          "name": "stdout",
          "output_type": "stream",
          "text": [
            "Loss = 35931.82910437137\n",
            "Accuracy = 0.4002095760116073\n",
            "Epoch: 7\n"
          ]
        },
        {
          "metadata": {
            "tags": null
          },
          "name": "stderr",
          "output_type": "stream",
          "text": [
            "100%|██████████| 12406/12406 [17:03<00:00, 12.12it/s]\n"
          ]
        },
        {
          "metadata": {
            "tags": null
          },
          "name": "stdout",
          "output_type": "stream",
          "text": [
            "Loss = 35003.89669390023\n",
            "Accuracy = 0.4077865548927938\n",
            "Epoch: 8\n"
          ]
        },
        {
          "metadata": {
            "tags": null
          },
          "name": "stderr",
          "output_type": "stream",
          "text": [
            "100%|██████████| 12406/12406 [17:27<00:00, 11.85it/s]\n"
          ]
        },
        {
          "metadata": {
            "tags": null
          },
          "name": "stdout",
          "output_type": "stream",
          "text": [
            "Loss = 33495.4537483044\n",
            "Accuracy = 0.41802353699822664\n",
            "Epoch: 9\n"
          ]
        },
        {
          "metadata": {
            "tags": null
          },
          "name": "stderr",
          "output_type": "stream",
          "text": [
            "100%|██████████| 12406/12406 [17:31<00:00, 11.80it/s]\n"
          ]
        },
        {
          "metadata": {
            "tags": null
          },
          "name": "stdout",
          "output_type": "stream",
          "text": [
            "Loss = 32393.619294710457\n",
            "Accuracy = 0.43954538126712883\n",
            "Epoch: 10\n"
          ]
        },
        {
          "metadata": {
            "tags": null
          },
          "name": "stderr",
          "output_type": "stream",
          "text": [
            "100%|██████████| 12406/12406 [17:21<00:00, 11.91it/s]\n"
          ]
        },
        {
          "metadata": {
            "tags": null
          },
          "name": "stdout",
          "output_type": "stream",
          "text": [
            "Loss = 31607.926505636424\n",
            "Accuracy = 0.44945993873931966\n",
            "Epoch: 11\n"
          ]
        },
        {
          "metadata": {
            "tags": null
          },
          "name": "stderr",
          "output_type": "stream",
          "text": [
            "100%|██████████| 12406/12406 [17:04<00:00, 12.11it/s]\n"
          ]
        },
        {
          "metadata": {
            "tags": null
          },
          "name": "stdout",
          "output_type": "stream",
          "text": [
            "Loss = 30572.90562743321\n",
            "Accuracy = 0.46735450588424954\n",
            "Epoch: 12\n"
          ]
        },
        {
          "output_type": "stream",
          "name": "stderr",
          "text": [
            " 42%|████▏     | 5266/12406 [07:13<09:45, 12.20it/s]"
          ]
        }
      ],
      "source": [
        "bcl_resnet10 = resnets.BCLModel(name='resnet32', num_classes=10, feat_dim=512, use_norm=True)\n",
        "bcl10_opt = torch.optim.SGD(bcl_resnet10.parameters(), lr=0.1, momentum=0.9)\n",
        "\n",
        "bcl_accs10, bcl_losses10 = train_BCL(bcl_resnet10, bcl_cifar10_train_loader, bcl10_opt, criterion_ce, criterion_scl, cls_num, n_epochs=100)\n",
        "print(\"-\"*50)\n",
        "print(\"Best Accuracy =\", max(bcl_accs10))"
      ]
    },
    {
      "cell_type": "code",
      "execution_count": null,
      "metadata": {
        "colab": {
          "base_uri": "https://localhost:8080/"
        },
        "id": "IIMDj4VyjPGp",
        "outputId": "6a532a58-32ca-4c0e-dc56-ea7693944e73"
      },
      "outputs": [
        {
          "name": "stdout",
          "output_type": "stream",
          "text": [
            "Test Adjusted Classification Loss =  17.330146484076977\n",
            "Test Loss =  30.044891729950905\n"
          ]
        }
      ],
      "source": [
        "bcl_res_preds, bcl_res_targets = validate_BCL(bcl_resnet10, bcl_cifar10_test_loader, criterion=nn.CrossEntropyLoss())"
      ]
    },
    {
      "cell_type": "markdown",
      "source": [
        "Focal Loss"
      ],
      "metadata": {
        "id": "NQ98QW9JjFp1"
      }
    },
    {
      "cell_type": "code",
      "source": [
        "from loss.focal import FocalLoss\n",
        "\n",
        "bcl_cifar10_train = IMBALANCECIFAR10(root='/DATACENTER/3/zjg/cifar', train=True,\n",
        "                                 download=True, transform=transform_train, bcl=True)\n",
        "bcl_cifar10_test = IMBALANCECIFAR10(root='/DATACENTER/3/zjg/cifar', train=False,\n",
        "                                 download=True, transform=transform_val, bcl=True)\n",
        "\n",
        "bcl_cifar10_train_loader = DataLoader(bcl_cifar10_train, batch_size=1, shuffle=True, pin_memory=True)\n",
        "bcl_cifar10_test_loader = DataLoader(bcl_cifar10_test, batch_size=1, shuffle=False, pin_memory=True)\n",
        "\n",
        "cls_num_list = bcl_cifar10_train.get_cls_num_list()\n",
        "cls_num = len(cls_num_list)\n",
        "\n",
        "\n",
        "# criterion_ce = LogitAdjust(cls_num_list, weight=criterion_ce_weight).to(device)\n",
        "criterion_focal=FocalLoss(cls_num_list)\n",
        "criterion_scl = BalSCL(cls_num_list, 0.1).to(device) # temperature of 0.1"
      ],
      "metadata": {
        "colab": {
          "base_uri": "https://localhost:8080/",
          "height": 405
        },
        "id": "5anTfSlXjGyw",
        "outputId": "1152e994-c99f-4393-8ce0-7ec3a544ce4a"
      },
      "execution_count": null,
      "outputs": [
        {
          "output_type": "stream",
          "name": "stdout",
          "text": [
            "Files already downloaded and verified\n",
            "Files already downloaded and verified\n"
          ]
        },
        {
          "output_type": "error",
          "ename": "RuntimeError",
          "evalue": "ignored",
          "traceback": [
            "\u001b[0;31m---------------------------------------------------------------------------\u001b[0m",
            "\u001b[0;31mRuntimeError\u001b[0m                              Traceback (most recent call last)",
            "\u001b[0;32m<ipython-input-14-1a8c39bb5a06>\u001b[0m in \u001b[0;36m<module>\u001b[0;34m\u001b[0m\n\u001b[1;32m     15\u001b[0m \u001b[0;34m\u001b[0m\u001b[0m\n\u001b[1;32m     16\u001b[0m \u001b[0;31m# criterion_ce = LogitAdjust(cls_num_list, weight=criterion_ce_weight).to(device)\u001b[0m\u001b[0;34m\u001b[0m\u001b[0;34m\u001b[0m\u001b[0;34m\u001b[0m\u001b[0m\n\u001b[0;32m---> 17\u001b[0;31m \u001b[0mcriterion_focal\u001b[0m\u001b[0;34m=\u001b[0m\u001b[0mFocalLoss\u001b[0m\u001b[0;34m(\u001b[0m\u001b[0mcls_num_list\u001b[0m\u001b[0;34m)\u001b[0m\u001b[0;34m\u001b[0m\u001b[0;34m\u001b[0m\u001b[0m\n\u001b[0m\u001b[1;32m     18\u001b[0m \u001b[0mcriterion_scl\u001b[0m \u001b[0;34m=\u001b[0m \u001b[0mBalSCL\u001b[0m\u001b[0;34m(\u001b[0m\u001b[0mcls_num_list\u001b[0m\u001b[0;34m,\u001b[0m \u001b[0;36m0.1\u001b[0m\u001b[0;34m)\u001b[0m\u001b[0;34m.\u001b[0m\u001b[0mto\u001b[0m\u001b[0;34m(\u001b[0m\u001b[0mdevice\u001b[0m\u001b[0;34m)\u001b[0m \u001b[0;31m# temperature of 0.1\u001b[0m\u001b[0;34m\u001b[0m\u001b[0;34m\u001b[0m\u001b[0m\n",
            "\u001b[0;32m/content/Balanced-Contrastive-Learning/loss/focal.py\u001b[0m in \u001b[0;36m__init__\u001b[0;34m(self, cls_num_list, weight, gamma, reduction)\u001b[0m\n\u001b[1;32m     25\u001b[0m     \u001b[0;32mdef\u001b[0m \u001b[0m__init__\u001b[0m\u001b[0;34m(\u001b[0m\u001b[0mself\u001b[0m\u001b[0;34m,\u001b[0m \u001b[0mcls_num_list\u001b[0m\u001b[0;34m,\u001b[0m \u001b[0mweight\u001b[0m\u001b[0;34m=\u001b[0m\u001b[0;32mNone\u001b[0m\u001b[0;34m,\u001b[0m \u001b[0mgamma\u001b[0m\u001b[0;34m=\u001b[0m\u001b[0;36m2.\u001b[0m\u001b[0;34m,\u001b[0m \u001b[0mreduction\u001b[0m\u001b[0;34m=\u001b[0m\u001b[0;32mNone\u001b[0m\u001b[0;34m)\u001b[0m\u001b[0;34m:\u001b[0m\u001b[0;34m\u001b[0m\u001b[0;34m\u001b[0m\u001b[0m\n\u001b[1;32m     26\u001b[0m         \u001b[0msuper\u001b[0m\u001b[0;34m(\u001b[0m\u001b[0mFocalLoss\u001b[0m\u001b[0;34m,\u001b[0m \u001b[0mself\u001b[0m\u001b[0;34m)\u001b[0m\u001b[0;34m.\u001b[0m\u001b[0m__init__\u001b[0m\u001b[0;34m(\u001b[0m\u001b[0;34m)\u001b[0m\u001b[0;34m\u001b[0m\u001b[0;34m\u001b[0m\u001b[0m\n\u001b[0;32m---> 27\u001b[0;31m         \u001b[0mcls_num_list\u001b[0m \u001b[0;34m=\u001b[0m \u001b[0mtorch\u001b[0m\u001b[0;34m.\u001b[0m\u001b[0mcuda\u001b[0m\u001b[0;34m.\u001b[0m\u001b[0mFloatTensor\u001b[0m\u001b[0;34m(\u001b[0m\u001b[0mcls_num_list\u001b[0m\u001b[0;34m)\u001b[0m\u001b[0;34m\u001b[0m\u001b[0;34m\u001b[0m\u001b[0m\n\u001b[0m\u001b[1;32m     28\u001b[0m         \u001b[0mcls_p_list\u001b[0m \u001b[0;34m=\u001b[0m \u001b[0mcls_num_list\u001b[0m \u001b[0;34m/\u001b[0m \u001b[0mcls_num_list\u001b[0m\u001b[0;34m.\u001b[0m\u001b[0msum\u001b[0m\u001b[0;34m(\u001b[0m\u001b[0;34m)\u001b[0m\u001b[0;34m\u001b[0m\u001b[0;34m\u001b[0m\u001b[0m\n\u001b[1;32m     29\u001b[0m         \u001b[0mm_list\u001b[0m \u001b[0;34m=\u001b[0m \u001b[0mtorch\u001b[0m\u001b[0;34m.\u001b[0m\u001b[0mlog\u001b[0m\u001b[0;34m(\u001b[0m\u001b[0mcls_p_list\u001b[0m\u001b[0;34m)\u001b[0m\u001b[0;34m\u001b[0m\u001b[0;34m\u001b[0m\u001b[0m\n",
            "\u001b[0;32m/usr/local/lib/python3.7/dist-packages/torch/cuda/__init__.py\u001b[0m in \u001b[0;36m_lazy_init\u001b[0;34m()\u001b[0m\n\u001b[1;32m    215\u001b[0m         \u001b[0;31m# This function throws if there's a driver initialization error, no GPUs\u001b[0m\u001b[0;34m\u001b[0m\u001b[0;34m\u001b[0m\u001b[0;34m\u001b[0m\u001b[0m\n\u001b[1;32m    216\u001b[0m         \u001b[0;31m# are found or any other error occurs\u001b[0m\u001b[0;34m\u001b[0m\u001b[0;34m\u001b[0m\u001b[0;34m\u001b[0m\u001b[0m\n\u001b[0;32m--> 217\u001b[0;31m         \u001b[0mtorch\u001b[0m\u001b[0;34m.\u001b[0m\u001b[0m_C\u001b[0m\u001b[0;34m.\u001b[0m\u001b[0m_cuda_init\u001b[0m\u001b[0;34m(\u001b[0m\u001b[0;34m)\u001b[0m\u001b[0;34m\u001b[0m\u001b[0;34m\u001b[0m\u001b[0m\n\u001b[0m\u001b[1;32m    218\u001b[0m         \u001b[0;31m# Some of the queued calls may reentrantly call _lazy_init();\u001b[0m\u001b[0;34m\u001b[0m\u001b[0;34m\u001b[0m\u001b[0;34m\u001b[0m\u001b[0m\n\u001b[1;32m    219\u001b[0m         \u001b[0;31m# we need to just return without initializing in that case.\u001b[0m\u001b[0;34m\u001b[0m\u001b[0;34m\u001b[0m\u001b[0;34m\u001b[0m\u001b[0m\n",
            "\u001b[0;31mRuntimeError\u001b[0m: No CUDA GPUs are available"
          ]
        }
      ]
    },
    {
      "cell_type": "code",
      "source": [
        "bcl_resnet10 = resnets.BCLModel(name='resnet32', num_classes=10, feat_dim=512, use_norm=True)\n",
        "bcl10_opt = torch.optim.SGD(bcl_resnet10.parameters(), lr=0.1, momentum=0.9)\n",
        "\n",
        "bcl_accs10, bcl_losses10 = train_BCL(bcl_resnet10, bcl_cifar10_train_loader, bcl10_opt, criterion_focal, criterion_scl, cls_num, n_epochs=50)\n",
        "print(\"-\"*50)\n",
        "print(\"Best Accuracy =\", max(bcl_accs10))"
      ],
      "metadata": {
        "id": "QtqW99EUjWQ3"
      },
      "execution_count": null,
      "outputs": []
    },
    {
      "cell_type": "markdown",
      "metadata": {
        "id": "VkIEgyv-eKzf"
      },
      "source": [
        "Visualize Training of CIFAR-10"
      ]
    },
    {
      "cell_type": "code",
      "execution_count": null,
      "metadata": {
        "colab": {
          "base_uri": "https://localhost:8080/",
          "height": 295
        },
        "id": "XNbdHWq0eKzm",
        "outputId": "3b871630-3ef4-4be5-9823-8d2467818f82"
      },
      "outputs": [
        {
          "data": {
            "image/png": "[encoded data removed]",
            "text/plain": [
              "<Figure size 432x288 with 1 Axes>"
            ]
          },
          "metadata": {},
          "output_type": "display_data"
        }
      ],
      "source": [
        "x = list(range(50)) # Number of epochs to plot\n",
        "\n",
        "plt.plot(x, bcl_accs10, label = \"ResNet-32 BCL\")\n",
        "plt.xlabel(\"Epochs\")\n",
        "plt.ylabel(\"Accuracy\")\n",
        "plt.title(\"CIFAR-10-LT\")\n",
        "plt.legend()\n",
        "plt.show()"
      ]
    },
    {
      "cell_type": "code",
      "execution_count": null,
      "metadata": {
        "colab": {
          "base_uri": "https://localhost:8080/",
          "height": 295
        },
        "id": "kvKdB8oVAsFO",
        "outputId": "a1a9428f-b0f0-4364-cdcd-b718049f1d1a"
      },
      "outputs": [
        {
          "data": {
            "image/png": "[encoded data removed]",
            "text/plain": [
              "<Figure size 432x288 with 1 Axes>"
            ]
          },
          "metadata": {},
          "output_type": "display_data"
        }
      ],
      "source": [
        "x = list(range(50)) # Number of epochs to plot\n",
        "\n",
        "plt.plot(x, bcl_losses10, label = \"ResNet-32 BCL\")\n",
        "plt.xlabel(\"Epochs\")\n",
        "plt.ylabel(\"Loss\")\n",
        "plt.title(\"CIFAR-10-LT\")\n",
        "plt.legend()\n",
        "plt.show()"
      ]
    },
    {
      "cell_type": "markdown",
      "metadata": {
        "id": "Wyv6yN3xjLEY"
      },
      "source": [
        "Test Results"
      ]
    },
    {
      "cell_type": "code",
      "execution_count": null,
      "metadata": {
        "colab": {
          "base_uri": "https://localhost:8080/",
          "height": 531
        },
        "id": "tbAOtm0cjLEf",
        "outputId": "d84156ed-eb2b-4963-f58d-1f161a59bae0"
      },
      "outputs": [
        {
          "name": "stdout",
          "output_type": "stream",
          "text": [
            "Test Accuracy =  0.7203389830508474\n"
          ]
        },
        {
          "data": {
            "text/plain": [
              "[Text(69.0, 0.5, 'True Class'),\n",
              " Text(0.5, 42.0, 'Predicted Class'),\n",
              " Text(0.5, 1.0, 'BCL ResNet-34 on CIFAR-10-LT')]"
            ]
          },
          "execution_count": 14,
          "metadata": {},
          "output_type": "execute_result"
        },
        {
          "data": {
            "image/png": "[encoded data removed]",
            "text/plain": [
              "<Figure size 720x504 with 2 Axes>"
            ]
          },
          "metadata": {},
          "output_type": "display_data"
        }
      ],
      "source": [
        "print(\"Test Accuracy = \", accuracy_score(bcl_res_targets, bcl_res_preds))\n",
        "bcl_res_cm = confusion_matrix(bcl_res_targets, bcl_res_preds, normalize='true')\n",
        "bcl_res_df_cm = pd.DataFrame(bcl_res_cm, index = list(range(10)), columns=list(range(10)))\n",
        "plt.figure(figsize = (10,7))\n",
        "ax = sn.heatmap(bcl_res_df_cm, annot=True)\n",
        "ax.set(xlabel=\"Predicted Class\", ylabel=\"True Class\", title=\"BCL ResNet-34 on CIFAR-10-LT\")"
      ]
    },
    {
      "cell_type": "markdown",
      "source": [
        "CIFAR-100-LT"
      ],
      "metadata": {
        "id": "6GsKmRbpmgqq"
      }
    },
    {
      "cell_type": "code",
      "source": [
        "bcl_cifar100_train = IMBALANCECIFAR100(root='/DATACENTER/3/zjg/cifar', train=True,\n",
        "                                 download=True, transform=transform_train, bcl=True)\n",
        "bcl_cifar100_test = IMBALANCECIFAR100(root='/DATACENTER/3/zjg/cifar', train=False,\n",
        "                                 download=True, transform=transform_val, bcl=True)\n",
        "\n",
        "bcl_cifar100_train_loader = DataLoader(bcl_cifar100_train, batch_size=64, shuffle=True, pin_memory=True)\n",
        "bcl_cifar100_test_loader = DataLoader(bcl_cifar100_test, batch_size=64, shuffle=False, pin_memory=True)\n",
        "\n",
        "cls_num_list = bcl_cifar100_train.get_cls_num_list()\n",
        "cls_num = len(cls_num_list)\n",
        "\n",
        "criterion_ce = LogitAdjust(cls_num_list).to(device)\n",
        "criterion_scl = BalSCL(cls_num_list, 0.1).to(device)"
      ],
      "metadata": {
        "colab": {
          "base_uri": "https://localhost:8080/",
          "height": 405
        },
        "outputId": "489858b4-6ca9-4d3a-e2c2-e7efb46d5708",
        "id": "aGiZaC7smgqs"
      },
      "execution_count": 12,
      "outputs": [
        {
          "output_type": "stream",
          "name": "stdout",
          "text": [
            "Files already downloaded and verified\n",
            "Files already downloaded and verified\n"
          ]
        },
        {
          "output_type": "error",
          "ename": "RuntimeError",
          "evalue": "ignored",
          "traceback": [
            "\u001b[0;31m---------------------------------------------------------------------------\u001b[0m",
            "\u001b[0;31mRuntimeError\u001b[0m                              Traceback (most recent call last)",
            "\u001b[0;32m<ipython-input-12-a7f905f0a2aa>\u001b[0m in \u001b[0;36m<module>\u001b[0;34m\u001b[0m\n\u001b[1;32m     10\u001b[0m \u001b[0mcls_num\u001b[0m \u001b[0;34m=\u001b[0m \u001b[0mlen\u001b[0m\u001b[0;34m(\u001b[0m\u001b[0mcls_num_list\u001b[0m\u001b[0;34m)\u001b[0m\u001b[0;34m\u001b[0m\u001b[0;34m\u001b[0m\u001b[0m\n\u001b[1;32m     11\u001b[0m \u001b[0;34m\u001b[0m\u001b[0m\n\u001b[0;32m---> 12\u001b[0;31m \u001b[0mcriterion_ce\u001b[0m \u001b[0;34m=\u001b[0m \u001b[0mLogitAdjust\u001b[0m\u001b[0;34m(\u001b[0m\u001b[0mcls_num_list\u001b[0m\u001b[0;34m)\u001b[0m\u001b[0;34m.\u001b[0m\u001b[0mto\u001b[0m\u001b[0;34m(\u001b[0m\u001b[0mdevice\u001b[0m\u001b[0;34m)\u001b[0m\u001b[0;34m\u001b[0m\u001b[0;34m\u001b[0m\u001b[0m\n\u001b[0m\u001b[1;32m     13\u001b[0m \u001b[0mcriterion_scl\u001b[0m \u001b[0;34m=\u001b[0m \u001b[0mBalSCL\u001b[0m\u001b[0;34m(\u001b[0m\u001b[0mcls_num_list\u001b[0m\u001b[0;34m,\u001b[0m \u001b[0;36m0.1\u001b[0m\u001b[0;34m)\u001b[0m\u001b[0;34m.\u001b[0m\u001b[0mto\u001b[0m\u001b[0;34m(\u001b[0m\u001b[0mdevice\u001b[0m\u001b[0;34m)\u001b[0m\u001b[0;34m\u001b[0m\u001b[0;34m\u001b[0m\u001b[0m\n",
            "\u001b[0;32m/content/Balanced-Contrastive-Learning/loss/logitadjust.py\u001b[0m in \u001b[0;36m__init__\u001b[0;34m(self, cls_num_list, tau, weight)\u001b[0m\n\u001b[1;32m     10\u001b[0m     \u001b[0;32mdef\u001b[0m \u001b[0m__init__\u001b[0m\u001b[0;34m(\u001b[0m\u001b[0mself\u001b[0m\u001b[0;34m,\u001b[0m \u001b[0mcls_num_list\u001b[0m\u001b[0;34m,\u001b[0m \u001b[0mtau\u001b[0m\u001b[0;34m=\u001b[0m\u001b[0;36m1\u001b[0m\u001b[0;34m,\u001b[0m \u001b[0mweight\u001b[0m\u001b[0;34m=\u001b[0m\u001b[0;32mNone\u001b[0m\u001b[0;34m)\u001b[0m\u001b[0;34m:\u001b[0m\u001b[0;34m\u001b[0m\u001b[0;34m\u001b[0m\u001b[0m\n\u001b[1;32m     11\u001b[0m         \u001b[0msuper\u001b[0m\u001b[0;34m(\u001b[0m\u001b[0mLogitAdjust\u001b[0m\u001b[0;34m,\u001b[0m \u001b[0mself\u001b[0m\u001b[0;34m)\u001b[0m\u001b[0;34m.\u001b[0m\u001b[0m__init__\u001b[0m\u001b[0;34m(\u001b[0m\u001b[0;34m)\u001b[0m\u001b[0;34m\u001b[0m\u001b[0;34m\u001b[0m\u001b[0m\n\u001b[0;32m---> 12\u001b[0;31m         \u001b[0mcls_num_list\u001b[0m \u001b[0;34m=\u001b[0m \u001b[0mtorch\u001b[0m\u001b[0;34m.\u001b[0m\u001b[0mcuda\u001b[0m\u001b[0;34m.\u001b[0m\u001b[0mFloatTensor\u001b[0m\u001b[0;34m(\u001b[0m\u001b[0mcls_num_list\u001b[0m\u001b[0;34m)\u001b[0m\u001b[0;34m\u001b[0m\u001b[0;34m\u001b[0m\u001b[0m\n\u001b[0m\u001b[1;32m     13\u001b[0m         \u001b[0mcls_p_list\u001b[0m \u001b[0;34m=\u001b[0m \u001b[0mcls_num_list\u001b[0m \u001b[0;34m/\u001b[0m \u001b[0mcls_num_list\u001b[0m\u001b[0;34m.\u001b[0m\u001b[0msum\u001b[0m\u001b[0;34m(\u001b[0m\u001b[0;34m)\u001b[0m\u001b[0;34m\u001b[0m\u001b[0;34m\u001b[0m\u001b[0m\n\u001b[1;32m     14\u001b[0m         \u001b[0mm_list\u001b[0m \u001b[0;34m=\u001b[0m \u001b[0mtau\u001b[0m \u001b[0;34m*\u001b[0m \u001b[0mtorch\u001b[0m\u001b[0;34m.\u001b[0m\u001b[0mlog\u001b[0m\u001b[0;34m(\u001b[0m\u001b[0mcls_p_list\u001b[0m\u001b[0;34m)\u001b[0m\u001b[0;34m\u001b[0m\u001b[0;34m\u001b[0m\u001b[0m\n",
            "\u001b[0;32m/usr/local/lib/python3.7/dist-packages/torch/cuda/__init__.py\u001b[0m in \u001b[0;36m_lazy_init\u001b[0;34m()\u001b[0m\n\u001b[1;32m    215\u001b[0m         \u001b[0;31m# This function throws if there's a driver initialization error, no GPUs\u001b[0m\u001b[0;34m\u001b[0m\u001b[0;34m\u001b[0m\u001b[0;34m\u001b[0m\u001b[0m\n\u001b[1;32m    216\u001b[0m         \u001b[0;31m# are found or any other error occurs\u001b[0m\u001b[0;34m\u001b[0m\u001b[0;34m\u001b[0m\u001b[0;34m\u001b[0m\u001b[0m\n\u001b[0;32m--> 217\u001b[0;31m         \u001b[0mtorch\u001b[0m\u001b[0;34m.\u001b[0m\u001b[0m_C\u001b[0m\u001b[0;34m.\u001b[0m\u001b[0m_cuda_init\u001b[0m\u001b[0;34m(\u001b[0m\u001b[0;34m)\u001b[0m\u001b[0;34m\u001b[0m\u001b[0;34m\u001b[0m\u001b[0m\n\u001b[0m\u001b[1;32m    218\u001b[0m         \u001b[0;31m# Some of the queued calls may reentrantly call _lazy_init();\u001b[0m\u001b[0;34m\u001b[0m\u001b[0;34m\u001b[0m\u001b[0;34m\u001b[0m\u001b[0m\n\u001b[1;32m    219\u001b[0m         \u001b[0;31m# we need to just return without initializing in that case.\u001b[0m\u001b[0;34m\u001b[0m\u001b[0;34m\u001b[0m\u001b[0;34m\u001b[0m\u001b[0m\n",
            "\u001b[0;31mRuntimeError\u001b[0m: No CUDA GPUs are available"
          ]
        }
      ]
    },
    {
      "cell_type": "code",
      "source": [
        "bcl_resnet100 = resnets.BCLModel(name='resnet32', num_classes=100, feat_dim=512, use_norm=True)\n",
        "bcl100_opt = torch.optim.SGD(bcl_resnet100.parameters(), lr=0.1, momentum=0.9)\n",
        "\n",
        "bcl_accs100, bcl_losses100 = train_BCL(bcl_resnet100, bcl_cifar100_train_loader, bcl100_opt, criterion_ce, criterion_scl, cls_num, n_epochs=150)\n",
        "print(\"-\"*50)\n",
        "print(\"Best Accuracy =\", max(bcl_accs100))"
      ],
      "metadata": {
        "colab": {
          "base_uri": "https://localhost:8080/",
          "height": 239
        },
        "outputId": "2ef29b71-fa6a-410b-a143-afaf96f09d2e",
        "id": "pHQH5_AImgqu"
      },
      "execution_count": 13,
      "outputs": [
        {
          "output_type": "error",
          "ename": "NameError",
          "evalue": "ignored",
          "traceback": [
            "\u001b[0;31m---------------------------------------------------------------------------\u001b[0m",
            "\u001b[0;31mNameError\u001b[0m                                 Traceback (most recent call last)",
            "\u001b[0;32m<ipython-input-13-d7e5e19ca60b>\u001b[0m in \u001b[0;36m<module>\u001b[0;34m\u001b[0m\n\u001b[1;32m      2\u001b[0m \u001b[0mbcl100_opt\u001b[0m \u001b[0;34m=\u001b[0m \u001b[0mtorch\u001b[0m\u001b[0;34m.\u001b[0m\u001b[0moptim\u001b[0m\u001b[0;34m.\u001b[0m\u001b[0mSGD\u001b[0m\u001b[0;34m(\u001b[0m\u001b[0mbcl_resnet100\u001b[0m\u001b[0;34m.\u001b[0m\u001b[0mparameters\u001b[0m\u001b[0;34m(\u001b[0m\u001b[0;34m)\u001b[0m\u001b[0;34m,\u001b[0m \u001b[0mlr\u001b[0m\u001b[0;34m=\u001b[0m\u001b[0;36m0.1\u001b[0m\u001b[0;34m,\u001b[0m \u001b[0mmomentum\u001b[0m\u001b[0;34m=\u001b[0m\u001b[0;36m0.9\u001b[0m\u001b[0;34m)\u001b[0m\u001b[0;34m\u001b[0m\u001b[0;34m\u001b[0m\u001b[0m\n\u001b[1;32m      3\u001b[0m \u001b[0;34m\u001b[0m\u001b[0m\n\u001b[0;32m----> 4\u001b[0;31m \u001b[0mbcl_accs100\u001b[0m\u001b[0;34m,\u001b[0m \u001b[0mbcl_losses100\u001b[0m \u001b[0;34m=\u001b[0m \u001b[0mtrain_BCL\u001b[0m\u001b[0;34m(\u001b[0m\u001b[0mbcl_resnet100\u001b[0m\u001b[0;34m,\u001b[0m \u001b[0mbcl_cifar100_train_loader\u001b[0m\u001b[0;34m,\u001b[0m \u001b[0mbcl100_opt\u001b[0m\u001b[0;34m,\u001b[0m \u001b[0mcriterion_ce\u001b[0m\u001b[0;34m,\u001b[0m \u001b[0mcriterion_scl\u001b[0m\u001b[0;34m,\u001b[0m \u001b[0mcls_num\u001b[0m\u001b[0;34m,\u001b[0m \u001b[0mn_epochs\u001b[0m\u001b[0;34m=\u001b[0m\u001b[0;36m150\u001b[0m\u001b[0;34m)\u001b[0m\u001b[0;34m\u001b[0m\u001b[0;34m\u001b[0m\u001b[0m\n\u001b[0m\u001b[1;32m      5\u001b[0m \u001b[0mprint\u001b[0m\u001b[0;34m(\u001b[0m\u001b[0;34m\"-\"\u001b[0m\u001b[0;34m*\u001b[0m\u001b[0;36m50\u001b[0m\u001b[0;34m)\u001b[0m\u001b[0;34m\u001b[0m\u001b[0;34m\u001b[0m\u001b[0m\n\u001b[1;32m      6\u001b[0m \u001b[0mprint\u001b[0m\u001b[0;34m(\u001b[0m\u001b[0;34m\"Best Accuracy =\"\u001b[0m\u001b[0;34m,\u001b[0m \u001b[0mmax\u001b[0m\u001b[0;34m(\u001b[0m\u001b[0mbcl_accs100\u001b[0m\u001b[0;34m)\u001b[0m\u001b[0;34m)\u001b[0m\u001b[0;34m\u001b[0m\u001b[0;34m\u001b[0m\u001b[0m\n",
            "\u001b[0;31mNameError\u001b[0m: name 'criterion_ce' is not defined"
          ]
        }
      ]
    },
    {
      "cell_type": "code",
      "source": [
        "bcl_res100_preds, bcl_res100_targets = validate_BCL(bcl_resnet100, bcl_cifar100_test_loader, criterion=nn.CrossEntropyLoss())"
      ],
      "metadata": {
        "colab": {
          "base_uri": "https://localhost:8080/",
          "height": 168
        },
        "outputId": "f7cefba3-2cfa-44df-a259-16a800a0947c",
        "id": "9qxEXeDHmgqv"
      },
      "execution_count": 19,
      "outputs": [
        {
          "output_type": "error",
          "ename": "NameError",
          "evalue": "ignored",
          "traceback": [
            "\u001b[0;31m---------------------------------------------------------------------------\u001b[0m",
            "\u001b[0;31mNameError\u001b[0m                                 Traceback (most recent call last)",
            "\u001b[0;32m<ipython-input-19-523465c0f9b7>\u001b[0m in \u001b[0;36m<module>\u001b[0;34m\u001b[0m\n\u001b[0;32m----> 1\u001b[0;31m \u001b[0mbcl_res100_preds\u001b[0m\u001b[0;34m,\u001b[0m \u001b[0mbcl_res100_targets\u001b[0m \u001b[0;34m=\u001b[0m \u001b[0mvalidate_BCL\u001b[0m\u001b[0;34m(\u001b[0m\u001b[0mbcl_resnet100\u001b[0m\u001b[0;34m,\u001b[0m \u001b[0mbcl_cifar100_test_loader\u001b[0m\u001b[0;34m,\u001b[0m \u001b[0mcriterion\u001b[0m\u001b[0;34m=\u001b[0m\u001b[0mnn\u001b[0m\u001b[0;34m.\u001b[0m\u001b[0mCrossEntropyLoss\u001b[0m\u001b[0;34m(\u001b[0m\u001b[0;34m)\u001b[0m\u001b[0;34m)\u001b[0m\u001b[0;34m\u001b[0m\u001b[0;34m\u001b[0m\u001b[0m\n\u001b[0m",
            "\u001b[0;31mNameError\u001b[0m: name 'bcl_resnet100' is not defined"
          ]
        }
      ]
    },
    {
      "cell_type": "code",
      "source": [
        "x = list(range(150)) # Number of epochs to plot\n",
        "\n",
        "plt.plot(x, bcl_accs100, label = \"ResNet-32 BCL\")\n",
        "plt.xlabel(\"Epochs\")\n",
        "plt.ylabel(\"Accuracy\")\n",
        "plt.title(\"CIFAR-100-LT\")\n",
        "plt.legend()\n",
        "plt.show()"
      ],
      "metadata": {
        "colab": {
          "base_uri": "https://localhost:8080/",
          "height": 295
        },
        "outputId": "b3a47af6-e55a-471c-ba9d-cffb60cd15a9",
        "id": "k_eQr9Y5mgqv"
      },
      "execution_count": null,
      "outputs": [
        {
          "output_type": "display_data",
          "data": {
            "text/plain": [
              "<Figure size 432x288 with 1 Axes>"
            ],
            "image/png": "[encoded data removed]"
          },
          "metadata": {
            "needs_background": "light"
          }
        }
      ]
    },
    {
      "cell_type": "code",
      "source": [
        "x = list(range(150)) # Number of epochs to plot\n",
        "\n",
        "plt.plot(x, bcl_losses100, label = \"ResNet-32 BCL\")\n",
        "plt.xlabel(\"Epochs\")\n",
        "plt.ylabel(\"Loss\")\n",
        "plt.title(\"CIFAR-100-LT\")\n",
        "plt.legend()\n",
        "plt.show()"
      ],
      "metadata": {
        "colab": {
          "base_uri": "https://localhost:8080/",
          "height": 295
        },
        "outputId": "1ca7c655-1857-4769-f527-27aedf379c26",
        "id": "tVkc4bd-mgqw"
      },
      "execution_count": null,
      "outputs": [
        {
          "output_type": "display_data",
          "data": {
            "text/plain": [
              "<Figure size 432x288 with 1 Axes>"
            ],
            "image/png": "[encoded data removed]"
          },
          "metadata": {
            "needs_background": "light"
          }
        }
      ]
    },
    {
      "cell_type": "markdown",
      "source": [
        "Test Results"
      ],
      "metadata": {
        "id": "Nwyv-mlhmgqx"
      }
    },
    {
      "cell_type": "code",
      "source": [
        "many_classes = [i for i, num_cls in enumerate(cls_num_list) if num_cls > 100]\n",
        "medium_classes = [i for i, num_cls in enumerate(cls_num_list) if 20 <= num_cls <= 100]\n",
        "few_classes = [i for i, num_cls in enumerate(cls_num_list) if num_cls < 20]"
      ],
      "metadata": {
        "id": "fZj3KaJHmgqx"
      },
      "execution_count": 17,
      "outputs": []
    },
    {
      "cell_type": "code",
      "source": [
        "print(\"Test Accuracy = \", accuracy_score(bcl_res100_targets, bcl_res100_preds))\n",
        "\n",
        "bcl_res100_cm = confusion_matrix(bcl_res100_targets, bcl_res100_preds, normalize='true')\n",
        "print(\"Many Accuracy = \", np.mean([bcl_res100_cm[cls, cls] for cls in many_classes]))\n",
        "print(\"Medium Accuracy = \", np.mean([bcl_res100_cm[cls, cls] for cls in medium_classes]))\n",
        "print(\"Few Accuracy = \", np.mean([bcl_res100_cm[cls, cls] for cls in few_classes]))"
      ],
      "metadata": {
        "colab": {
          "base_uri": "https://localhost:8080/",
          "height": 239
        },
        "outputId": "cfbdad80-dfae-4721-9bbf-ea6b7568fa3a",
        "id": "mhbrR8iimgqy"
      },
      "execution_count": 18,
      "outputs": [
        {
          "output_type": "error",
          "ename": "NameError",
          "evalue": "ignored",
          "traceback": [
            "\u001b[0;31m---------------------------------------------------------------------------\u001b[0m",
            "\u001b[0;31mNameError\u001b[0m                                 Traceback (most recent call last)",
            "\u001b[0;32m<ipython-input-18-3cdc8e432584>\u001b[0m in \u001b[0;36m<module>\u001b[0;34m\u001b[0m\n\u001b[0;32m----> 1\u001b[0;31m \u001b[0mprint\u001b[0m\u001b[0;34m(\u001b[0m\u001b[0;34m\"Test Accuracy = \"\u001b[0m\u001b[0;34m,\u001b[0m \u001b[0maccuracy_score\u001b[0m\u001b[0;34m(\u001b[0m\u001b[0mbcl_res100_targets\u001b[0m\u001b[0;34m,\u001b[0m \u001b[0mbcl_res100_preds\u001b[0m\u001b[0;34m)\u001b[0m\u001b[0;34m)\u001b[0m\u001b[0;34m\u001b[0m\u001b[0;34m\u001b[0m\u001b[0m\n\u001b[0m\u001b[1;32m      2\u001b[0m \u001b[0;34m\u001b[0m\u001b[0m\n\u001b[1;32m      3\u001b[0m \u001b[0mbcl_res100_cm\u001b[0m \u001b[0;34m=\u001b[0m \u001b[0mconfusion_matrix\u001b[0m\u001b[0;34m(\u001b[0m\u001b[0mbcl_res100_targets\u001b[0m\u001b[0;34m,\u001b[0m \u001b[0mbcl_res100_preds\u001b[0m\u001b[0;34m,\u001b[0m \u001b[0mnormalize\u001b[0m\u001b[0;34m=\u001b[0m\u001b[0;34m'true'\u001b[0m\u001b[0;34m)\u001b[0m\u001b[0;34m\u001b[0m\u001b[0;34m\u001b[0m\u001b[0m\n\u001b[1;32m      4\u001b[0m \u001b[0mprint\u001b[0m\u001b[0;34m(\u001b[0m\u001b[0;34m\"Many Accuracy = \"\u001b[0m\u001b[0;34m,\u001b[0m \u001b[0mnp\u001b[0m\u001b[0;34m.\u001b[0m\u001b[0mmean\u001b[0m\u001b[0;34m(\u001b[0m\u001b[0;34m[\u001b[0m\u001b[0mbcl_res100_cm\u001b[0m\u001b[0;34m[\u001b[0m\u001b[0mcls\u001b[0m\u001b[0;34m,\u001b[0m \u001b[0mcls\u001b[0m\u001b[0;34m]\u001b[0m \u001b[0;32mfor\u001b[0m \u001b[0mcls\u001b[0m \u001b[0;32min\u001b[0m \u001b[0mmany_classes\u001b[0m\u001b[0;34m]\u001b[0m\u001b[0;34m)\u001b[0m\u001b[0;34m)\u001b[0m\u001b[0;34m\u001b[0m\u001b[0;34m\u001b[0m\u001b[0m\n\u001b[1;32m      5\u001b[0m \u001b[0mprint\u001b[0m\u001b[0;34m(\u001b[0m\u001b[0;34m\"Medium Accuracy = \"\u001b[0m\u001b[0;34m,\u001b[0m \u001b[0mnp\u001b[0m\u001b[0;34m.\u001b[0m\u001b[0mmean\u001b[0m\u001b[0;34m(\u001b[0m\u001b[0;34m[\u001b[0m\u001b[0mbcl_res100_cm\u001b[0m\u001b[0;34m[\u001b[0m\u001b[0mcls\u001b[0m\u001b[0;34m,\u001b[0m \u001b[0mcls\u001b[0m\u001b[0;34m]\u001b[0m \u001b[0;32mfor\u001b[0m \u001b[0mcls\u001b[0m \u001b[0;32min\u001b[0m \u001b[0mmedium_classes\u001b[0m\u001b[0;34m]\u001b[0m\u001b[0;34m)\u001b[0m\u001b[0;34m)\u001b[0m\u001b[0;34m\u001b[0m\u001b[0;34m\u001b[0m\u001b[0m\n",
            "\u001b[0;31mNameError\u001b[0m: name 'bcl_res100_targets' is not defined"
          ]
        }
      ]
    },
    {
      "cell_type": "code",
      "source": [
        "def compute_acc(cls_num_list,target,pred):\n",
        "  overall_acc=accuracy_score(target, pred)\n",
        "  cm = confusion_matrix(target, pred, normalize='true')\n",
        "  many_classes = [i for i, num_cls in enumerate(cls_num_list) if num_cls > 100]\n",
        "  medium_classes = [i for i, num_cls in enumerate(cls_num_list) if 20 <= num_cls <= 100]\n",
        "  few_classes = [i for i, num_cls in enumerate(cls_num_list) if num_cls < 20]\n",
        "  many_acc=np.mean([cm[cls, cls] for cls in many_classes])\n",
        "  medium_acc=np.mean([cm[cls, cls] for cls in medium_classes])\n",
        "  few_acc=np.mean([cm[cls, cls] for cls in few_classes])\n",
        "  print(\"Overall Accuracy = \", overall_acc)\n",
        "  print(\"Many Accuracy = \", many_acc)\n",
        "  print(\"Medium Accuracy = \", medium_acc)\n",
        "  print(\"Few Accuracy = \", few_acc)\n",
        "  return overall_acc, many_acc, medium_acc, few_acc"
      ],
      "metadata": {
        "id": "Uu2DBWeMMhmL"
      },
      "execution_count": 4,
      "outputs": []
    },
    {
      "cell_type": "code",
      "source": [
        "compute_acc(cls_num_list,target,pred)"
      ],
      "metadata": {
        "colab": {
          "base_uri": "https://localhost:8080/",
          "height": 168
        },
        "id": "kW-nLtf0Nyg2",
        "outputId": "2f24434d-646d-4ad4-907b-d384e80001de"
      },
      "execution_count": 5,
      "outputs": [
        {
          "output_type": "error",
          "ename": "NameError",
          "evalue": "ignored",
          "traceback": [
            "\u001b[0;31m---------------------------------------------------------------------------\u001b[0m",
            "\u001b[0;31mNameError\u001b[0m                                 Traceback (most recent call last)",
            "\u001b[0;32m<ipython-input-5-8016e0ea8a5c>\u001b[0m in \u001b[0;36m<module>\u001b[0;34m\u001b[0m\n\u001b[0;32m----> 1\u001b[0;31m \u001b[0mcompute_acc\u001b[0m\u001b[0;34m(\u001b[0m\u001b[0mcls_num_list\u001b[0m\u001b[0;34m,\u001b[0m\u001b[0mtarget\u001b[0m\u001b[0;34m,\u001b[0m\u001b[0mpred\u001b[0m\u001b[0;34m)\u001b[0m\u001b[0;34m\u001b[0m\u001b[0;34m\u001b[0m\u001b[0m\n\u001b[0m",
            "\u001b[0;31mNameError\u001b[0m: name 'cls_num_list' is not defined"
          ]
        }
      ]
    },
    {
      "cell_type": "code",
      "source": [
        "import pickle as pkl"
      ],
      "metadata": {
        "id": "hWPHJNDfnTQ7"
      },
      "execution_count": null,
      "outputs": []
    },
    {
      "cell_type": "code",
      "source": [
        "pkl.dump({\"acc\": bcl_accs100, \"loss\": bcl_losses100, \"preds\": bcl_res100_preds, \"targets\": bcl_res100_targets}, open(\"/content/bcl_100.pkl\", 'wb'))"
      ],
      "metadata": {
        "id": "OFAPq0j4V7Qf"
      },
      "execution_count": null,
      "outputs": []
    },
    {
      "cell_type": "code",
      "source": [
        "results = pkl.load(open(\"/content/bcl_100.pkl\", 'rb'))\n",
        "results['acc']"
      ],
      "metadata": {
        "colab": {
          "base_uri": "https://localhost:8080/"
        },
        "id": "mfvdE5hjXEcf",
        "outputId": "1ea70bcb-4e5b-4fb3-d70a-cadd7890cd3f"
      },
      "execution_count": null,
      "outputs": [
        {
          "output_type": "execute_result",
          "data": {
            "text/plain": [
              "[0.007928459481884392,\n",
              " 0.00672997142066931,\n",
              " 0.010141052825666083,\n",
              " 0.010325435604314558,\n",
              " 0.017055407024983867,\n",
              " 0.02148059371254725,\n",
              " 0.02009772287268369,\n",
              " 0.02747303401862266,\n",
              " 0.026090163178759104,\n",
              " 0.029593435973080114,\n",
              " 0.03549368488983129,\n",
              " 0.031990412095510276,\n",
              " 0.040011062966718906,\n",
              " 0.03872038351617959,\n",
              " 0.043237761593067206,\n",
              " 0.04452844104360653,\n",
              " 0.05061307273900618,\n",
              " 0.05374757997603024,\n",
              " 0.0643495897483175,\n",
              " 0.06646999170277496,\n",
              " 0.07384530284871393,\n",
              " 0.07762514981100765,\n",
              " 0.08334101594911035,\n",
              " 0.08914907347653729,\n",
              " 0.09504932239328846,\n",
              " 0.10094957131003965,\n",
              " 0.10998432746381488,\n",
              " 0.11837374389232046,\n",
              " 0.12879137088595924,\n",
              " 0.1363510648105467,\n",
              " 0.1495344334839126,\n",
              " 0.1497188162625611,\n",
              " 0.16041301742417258,\n",
              " 0.17368857748686273,\n",
              " 0.17756061583848068,\n",
              " 0.18447497003779847,\n",
              " 0.20180695123075504,\n",
              " 0.2064165206969669,\n",
              " 0.2115792384991242,\n",
              " 0.21720291324790264,\n",
              " 0.23010970775329584,\n",
              " 0.23536461694477737,\n",
              " 0.246888540610307,\n",
              " 0.25195906702314,\n",
              " 0.26219231123813036,\n",
              " 0.2700285793306905,\n",
              " 0.27104268461325715,\n",
              " 0.2805383977136535,\n",
              " 0.29123259887526504,\n",
              " 0.30506130727390063,\n",
              " 0.3063519867244399,\n",
              " 0.3055222642205218,\n",
              " 0.3147414031529455,\n",
              " 0.31999631234442705,\n",
              " 0.3263575182077994,\n",
              " 0.3333640637964414,\n",
              " 0.3464552410804831,\n",
              " 0.34958974831750717,\n",
              " 0.34968193970683137,\n",
              " 0.35438370056236745,\n",
              " 0.36056052364709135,\n",
              " 0.37217663870194523,\n",
              " 0.3847146676500415,\n",
              " 0.38582096432193236,\n",
              " 0.3896930026735503,\n",
              " 0.3974370793767862,\n",
              " 0.3971605052088135,\n",
              " 0.4081312805383977,\n",
              " 0.4179957591960911,\n",
              " 0.4219599889370333,\n",
              " 0.422236563105006,\n",
              " 0.4264773670139209,\n",
              " 0.43081036231216,\n",
              " 0.43477459205310226,\n",
              " 0.4486033004517378,\n",
              " 0.4590209274453766,\n",
              " 0.4497095971236287,\n",
              " 0.4601272241172675,\n",
              " 0.4604959896745644,\n",
              " 0.46888540610306995,\n",
              " 0.4729418272333364,\n",
              " 0.4783811192034664,\n",
              " 0.48372821978427216,\n",
              " 0.483267262837651,\n",
              " 0.4927629759380474,\n",
              " 0.4925785931593989,\n",
              " 0.5010602009772287,\n",
              " 0.5036415598783074,\n",
              " 0.5088964690697889,\n",
              " 0.5138748040932977,\n",
              " 0.5185765649488338,\n",
              " 0.5073292154512768,\n",
              " 0.5227251774684244,\n",
              " 0.5324974647367936,\n",
              " 0.530284871393012,\n",
              " 0.5379367567069235,\n",
              " 0.5425463261731355,\n",
              " 0.5407024983866506,\n",
              " 0.5438370056236748,\n",
              " 0.5394118189361113,\n",
              " 0.5502904028763713,\n",
              " 0.550935742601641,\n",
              " 0.5545312067852862,\n",
              " 0.5575735226329861,\n",
              " 0.5648566423896008,\n",
              " 0.5589563934728496,\n",
              " 0.5773946713376971,\n",
              " 0.5800682216280999,\n",
              " 0.5662395132294644,\n",
              " 0.583571494422421,\n",
              " 0.5844934083156633,\n",
              " 0.5880888724993085,\n",
              " 0.6021019636765926,\n",
              " 0.5890107863925509,\n",
              " 0.5989674564395685,\n",
              " 0.5989674564395685,\n",
              " 0.6072646814787499,\n",
              " 0.6066193417534802,\n",
              " 0.6057896192495621,\n",
              " 0.6008112842260532,\n",
              " 0.6095694662118558,\n",
              " 0.6127039734488798,\n",
              " 0.6254263851756245,\n",
              " 0.6260717249008942,\n",
              " 0.6198027104268461,\n",
              " 0.6253341937863004,\n",
              " 0.6336314188254817,\n",
              " 0.6360283949479119,\n",
              " 0.6323407393749424,\n",
              " 0.6441412372084447,\n",
              " 0.6388863280169632,\n",
              " 0.633354844657509,\n",
              " 0.6431271319258781,\n",
              " 0.6463538305522264,\n",
              " 0.6599059647828893,\n",
              " 0.6452475338803356,\n",
              " 0.6498571033465474,\n",
              " 0.6606434958974832,\n",
              " 0.6542822900341109,\n",
              " 0.6581543283857287,\n",
              " 0.6581543283857287,\n",
              " 0.6568636489351894,\n",
              " 0.6608278786761317,\n",
              " 0.6641467686918042,\n",
              " 0.6778832857011156,\n",
              " 0.6720752281736886,\n",
              " 0.6773301373651701,\n",
              " 0.675762883746658,\n",
              " 0.6766847976399004,\n",
              " 0.6830460035032728]"
            ]
          },
          "metadata": {},
          "execution_count": 28
        }
      ]
    },
    {
      "cell_type": "markdown",
      "source": [
        "# Update"
      ],
      "metadata": {
        "id": "Ef9YRuqgRk1a"
      }
    },
    {
      "cell_type": "code",
      "source": [
        "from sklearn.metrics import confusion_matrix, accuracy_score, ConfusionMatrixDisplay"
      ],
      "metadata": {
        "id": "IqQTKUFNjJ9M"
      },
      "execution_count": 26,
      "outputs": []
    },
    {
      "cell_type": "code",
      "source": [
        "cls_num_list=[500, 477, 455, 434, 415, 396, 378, 361, 344, 328, 314, 299, 286, 273, 260, 248, 237, 226, 216, 206, 197, 188, 179, 171, 163, 156, 149, 142, 135, 129, 123, 118, 112, 107, 102, 98, 93, 89, 85, 81, 77, 74, 70, 67, 64, 61, 58, 56, 53, 51, 48, 46, 44, 42, 40, 38, 36, 35, 33, 32, 30, 29, 27, 26, 25, 24, 23, 22, 21, 20, 19, 18, 17, 16, 15, 15, 14, 13, 13, 12, 12, 11, 11, 10, 10, 9, 9, 8, 8, 7, 7, 7, 6, 6, 6, 6, 5, 5, 5, 5]\n",
        "len(cls_num_list)\n",
        "\n",
        "temp_target=np.random.randint(100,size=5000)\n",
        "temp_pred=np.random.randint(100,size=5000)"
      ],
      "metadata": {
        "id": "56amEyXKdbN4"
      },
      "execution_count": 18,
      "outputs": []
    },
    {
      "cell_type": "code",
      "source": [
        "def compute_class_acc(cls_num_list, target, pred, model_name):\n",
        "  many_classes = [i for i, num_cls in enumerate(cls_num_list) if num_cls > 100]\n",
        "  medium_classes = [i for i, num_cls in enumerate(cls_num_list) if 20 <= num_cls <= 100]\n",
        "  few_classes = [i for i, num_cls in enumerate(cls_num_list) if num_cls < 20]\n",
        "  target_classes=[]\n",
        "  pred_classes=[]\n",
        "\n",
        "  for i in target:\n",
        "    if i in many_classes:\n",
        "      target_classes.append('1_many')\n",
        "    elif i in medium_classes:\n",
        "      target_classes.append('2_medium')\n",
        "    else:\n",
        "      target_classes.append('3_few')\n",
        "  \n",
        "  for i in pred:\n",
        "    if i in many_classes:\n",
        "      pred_classes.append('1_many')\n",
        "    elif i in medium_classes:\n",
        "      pred_classes.append('2_medium')\n",
        "    else:\n",
        "      pred_classes.append('3_few')\n",
        "\n",
        "  overall_acc=accuracy_score(target_classes, pred_classes)\n",
        "  cm_classes=confusion_matrix(target_classes, pred_classes, normalize='true')\n",
        "  print(\"Overall Accuracy = \", overall_acc)\n",
        "  print('Many/Medium/Few Accuracy:', cm_classes.diagonal())\n",
        "  # print(cm_classes)\n",
        "\n",
        "  disp=ConfusionMatrixDisplay(cm_classes,display_labels=['Many','Medium','Few'])\n",
        "  # disp=ConfusionMatrixDisplay.from_predictions(y_true=target_classes, y_pred=pred_classes, normalize='true',labels=['1_many','2_medium','3_few'], cmap='inferno')\n",
        "  disp.plot()\n",
        "  plt.title('Confusion Matrix of {} on CIFAR-100-LT'.format(model_name))\n",
        "  plt.show()\n",
        "\n",
        "\n",
        "  # many_acc=np.sum([cls_num_list[cls]*cm[cls, cls] for cls in many_classes])/np.sum([cls_num_list[cls] for cls in many_classes])\n",
        "  # medium_acc=np.sum([cls_num_list[cls]*cm[cls, cls] for cls in medium_classes])/np.sum([cls_num_list[cls] for cls in medium_classes])\n",
        "  # few_acc=np.sum([cls_num_list[cls]*cm[cls, cls] for cls in few_classes])/np.sum([cls_num_list[cls] for cls in few_classes])\n",
        "  # print(\"Many Accuracy = \", many_acc)\n",
        "  # print(\"Medium Accuracy = \", medium_acc)\n",
        "  # print(\"Few Accuracy = \", few_acc)\n",
        "  # return overall_acc, many_acc, medium_acc, few_acc\n"
      ],
      "metadata": {
        "id": "wHPLkUm-Rjxn"
      },
      "execution_count": 66,
      "outputs": []
    },
    {
      "cell_type": "code",
      "source": [
        "compute_class_acc(cls_num_list, temp_target, temp_pred, \"BCL ResNet-34\")"
      ],
      "metadata": {
        "colab": {
          "base_uri": "https://localhost:8080/",
          "height": 331
        },
        "id": "g_svg0O2rFpt",
        "outputId": "b14dd61c-618e-49aa-a94f-4ce3e2e7be31"
      },
      "execution_count": 67,
      "outputs": [
        {
          "output_type": "stream",
          "name": "stdout",
          "text": [
            "Overall Accuracy =  0.3426\n",
            "Many/Medium/Few Accuracy: [0.35426267 0.36933408 0.29654705]\n"
          ]
        },
        {
          "output_type": "display_data",
          "data": {
            "text/plain": [
              "<Figure size 432x288 with 2 Axes>"
            ],
            "image/png": "[encoded data removed]"
          },
          "metadata": {
            "needs_background": "light"
          }
        }
      ]
    },
    {
      "cell_type": "code",
      "source": [],
      "metadata": {
        "id": "MxNE_W4FrHPa"
      },
      "execution_count": null,
      "outputs": []
    }
  ],
  "metadata": {
    "colab": {
      "provenance": [],
      "collapsed_sections": [
        "k6tw3LkYGPxd",
        "RflmtK60GSN_",
        "-DlTlC8hBBmw",
        "_0DGycFXBF0U",
        "hh8pea17k6_w",
        "ZlFCoWfrjof7",
        "YbV2UGMyA-oH",
        "ry8R1yM4A-oK"
      ]
    },
    "gpuClass": "standard",
    "kernelspec": {
      "display_name": "Python 3",
      "name": "python3"
    },
    "language_info": {
      "name": "python"
    },
    "widgets": {
      "application/vnd.jupyter.widget-state+json": {
        "085a0d8ca70b4a60a27c941274d4b47c": {
          "model_module": "@jupyter-widgets/controls",
          "model_name": "HBoxModel",
          "model_module_version": "1.5.0",
          "state": {
            "_dom_classes": [],
            "_model_module": "@jupyter-widgets/controls",
            "_model_module_version": "1.5.0",
            "_model_name": "HBoxModel",
            "_view_count": null,
            "_view_module": "@jupyter-widgets/controls",
            "_view_module_version": "1.5.0",
            "_view_name": "HBoxView",
            "box_style": "",
            "children": [
              "IPY_MODEL_533a015d7ef54d219f7d1e85e5a3cb08",
              "IPY_MODEL_2ce631187b9d41b29a8e418f9f5a2d48",
              "IPY_MODEL_8cae7a88ee8442c9a8212c10635730f2"
            ],
            "layout": "IPY_MODEL_91c6e0d310d04118a078b84aa3c022c3"
          }
        },
        "533a015d7ef54d219f7d1e85e5a3cb08": {
          "model_module": "@jupyter-widgets/controls",
          "model_name": "HTMLModel",
          "model_module_version": "1.5.0",
          "state": {
            "_dom_classes": [],
            "_model_module": "@jupyter-widgets/controls",
            "_model_module_version": "1.5.0",
            "_model_name": "HTMLModel",
            "_view_count": null,
            "_view_module": "@jupyter-widgets/controls",
            "_view_module_version": "1.5.0",
            "_view_name": "HTMLView",
            "description": "",
            "description_tooltip": null,
            "layout": "IPY_MODEL_94cfe5fd819c4b29a209a698b8e33ecc",
            "placeholder": "​",
            "style": "IPY_MODEL_ef96e171c6544c5082462fc0dba56476",
            "value": "100%"
          }
        },
        "2ce631187b9d41b29a8e418f9f5a2d48": {
          "model_module": "@jupyter-widgets/controls",
          "model_name": "FloatProgressModel",
          "model_module_version": "1.5.0",
          "state": {
            "_dom_classes": [],
            "_model_module": "@jupyter-widgets/controls",
            "_model_module_version": "1.5.0",
            "_model_name": "FloatProgressModel",
            "_view_count": null,
            "_view_module": "@jupyter-widgets/controls",
            "_view_module_version": "1.5.0",
            "_view_name": "ProgressView",
            "bar_style": "success",
            "description": "",
            "description_tooltip": null,
            "layout": "IPY_MODEL_462ff03bd1b84ac897fbf61d48d0c94f",
            "max": 87319819,
            "min": 0,
            "orientation": "horizontal",
            "style": "IPY_MODEL_bf7de71be4564877b58444249fcb6c46",
            "value": 87319819
          }
        },
        "8cae7a88ee8442c9a8212c10635730f2": {
          "model_module": "@jupyter-widgets/controls",
          "model_name": "HTMLModel",
          "model_module_version": "1.5.0",
          "state": {
            "_dom_classes": [],
            "_model_module": "@jupyter-widgets/controls",
            "_model_module_version": "1.5.0",
            "_model_name": "HTMLModel",
            "_view_count": null,
            "_view_module": "@jupyter-widgets/controls",
            "_view_module_version": "1.5.0",
            "_view_name": "HTMLView",
            "description": "",
            "description_tooltip": null,
            "layout": "IPY_MODEL_91cefee4c2a8469db8f30ff437248c00",
            "placeholder": "​",
            "style": "IPY_MODEL_e1fea02003d846ba84cba0174f0599f5",
            "value": " 83.3M/83.3M [00:01&lt;00:00, 76.4MB/s]"
          }
        },
        "91c6e0d310d04118a078b84aa3c022c3": {
          "model_module": "@jupyter-widgets/base",
          "model_name": "LayoutModel",
          "model_module_version": "1.2.0",
          "state": {
            "_model_module": "@jupyter-widgets/base",
            "_model_module_version": "1.2.0",
            "_model_name": "LayoutModel",
            "_view_count": null,
            "_view_module": "@jupyter-widgets/base",
            "_view_module_version": "1.2.0",
            "_view_name": "LayoutView",
            "align_content": null,
            "align_items": null,
            "align_self": null,
            "border": null,
            "bottom": null,
            "display": null,
            "flex": null,
            "flex_flow": null,
            "grid_area": null,
            "grid_auto_columns": null,
            "grid_auto_flow": null,
            "grid_auto_rows": null,
            "grid_column": null,
            "grid_gap": null,
            "grid_row": null,
            "grid_template_areas": null,
            "grid_template_columns": null,
            "grid_template_rows": null,
            "height": null,
            "justify_content": null,
            "justify_items": null,
            "left": null,
            "margin": null,
            "max_height": null,
            "max_width": null,
            "min_height": null,
            "min_width": null,
            "object_fit": null,
            "object_position": null,
            "order": null,
            "overflow": null,
            "overflow_x": null,
            "overflow_y": null,
            "padding": null,
            "right": null,
            "top": null,
            "visibility": null,
            "width": null
          }
        },
        "94cfe5fd819c4b29a209a698b8e33ecc": {
          "model_module": "@jupyter-widgets/base",
          "model_name": "LayoutModel",
          "model_module_version": "1.2.0",
          "state": {
            "_model_module": "@jupyter-widgets/base",
            "_model_module_version": "1.2.0",
            "_model_name": "LayoutModel",
            "_view_count": null,
            "_view_module": "@jupyter-widgets/base",
            "_view_module_version": "1.2.0",
            "_view_name": "LayoutView",
            "align_content": null,
            "align_items": null,
            "align_self": null,
            "border": null,
            "bottom": null,
            "display": null,
            "flex": null,
            "flex_flow": null,
            "grid_area": null,
            "grid_auto_columns": null,
            "grid_auto_flow": null,
            "grid_auto_rows": null,
            "grid_column": null,
            "grid_gap": null,
            "grid_row": null,
            "grid_template_areas": null,
            "grid_template_columns": null,
            "grid_template_rows": null,
            "height": null,
            "justify_content": null,
            "justify_items": null,
            "left": null,
            "margin": null,
            "max_height": null,
            "max_width": null,
            "min_height": null,
            "min_width": null,
            "object_fit": null,
            "object_position": null,
            "order": null,
            "overflow": null,
            "overflow_x": null,
            "overflow_y": null,
            "padding": null,
            "right": null,
            "top": null,
            "visibility": null,
            "width": null
          }
        },
        "ef96e171c6544c5082462fc0dba56476": {
          "model_module": "@jupyter-widgets/controls",
          "model_name": "DescriptionStyleModel",
          "model_module_version": "1.5.0",
          "state": {
            "_model_module": "@jupyter-widgets/controls",
            "_model_module_version": "1.5.0",
            "_model_name": "DescriptionStyleModel",
            "_view_count": null,
            "_view_module": "@jupyter-widgets/base",
            "_view_module_version": "1.2.0",
            "_view_name": "StyleView",
            "description_width": ""
          }
        },
        "462ff03bd1b84ac897fbf61d48d0c94f": {
          "model_module": "@jupyter-widgets/base",
          "model_name": "LayoutModel",
          "model_module_version": "1.2.0",
          "state": {
            "_model_module": "@jupyter-widgets/base",
            "_model_module_version": "1.2.0",
            "_model_name": "LayoutModel",
            "_view_count": null,
            "_view_module": "@jupyter-widgets/base",
            "_view_module_version": "1.2.0",
            "_view_name": "LayoutView",
            "align_content": null,
            "align_items": null,
            "align_self": null,
            "border": null,
            "bottom": null,
            "display": null,
            "flex": null,
            "flex_flow": null,
            "grid_area": null,
            "grid_auto_columns": null,
            "grid_auto_flow": null,
            "grid_auto_rows": null,
            "grid_column": null,
            "grid_gap": null,
            "grid_row": null,
            "grid_template_areas": null,
            "grid_template_columns": null,
            "grid_template_rows": null,
            "height": null,
            "justify_content": null,
            "justify_items": null,
            "left": null,
            "margin": null,
            "max_height": null,
            "max_width": null,
            "min_height": null,
            "min_width": null,
            "object_fit": null,
            "object_position": null,
            "order": null,
            "overflow": null,
            "overflow_x": null,
            "overflow_y": null,
            "padding": null,
            "right": null,
            "top": null,
            "visibility": null,
            "width": null
          }
        },
        "bf7de71be4564877b58444249fcb6c46": {
          "model_module": "@jupyter-widgets/controls",
          "model_name": "ProgressStyleModel",
          "model_module_version": "1.5.0",
          "state": {
            "_model_module": "@jupyter-widgets/controls",
            "_model_module_version": "1.5.0",
            "_model_name": "ProgressStyleModel",
            "_view_count": null,
            "_view_module": "@jupyter-widgets/base",
            "_view_module_version": "1.2.0",
            "_view_name": "StyleView",
            "bar_color": null,
            "description_width": ""
          }
        },
        "91cefee4c2a8469db8f30ff437248c00": {
          "model_module": "@jupyter-widgets/base",
          "model_name": "LayoutModel",
          "model_module_version": "1.2.0",
          "state": {
            "_model_module": "@jupyter-widgets/base",
            "_model_module_version": "1.2.0",
            "_model_name": "LayoutModel",
            "_view_count": null,
            "_view_module": "@jupyter-widgets/base",
            "_view_module_version": "1.2.0",
            "_view_name": "LayoutView",
            "align_content": null,
            "align_items": null,
            "align_self": null,
            "border": null,
            "bottom": null,
            "display": null,
            "flex": null,
            "flex_flow": null,
            "grid_area": null,
            "grid_auto_columns": null,
            "grid_auto_flow": null,
            "grid_auto_rows": null,
            "grid_column": null,
            "grid_gap": null,
            "grid_row": null,
            "grid_template_areas": null,
            "grid_template_columns": null,
            "grid_template_rows": null,
            "height": null,
            "justify_content": null,
            "justify_items": null,
            "left": null,
            "margin": null,
            "max_height": null,
            "max_width": null,
            "min_height": null,
            "min_width": null,
            "object_fit": null,
            "object_position": null,
            "order": null,
            "overflow": null,
            "overflow_x": null,
            "overflow_y": null,
            "padding": null,
            "right": null,
            "top": null,
            "visibility": null,
            "width": null
          }
        },
        "e1fea02003d846ba84cba0174f0599f5": {
          "model_module": "@jupyter-widgets/controls",
          "model_name": "DescriptionStyleModel",
          "model_module_version": "1.5.0",
          "state": {
            "_model_module": "@jupyter-widgets/controls",
            "_model_module_version": "1.5.0",
            "_model_name": "DescriptionStyleModel",
            "_view_count": null,
            "_view_module": "@jupyter-widgets/base",
            "_view_module_version": "1.2.0",
            "_view_name": "StyleView",
            "description_width": ""
          }
        },
        "7cf68cb52151448d9df198ed0c758569": {
          "model_module": "@jupyter-widgets/controls",
          "model_name": "HBoxModel",
          "model_module_version": "1.5.0",
          "state": {
            "_dom_classes": [],
            "_model_module": "@jupyter-widgets/controls",
            "_model_module_version": "1.5.0",
            "_model_name": "HBoxModel",
            "_view_count": null,
            "_view_module": "@jupyter-widgets/controls",
            "_view_module_version": "1.5.0",
            "_view_name": "HBoxView",
            "box_style": "",
            "children": [
              "IPY_MODEL_130f1462725b47ce8bb1fdacd08a741f",
              "IPY_MODEL_2fad8b38fc494894a91e549429b936a8",
              "IPY_MODEL_4f2fdc2a491a40a690289bae6de1e970"
            ],
            "layout": "IPY_MODEL_b69b92b4b806474ebbe6082d73a1296a"
          }
        },
        "130f1462725b47ce8bb1fdacd08a741f": {
          "model_module": "@jupyter-widgets/controls",
          "model_name": "HTMLModel",
          "model_module_version": "1.5.0",
          "state": {
            "_dom_classes": [],
            "_model_module": "@jupyter-widgets/controls",
            "_model_module_version": "1.5.0",
            "_model_name": "HTMLModel",
            "_view_count": null,
            "_view_module": "@jupyter-widgets/controls",
            "_view_module_version": "1.5.0",
            "_view_name": "HTMLView",
            "description": "",
            "description_tooltip": null,
            "layout": "IPY_MODEL_3f208360ea83488ba2e0c0e2d29e55c6",
            "placeholder": "​",
            "style": "IPY_MODEL_5a166d5f3d4242fcb2a62b08c66fd3af",
            "value": "100%"
          }
        },
        "2fad8b38fc494894a91e549429b936a8": {
          "model_module": "@jupyter-widgets/controls",
          "model_name": "FloatProgressModel",
          "model_module_version": "1.5.0",
          "state": {
            "_dom_classes": [],
            "_model_module": "@jupyter-widgets/controls",
            "_model_module_version": "1.5.0",
            "_model_name": "FloatProgressModel",
            "_view_count": null,
            "_view_module": "@jupyter-widgets/controls",
            "_view_module_version": "1.5.0",
            "_view_name": "ProgressView",
            "bar_style": "success",
            "description": "",
            "description_tooltip": null,
            "layout": "IPY_MODEL_e2699a7b92ef4ecc8c44836c324cd1dc",
            "max": 170498071,
            "min": 0,
            "orientation": "horizontal",
            "style": "IPY_MODEL_1b56e7658ef1440396d740926f5a3e64",
            "value": 170498071
          }
        },
        "4f2fdc2a491a40a690289bae6de1e970": {
          "model_module": "@jupyter-widgets/controls",
          "model_name": "HTMLModel",
          "model_module_version": "1.5.0",
          "state": {
            "_dom_classes": [],
            "_model_module": "@jupyter-widgets/controls",
            "_model_module_version": "1.5.0",
            "_model_name": "HTMLModel",
            "_view_count": null,
            "_view_module": "@jupyter-widgets/controls",
            "_view_module_version": "1.5.0",
            "_view_name": "HTMLView",
            "description": "",
            "description_tooltip": null,
            "layout": "IPY_MODEL_9a686a4299e945869bc7a517395f7b0a",
            "placeholder": "​",
            "style": "IPY_MODEL_21e547e653c143efa48e1f8ce7e91759",
            "value": " 170498071/170498071 [00:02&lt;00:00, 85563154.22it/s]"
          }
        },
        "b69b92b4b806474ebbe6082d73a1296a": {
          "model_module": "@jupyter-widgets/base",
          "model_name": "LayoutModel",
          "model_module_version": "1.2.0",
          "state": {
            "_model_module": "@jupyter-widgets/base",
            "_model_module_version": "1.2.0",
            "_model_name": "LayoutModel",
            "_view_count": null,
            "_view_module": "@jupyter-widgets/base",
            "_view_module_version": "1.2.0",
            "_view_name": "LayoutView",
            "align_content": null,
            "align_items": null,
            "align_self": null,
            "border": null,
            "bottom": null,
            "display": null,
            "flex": null,
            "flex_flow": null,
            "grid_area": null,
            "grid_auto_columns": null,
            "grid_auto_flow": null,
            "grid_auto_rows": null,
            "grid_column": null,
            "grid_gap": null,
            "grid_row": null,
            "grid_template_areas": null,
            "grid_template_columns": null,
            "grid_template_rows": null,
            "height": null,
            "justify_content": null,
            "justify_items": null,
            "left": null,
            "margin": null,
            "max_height": null,
            "max_width": null,
            "min_height": null,
            "min_width": null,
            "object_fit": null,
            "object_position": null,
            "order": null,
            "overflow": null,
            "overflow_x": null,
            "overflow_y": null,
            "padding": null,
            "right": null,
            "top": null,
            "visibility": null,
            "width": null
          }
        },
        "3f208360ea83488ba2e0c0e2d29e55c6": {
          "model_module": "@jupyter-widgets/base",
          "model_name": "LayoutModel",
          "model_module_version": "1.2.0",
          "state": {
            "_model_module": "@jupyter-widgets/base",
            "_model_module_version": "1.2.0",
            "_model_name": "LayoutModel",
            "_view_count": null,
            "_view_module": "@jupyter-widgets/base",
            "_view_module_version": "1.2.0",
            "_view_name": "LayoutView",
            "align_content": null,
            "align_items": null,
            "align_self": null,
            "border": null,
            "bottom": null,
            "display": null,
            "flex": null,
            "flex_flow": null,
            "grid_area": null,
            "grid_auto_columns": null,
            "grid_auto_flow": null,
            "grid_auto_rows": null,
            "grid_column": null,
            "grid_gap": null,
            "grid_row": null,
            "grid_template_areas": null,
            "grid_template_columns": null,
            "grid_template_rows": null,
            "height": null,
            "justify_content": null,
            "justify_items": null,
            "left": null,
            "margin": null,
            "max_height": null,
            "max_width": null,
            "min_height": null,
            "min_width": null,
            "object_fit": null,
            "object_position": null,
            "order": null,
            "overflow": null,
            "overflow_x": null,
            "overflow_y": null,
            "padding": null,
            "right": null,
            "top": null,
            "visibility": null,
            "width": null
          }
        },
        "5a166d5f3d4242fcb2a62b08c66fd3af": {
          "model_module": "@jupyter-widgets/controls",
          "model_name": "DescriptionStyleModel",
          "model_module_version": "1.5.0",
          "state": {
            "_model_module": "@jupyter-widgets/controls",
            "_model_module_version": "1.5.0",
            "_model_name": "DescriptionStyleModel",
            "_view_count": null,
            "_view_module": "@jupyter-widgets/base",
            "_view_module_version": "1.2.0",
            "_view_name": "StyleView",
            "description_width": ""
          }
        },
        "e2699a7b92ef4ecc8c44836c324cd1dc": {
          "model_module": "@jupyter-widgets/base",
          "model_name": "LayoutModel",
          "model_module_version": "1.2.0",
          "state": {
            "_model_module": "@jupyter-widgets/base",
            "_model_module_version": "1.2.0",
            "_model_name": "LayoutModel",
            "_view_count": null,
            "_view_module": "@jupyter-widgets/base",
            "_view_module_version": "1.2.0",
            "_view_name": "LayoutView",
            "align_content": null,
            "align_items": null,
            "align_self": null,
            "border": null,
            "bottom": null,
            "display": null,
            "flex": null,
            "flex_flow": null,
            "grid_area": null,
            "grid_auto_columns": null,
            "grid_auto_flow": null,
            "grid_auto_rows": null,
            "grid_column": null,
            "grid_gap": null,
            "grid_row": null,
            "grid_template_areas": null,
            "grid_template_columns": null,
            "grid_template_rows": null,
            "height": null,
            "justify_content": null,
            "justify_items": null,
            "left": null,
            "margin": null,
            "max_height": null,
            "max_width": null,
            "min_height": null,
            "min_width": null,
            "object_fit": null,
            "object_position": null,
            "order": null,
            "overflow": null,
            "overflow_x": null,
            "overflow_y": null,
            "padding": null,
            "right": null,
            "top": null,
            "visibility": null,
            "width": null
          }
        },
        "1b56e7658ef1440396d740926f5a3e64": {
          "model_module": "@jupyter-widgets/controls",
          "model_name": "ProgressStyleModel",
          "model_module_version": "1.5.0",
          "state": {
            "_model_module": "@jupyter-widgets/controls",
            "_model_module_version": "1.5.0",
            "_model_name": "ProgressStyleModel",
            "_view_count": null,
            "_view_module": "@jupyter-widgets/base",
            "_view_module_version": "1.2.0",
            "_view_name": "StyleView",
            "bar_color": null,
            "description_width": ""
          }
        },
        "9a686a4299e945869bc7a517395f7b0a": {
          "model_module": "@jupyter-widgets/base",
          "model_name": "LayoutModel",
          "model_module_version": "1.2.0",
          "state": {
            "_model_module": "@jupyter-widgets/base",
            "_model_module_version": "1.2.0",
            "_model_name": "LayoutModel",
            "_view_count": null,
            "_view_module": "@jupyter-widgets/base",
            "_view_module_version": "1.2.0",
            "_view_name": "LayoutView",
            "align_content": null,
            "align_items": null,
            "align_self": null,
            "border": null,
            "bottom": null,
            "display": null,
            "flex": null,
            "flex_flow": null,
            "grid_area": null,
            "grid_auto_columns": null,
            "grid_auto_flow": null,
            "grid_auto_rows": null,
            "grid_column": null,
            "grid_gap": null,
            "grid_row": null,
            "grid_template_areas": null,
            "grid_template_columns": null,
            "grid_template_rows": null,
            "height": null,
            "justify_content": null,
            "justify_items": null,
            "left": null,
            "margin": null,
            "max_height": null,
            "max_width": null,
            "min_height": null,
            "min_width": null,
            "object_fit": null,
            "object_position": null,
            "order": null,
            "overflow": null,
            "overflow_x": null,
            "overflow_y": null,
            "padding": null,
            "right": null,
            "top": null,
            "visibility": null,
            "width": null
          }
        },
        "21e547e653c143efa48e1f8ce7e91759": {
          "model_module": "@jupyter-widgets/controls",
          "model_name": "DescriptionStyleModel",
          "model_module_version": "1.5.0",
          "state": {
            "_model_module": "@jupyter-widgets/controls",
            "_model_module_version": "1.5.0",
            "_model_name": "DescriptionStyleModel",
            "_view_count": null,
            "_view_module": "@jupyter-widgets/base",
            "_view_module_version": "1.2.0",
            "_view_name": "StyleView",
            "description_width": ""
          }
        }
      }
    }
  },
  "nbformat": 4,
  "nbformat_minor": 0
}